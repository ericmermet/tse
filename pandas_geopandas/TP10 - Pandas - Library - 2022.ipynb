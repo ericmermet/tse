{
 "cells": [
  {
   "cell_type": "markdown",
   "id": "a6bb7526",
   "metadata": {},
   "source": [
    "Official web site: http://pandas.pydata.org/\n",
    "\n",
    "Next to matplotlib for data visualization and NumPy, the fundamental library for scientific\n",
    "computing in Python, Pandas library is one of the most preferred tools for data scientists to do\n",
    "data manipulation and analysis in Python. The fast, flexible, and expressive Pandas data structures\n",
    "are designed to make real-world data analysis significantly easier."
   ]
  },
  {
   "cell_type": "markdown",
   "id": "f46c61c0",
   "metadata": {},
   "source": [
    "# Introduction\n",
    "\n",
    "TODO: First, do the pandas tutorial, available in the file Pandas Tutorial, on the Moodle\n",
    "repository. You will need to download the dataset file (Tutorial Pandas - datasetFichier) and\n",
    "unzip it in the same folder as the Jupyter Notebook you will create to do the tutorial.\n",
    "\n",
    "TODO: Once you know the basis of the pandas library, read and test the following data visualization with pandas tutorial. In the context of this classs, you can limit to the 2 first sections:\n",
    "* Basic plots: https://pandas.pydata.org/pandas-docs/stable/user_guide/visualization.html#basicplotting-plot\n",
    "1\n",
    "* Other plots: https://pandas.pydata.org/pandas-docs/stable/user_guide/visualization.html#otherplots"
   ]
  },
  {
   "cell_type": "markdown",
   "id": "d8c48d4b",
   "metadata": {},
   "source": [
    "# To go further with pandas\n",
    "\n",
    "You can find more resources and exercises here: http://pandas.pydata.org/pandas-docs/\n",
    "stable/tutorials.html#exercises-for-new-users"
   ]
  },
  {
   "cell_type": "markdown",
   "id": "c3ea5a59",
   "metadata": {},
   "source": [
    "# Exercise 1\n",
    "1. Create dataframe df from Pokemon.csv (Moodle) with Name column as index. Display general\n",
    "information about the dataframe. Display dataframe data.\n",
    "2. Display 10 first rows of df.\n",
    "3. Display ‘Type 2’ column.\n",
    "4. Replace NaN values in ‘Type 2’ column with ‘ ’.\n",
    "5. Remove columns ‘#’, ‘Sp. Atk’ and ‘Sp. Def’ from df. Try to do it with one python command.\n",
    "6. Display ‘Type 1’ and ‘Type 2’ of Bulbasaur pokemon.\n",
    "7. Display five last rows and 2 first columns of df.\n",
    "8. Display legendary pokemons with grass as ‘Type 1’.\n",
    "9. Display statistical data of first fourth columns (‘Total’, ‘HP’, ‘Attack’, ‘Defense’)\n",
    "10. Find the pokemon with the most HP\n",
    "11. Find the 3 pokemons with highest speed.\n",
    "12. Create legendary as groups of pokemons according to legendary status.\n",
    "13. Compute mean values of ‘Total’, ‘HP’, ‘Attack’, ‘Defense’ and ‘Speed’ from legendary groups.\n",
    "14. Do a scatter plot of defense according to attack. Modify this plot in order to match markers\n",
    "size with health and markers color with speed using ‘plasma’ color map.\n",
    "15. Create pie plots of Type 1 and Type 2.\n",
    "16. Display bar charts for count of ‘Type 1’ for each generation of pokemons.\n",
    "17. Display boxplot for ‘Total’ values by generation."
   ]
  },
  {
   "cell_type": "markdown",
   "id": "d89236c6",
   "metadata": {},
   "source": [
    "# Exercise 2 - Seaborn\n",
    "Seaborn is a Python data visualization library based on matplotlib."
   ]
  },
  {
   "cell_type": "markdown",
   "id": "9feb354b",
   "metadata": {},
   "source": [
    "## Seaborn in a nutschell"
   ]
  },
  {
   "cell_type": "code",
   "execution_count": 1,
   "id": "300db441",
   "metadata": {},
   "outputs": [
    {
     "data": {
      "text/html": [
       "<div>\n",
       "<style scoped>\n",
       "    .dataframe tbody tr th:only-of-type {\n",
       "        vertical-align: middle;\n",
       "    }\n",
       "\n",
       "    .dataframe tbody tr th {\n",
       "        vertical-align: top;\n",
       "    }\n",
       "\n",
       "    .dataframe thead th {\n",
       "        text-align: right;\n",
       "    }\n",
       "</style>\n",
       "<table border=\"1\" class=\"dataframe\">\n",
       "  <thead>\n",
       "    <tr style=\"text-align: right;\">\n",
       "      <th></th>\n",
       "      <th>species</th>\n",
       "      <th>island</th>\n",
       "      <th>bill_length_mm</th>\n",
       "      <th>bill_depth_mm</th>\n",
       "      <th>flipper_length_mm</th>\n",
       "      <th>body_mass_g</th>\n",
       "      <th>sex</th>\n",
       "    </tr>\n",
       "  </thead>\n",
       "  <tbody>\n",
       "    <tr>\n",
       "      <th>0</th>\n",
       "      <td>Adelie</td>\n",
       "      <td>Torgersen</td>\n",
       "      <td>39.1</td>\n",
       "      <td>18.7</td>\n",
       "      <td>181.0</td>\n",
       "      <td>3750.0</td>\n",
       "      <td>Male</td>\n",
       "    </tr>\n",
       "    <tr>\n",
       "      <th>1</th>\n",
       "      <td>Adelie</td>\n",
       "      <td>Torgersen</td>\n",
       "      <td>39.5</td>\n",
       "      <td>17.4</td>\n",
       "      <td>186.0</td>\n",
       "      <td>3800.0</td>\n",
       "      <td>Female</td>\n",
       "    </tr>\n",
       "    <tr>\n",
       "      <th>2</th>\n",
       "      <td>Adelie</td>\n",
       "      <td>Torgersen</td>\n",
       "      <td>40.3</td>\n",
       "      <td>18.0</td>\n",
       "      <td>195.0</td>\n",
       "      <td>3250.0</td>\n",
       "      <td>Female</td>\n",
       "    </tr>\n",
       "    <tr>\n",
       "      <th>3</th>\n",
       "      <td>Adelie</td>\n",
       "      <td>Torgersen</td>\n",
       "      <td>NaN</td>\n",
       "      <td>NaN</td>\n",
       "      <td>NaN</td>\n",
       "      <td>NaN</td>\n",
       "      <td>NaN</td>\n",
       "    </tr>\n",
       "    <tr>\n",
       "      <th>4</th>\n",
       "      <td>Adelie</td>\n",
       "      <td>Torgersen</td>\n",
       "      <td>36.7</td>\n",
       "      <td>19.3</td>\n",
       "      <td>193.0</td>\n",
       "      <td>3450.0</td>\n",
       "      <td>Female</td>\n",
       "    </tr>\n",
       "  </tbody>\n",
       "</table>\n",
       "</div>"
      ],
      "text/plain": [
       "  species     island  bill_length_mm  bill_depth_mm  flipper_length_mm  \\\n",
       "0  Adelie  Torgersen            39.1           18.7              181.0   \n",
       "1  Adelie  Torgersen            39.5           17.4              186.0   \n",
       "2  Adelie  Torgersen            40.3           18.0              195.0   \n",
       "3  Adelie  Torgersen             NaN            NaN                NaN   \n",
       "4  Adelie  Torgersen            36.7           19.3              193.0   \n",
       "\n",
       "   body_mass_g     sex  \n",
       "0       3750.0    Male  \n",
       "1       3800.0  Female  \n",
       "2       3250.0  Female  \n",
       "3          NaN     NaN  \n",
       "4       3450.0  Female  "
      ]
     },
     "execution_count": 1,
     "metadata": {},
     "output_type": "execute_result"
    }
   ],
   "source": [
    "# Import the seaborn library and load the penguins dataset as a dataframe.\n",
    "import seaborn as sns\n",
    "penguins = sns.load_dataset(\"penguins\")\n",
    "penguins.head()"
   ]
  },
  {
   "cell_type": "code",
   "execution_count": 2,
   "id": "649f1df8",
   "metadata": {},
   "outputs": [
    {
     "data": {
      "text/plain": [
       "<seaborn.axisgrid.FacetGrid at 0x7f11c07b1e50>"
      ]
     },
     "execution_count": 2,
     "metadata": {},
     "output_type": "execute_result"
    },
    {
     "data": {
      "image/png": "[encoded data removed]",
      "text/plain": [
       "<Figure size 1000x500 with 2 Axes>"
      ]
     },
     "metadata": {},
     "output_type": "display_data"
    }
   ],
   "source": [
    "# Example of scatter plot depending on category specified by the 'col' attribute)\n",
    "# Note: in the following script g represents the graphical object, that can then manipulated to modify its properties. \n",
    "\n",
    "g = sns.relplot(data=penguins, x=\"flipper_length_mm\", y=\"bill_length_mm\", col=\"sex\")\n",
    "\n",
    "# Set the axis labels\n",
    "g.set_axis_labels(\"Flipper length (mm)\", \"Bill length (mm)\")"
   ]
  },
  {
   "cell_type": "code",
   "execution_count": 4,
   "id": "6465ad91",
   "metadata": {},
   "outputs": [
    {
     "data": {
      "text/plain": [
       "<matplotlib.legend.Legend at 0x7f11bfca12b0>"
      ]
     },
     "execution_count": 4,
     "metadata": {},
     "output_type": "execute_result"
    }
   ],
   "source": [
    "# Display a histogram of body_mass_g columns of the penguins dataset, depending on the sex feature.\n",
    "ax = sns.countplot(x='body_mass_g' , hue='sex', data=penguins)\n",
    "\n",
    "# As the plot is too small, its size can be increased\n",
    "ax.figure.set_size_inches((15, 6))\n",
    "\n",
    "# Set the legend box, by setting the number of columns and the box title.\n",
    "ax.legend(ncol=2, title = 'Sex of penguins')"
   ]
  },
  {
   "cell_type": "markdown",
   "id": "7a429bac",
   "metadata": {},
   "source": [
    "## Questions\n",
    "Using Seaborn official site (http://seaborn.pydata.org/), tutorials such « Pandas & Seaborn -\n",
    "A guide to handle & visualize data in Python » (https://tryolabs.com/blog/2017/03/16/pandasseaborn-a-guide-to-handle-visualize-data-elegantly/), and the links providen in each question answer the following questions.\n",
    "\n",
    "1. Create dataframe df from Pokemon.csv (Moodle) with Name column as index.\n",
    "2. Display bar charts for count of ‘Type 1’ for each generation of pokemons.(See http://seaborn.pydata.org/tutorial/categorical.html and more specifically: http://seaborn.pydata.org/generated/seaborn.countplot.html#seaborn.countplot. Explore the hue parameter.)\n",
    "3. Display box plots of ‘Total’ according to generations. Repeat but with swarm plots over the box plots. (See http://seaborn.pydata.org/tutorial/categorical.html and more specifically: http://seaborn.pydata.org/generated/seaborn.boxplot.html#seaborn.boxplot)\n",
    "4. Display split violin plots of ‘Attack’ according to ‘Type 1’ for Legendary and non legendary pokemons.\n",
    "5. Remove columns ‘#’, ‘Sp. Atk’ and ‘Sp. Def’ from df. Create dataframe df2 as df without ‘Total’, ‘Generation’ and ‘Legendary’ columns. Display pair plot for each variable in df2. (See http://seaborn.pydata.org/tutorial/axis_grids.html and more specifically\n",
    "http://seaborn.pydata.org/generated/seaborn.pairplot.html#seaborn.pairplot)\n",
    "6. Display as heatmap of correlation coefficients between variables of df2. (See\n",
    "https://seaborn.pydata.org/generated/seaborn.heatmap.html)\n",
    "7. Display factor plot of ‘Attack’ according to ‘Generation’ for each type of Pokemon (‘Type 1’ variable). (See https://seaborn.pydata.org/generated/seaborn.catplot.html)"
   ]
  }
 ],
 "metadata": {
  "kernelspec": {
   "display_name": "Python 3 (ipykernel)",
   "language": "python",
   "name": "python3"
  },
  "language_info": {
   "codemirror_mode": {
    "name": "ipython",
    "version": 3
   },
   "file_extension": ".py",
   "mimetype": "text/x-python",
   "name": "python",
   "nbconvert_exporter": "python",
   "pygments_lexer": "ipython3",
   "version": "3.9.13"
  }
 },
 "nbformat": 4,
 "nbformat_minor": 5
}
