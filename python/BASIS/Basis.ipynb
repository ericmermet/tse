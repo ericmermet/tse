{
 "cells": [
  {
   "cell_type": "markdown",
   "metadata": {},
   "source": [
    "# Introduction"
   ]
  },
  {
   "cell_type": "markdown",
   "metadata": {
    "slideshow": {
     "slide_type": "-"
    }
   },
   "source": [
    "This first tutorial about Python will introduce through examples the key elements of the Python 3.X language syntax (datatypes, variables, loops, conditionals...).\n",
    "\n",
    "There are several ways and softwares to implement scripts and applications in Python:\n",
    "\n",
    " * The instructions can be executed in a Python command line,\n",
    " * The instructions can be executed from a Python editor (e.g. Spyder or PyCharm),\n",
    " * The instructions can be executed in cells of a notebook (e.g. Jupyter Notebook).\n",
    "\n",
    "In this tutorial, we will use **Jupyter Notebook**."
   ]
  },
  {
   "cell_type": "markdown",
   "metadata": {},
   "source": [
    "# Python short history\n",
    "\n",
    "- Early 1990s: Python was created by Guido van Rossum at the National Research Institute for Mathematics and Computer Science in the Netherlands.\n",
    "- February 1991: Python 0.9.0 was released, introducing features like classes with inheritance, exception handling, functions, and the core data types of list, dict, str, etc.\n",
    "- 1994: Python 1.0 was released, adding important features like lambda, map, filter, and reduce.\n",
    "- 2000: Python 2.0 was introduced. This version included many major new features like list comprehensions, garbage collection system, and Unicode support.\n",
    "- 2008: Python 3.0, a major, backward-incompatible release, was launched. It was designed to rectify fundamental design flaws in the language.\n",
    "- 2010s: Python's popularity surged, especially in data science, machine learning, and web development communities.\n",
    "- 2020: End of life for Python 2. Python 3 continued to evolve with regular updates, focusing on efficiency, security, and library enhancements.\n",
    "- Ongoing: Python remains one of the most popular programming languages, known for its simplicity and elegance, with a strong and active community continuously contributing to its development and a vast ecosystem of libraries and frameworks."
   ]
  },
  {
   "cell_type": "markdown",
   "metadata": {},
   "source": [
    "# How and Where Python is Used\n",
    "\n",
    "Python, recognized for its versatility and simplicity, is employed in various fields and applications. Here's an overview of how and where Python is used:\n",
    "\n",
    "## 1. Web Development\n",
    "- Python is widely used for **backend web development**.\n",
    "- Frameworks like **Django** and **Flask** provide tools to build secure and scalable web applications.\n",
    "- Simplifies database access, data processing, and templating.\n",
    "\n",
    "## 2. Data Science and Analytics\n",
    "- Popular in data science for libraries like **Pandas**, **NumPy**, and **SciPy**.\n",
    "- Used for **statistical analysis**, **data visualization** with libraries like Matplotlib and Seaborn, and **big data processing**.\n",
    "\n",
    "## 3. Machine Learning and Artificial Intelligence\n",
    "- Leading language in **AI and ML**.\n",
    "- Libraries like **TensorFlow**, **Keras**, and **PyTorch** provide pre-built algorithms for tasks like image and speech recognition, natural language processing, and predictive analytics.\n",
    "\n",
    "## 4. Scientific Computing\n",
    "- Used in scientific research for **simulation, modeling, and complex calculations**.\n",
    "- Libraries like **SciPy** and **NumPy** offer mathematical functions and optimizations.\n",
    "\n",
    "## 5. Automation and Scripting\n",
    "- Ideal for writing scripts to **automate repetitive tasks**.\n",
    "- Used for system administration, automating file system tasks, and parsing and processing data.\n",
    "\n",
    "## 6. Cybersecurity\n",
    "- Useful for cybersecurity tasks like **penetration testing**, **malware analysis**, and **network scanning**.\n",
    "\n",
    "## 7. Game Development\n",
    "- Used in game development for scripting and creating simple games.\n",
    "- Libraries like **Pygame** are tailored for game development.\n",
    "\n",
    "## 8. Finance and Trading\n",
    "- Used in **quantitative finance**, **algorithmic trading**, and **financial analysis**.\n",
    "- Libraries like pandas and NumPy help in analyzing financial datasets.\n",
    "\n",
    "## 9. Internet of Things (IoT)\n",
    "- Readability and simplicity make it a go-to language for IoT applications.\n",
    "- Used to develop applications that control and manage IoT devices.\n",
    "\n",
    "## 10. Educational Purpose and Hobby Programming\n",
    "- Often the first language taught in computer science courses.\n",
    "- Popular among hobbyists and students.\n",
    "\n",
    "Python's wide-ranging applicability across different domains is a testament to its flexibility, ease of use, and the robustness of its ecosystem."
   ]
  },
  {
   "cell_type": "markdown",
   "metadata": {},
   "source": [
    "# Different Ways to Use Python\n",
    "\n",
    "Python's versatility and simplicity allow it to be utilized in a variety of environments. Here's an overview of some of the different ways Python can be used:\n",
    "\n",
    "## 1. Integrated Development Environments (IDEs)\n",
    "- **Examples**: PyCharm, Visual Studio Code, Eclipse with PyDev.\n",
    "- **Features**: Comprehensive tools like code completion, debugging, syntax highlighting, and version control.\n",
    "- **Use Case**: Ideal for larger projects or professional development.\n",
    "\n",
    "## 2. Command-Line Interface (CLI)\n",
    "- **Execution**: Running Python scripts directly through command-line or terminal.\n",
    "- **Environment**: Python interpreter or Python shell.\n",
    "- **Use Case**: Suitable for quick script execution and testing small code snippets.\n",
    "\n",
    "## 3. Notebook Environments\n",
    "- **Examples**: Jupyter Notebook, Google Colab.\n",
    "- **Features**: Combine code, rich text, visualizations, equations, and media.\n",
    "- **Use Case**: Popular in data science and academic research for exploratory work and data analysis.\n",
    "\n",
    "## 4. Text Editors\n",
    "- **Examples**: Sublime Text, Atom, Notepad++.\n",
    "- **Features**: Lightweight, syntax highlighting, extensible with plugins.\n",
    "- **Use Case**: Ideal for quick edits, scripting, or a simple coding environment.\n",
    "\n",
    "## 5. Online Python Interpreters\n",
    "- **Examples**: Repl.it, PythonAnywhere.\n",
    "- **Features**: Run Python code in a browser without any setup.\n",
    "- **Use Case**: Useful for learning, teaching, sharing code snippets.\n",
    "\n",
    "## 6. Integrated Scripting Environment (ISE)\n",
    "- **Examples**: PowerShell ISE for Python scripting.\n",
    "- **Features**: Combines a script editor with a command-line console.\n",
    "- **Use Case**: Useful for automation scripts and Python integration with other scripting environments.\n",
    "\n",
    "## 7. Writing Python Code in Markdown\n",
    "- **Method**: Embedding Python code in Markdown documents, often with Jupyter Notebook.\n",
    "- **Use Case**: Ideal for tutorials, guides, or documentation combining text with executable code.\n",
    "\n",
    "Each environment caters to different needs, making Python highly accessible for a wide range of applications.\n"
   ]
  },
  {
   "cell_type": "markdown",
   "metadata": {},
   "source": [
    "# Jupyter - Start The Notebook\n",
    "\n",
    "In each **cell**, you can write Python scripts and instructions. Click on the \"Execute\" button to execute the current cell instructions and observe the output just below the cell. \n",
    "\n",
    "A next script can be written in the following cell (but the previous cells can still be modified and executed again).\n",
    "\n",
    "Variables and functions defined in a cell that has already been executed are kept in memory and can be used in the following cells.\n",
    "\n",
    "Note: files in Jupyter Notebook are saved as .ipynb files (that are Python file augmented with information related to cells. But the file can also be downloaded as Python file (.py) and can then be executed with another Python editor (e.g. Spyder)."
   ]
  },
  {
   "cell_type": "markdown",
   "metadata": {},
   "source": [
    "## Managing the Kernel\n",
    "\n",
    "Code is run in a separate process called the Kernel. The Kernel can be interrupted or restarted. Try running the following cell and then hit the  button <button class='btn btn-default btn-xs'><i class='icon-stop fa fa-stop'></i></button>in the toolbar above.\n",
    "\n",
    "The \"Cell\" menu has a number of menu items for running code in different ways. These includes:\n",
    "\n",
    "* Run and Select Below\n",
    "* Run and Insert Below\n",
    "* Run All\n",
    "* Run All Above\n",
    "* Run All Belowin the toolbar above.\n"
   ]
  },
  {
   "cell_type": "markdown",
   "metadata": {},
   "source": [
    "# Python documentation\n",
    "\n",
    "Reflex : https://docs.python.org/3/"
   ]
  },
  {
   "cell_type": "markdown",
   "metadata": {},
   "source": [
    "## Restarting the kernels\n",
    "\n",
    "The kernel maintains the state of a notebook's computations. You can reset this state by restarting the kernel. This is done by clicking on the <button class='btn btn-default btn-xs'><i class='fa fa-repeat icon-repeat'></i></button> in the toolbar above.\n",
    "\n",
    "\n",
    "Check the [documentation](https://jupyter-notebook.readthedocs.io/en/latest/examples/Notebook/Notebook%20Basics.html)."
   ]
  },
  {
   "cell_type": "markdown",
   "metadata": {},
   "source": [
    "# First steps with Python"
   ]
  },
  {
   "cell_type": "markdown",
   "metadata": {},
   "source": [
    "## Make calculations in Python"
   ]
  },
  {
   "cell_type": "markdown",
   "metadata": {},
   "source": [
    "_Try, by executing them, to understand what each instruction (uncommented) does in the examples below. Write each instruction (or set of instructions) in a cell and execute it  to observe the result. A cell will display the last evaluated expression (in Out\\[N\\]:) and all the print functions._"
   ]
  },
  {
   "cell_type": "code",
   "execution_count": 71,
   "metadata": {},
   "outputs": [
    {
     "data": {
      "text/plain": [
       "8"
      ]
     },
     "execution_count": 71,
     "metadata": {},
     "output_type": "execute_result"
    }
   ],
   "source": [
    "5+3"
   ]
  },
  {
   "cell_type": "code",
   "execution_count": 72,
   "metadata": {},
   "outputs": [
    {
     "data": {
      "text/plain": [
       "15"
      ]
     },
     "execution_count": 72,
     "metadata": {},
     "output_type": "execute_result"
    }
   ],
   "source": [
    "5*3"
   ]
  },
  {
   "cell_type": "code",
   "execution_count": 78,
   "metadata": {},
   "outputs": [
    {
     "data": {
      "text/plain": [
       "8"
      ]
     },
     "execution_count": 78,
     "metadata": {},
     "output_type": "execute_result"
    }
   ],
   "source": [
    "5**3"
   ]
  },
  {
   "cell_type": "code",
   "execution_count": 82,
   "metadata": {},
   "outputs": [
    {
     "data": {
      "text/plain": [
       "1"
      ]
     },
     "execution_count": 82,
     "metadata": {},
     "output_type": "execute_result"
    }
   ],
   "source": [
    "# declaration of a variable x with value 1 (# for comment)\n",
    "x = 1       # display x\n",
    "x"
   ]
  },
  {
   "cell_type": "code",
   "execution_count": 84,
   "metadata": {},
   "outputs": [
    {
     "data": {
      "text/plain": [
       "3"
      ]
     },
     "execution_count": 84,
     "metadata": {},
     "output_type": "execute_result"
    }
   ],
   "source": [
    "# declaration of 3 variables a, b and c of values resp. 3, 5 and 7\n",
    "a,b,c=3,5,7"
   ]
  },
  {
   "cell_type": "code",
   "execution_count": 91,
   "metadata": {},
   "outputs": [
    {
     "name": "stdout",
     "output_type": "stream",
     "text": [
      "3 5 7\n",
      "3\n"
     ]
    }
   ],
   "source": [
    "# The print  function can display the 3 variables at once\n",
    "print(a,b,c)"
   ]
  },
  {
   "cell_type": "code",
   "execution_count": 92,
   "metadata": {},
   "outputs": [
    {
     "data": {
      "text/plain": [
       "2.2857142857142856"
      ]
     },
     "execution_count": 92,
     "metadata": {},
     "output_type": "execute_result"
    }
   ],
   "source": [
    "a-b/c"
   ]
  },
  {
   "cell_type": "code",
   "execution_count": 8,
   "metadata": {},
   "outputs": [
    {
     "data": {
      "text/plain": [
       "-0.2857142857142857"
      ]
     },
     "execution_count": 8,
     "metadata": {},
     "output_type": "execute_result"
    }
   ],
   "source": [
    "(a-b)/c"
   ]
  },
  {
   "cell_type": "code",
   "execution_count": 96,
   "metadata": {},
   "outputs": [
    {
     "name": "stdout",
     "output_type": "stream",
     "text": [
      "2.3333333333333335\n",
      "2\n",
      "3\n"
     ]
    }
   ],
   "source": [
    "# The use of several print functions in a single cell makes it display several outputs.\n",
    "print(c/a)\n",
    "print(c//a)"
   ]
  },
  {
   "cell_type": "code",
   "execution_count": 97,
   "metadata": {},
   "outputs": [
    {
     "data": {
      "text/plain": [
       "5"
      ]
     },
     "execution_count": 97,
     "metadata": {},
     "output_type": "execute_result"
    }
   ],
   "source": [
    "b%c"
   ]
  },
  {
   "cell_type": "code",
   "execution_count": 101,
   "metadata": {},
   "outputs": [
    {
     "name": "stdout",
     "output_type": "stream",
     "text": [
      "0.3666666666666667\n",
      "0.0\n"
     ]
    },
    {
     "data": {
      "text/plain": [
       "1.4142135623730951"
      ]
     },
     "execution_count": 101,
     "metadata": {},
     "output_type": "execute_result"
    }
   ],
   "source": [
    "d=1.1\n",
    "print(d/a)\n",
    "print(d//a)\n",
    "\n",
    "sqrt(2)"
   ]
  },
  {
   "cell_type": "markdown",
   "metadata": {},
   "source": [
    "Many functions are provided in libraries. \n",
    "The structure `from library_name import a_function` lets you use a function defined in the _library_name_ library."
   ]
  },
  {
   "cell_type": "code",
   "execution_count": 102,
   "metadata": {},
   "outputs": [
    {
     "data": {
      "text/plain": [
       "-0.6536436208636119"
      ]
     },
     "execution_count": 102,
     "metadata": {},
     "output_type": "execute_result"
    }
   ],
   "source": [
    "# To import the function cosinus from the library of mathematical functions\n",
    "from math import *\n",
    "cos(4)"
   ]
  },
  {
   "cell_type": "markdown",
   "metadata": {},
   "source": [
    "More generally, the structure `from library_name import *` lets you use all the functions defined in the _library_name_ library."
   ]
  },
  {
   "cell_type": "code",
   "execution_count": 11,
   "metadata": {},
   "outputs": [
    {
     "data": {
      "text/plain": [
       "2.0"
      ]
     },
     "execution_count": 11,
     "metadata": {},
     "output_type": "execute_result"
    }
   ],
   "source": [
    "# To import the library of mathematical functions\n",
    "from math import * \n",
    "sqrt(4)"
   ]
  },
  {
   "cell_type": "code",
   "execution_count": 103,
   "metadata": {},
   "outputs": [
    {
     "data": {
      "text/plain": [
       "3.141592653589793"
      ]
     },
     "execution_count": 103,
     "metadata": {},
     "output_type": "execute_result"
    }
   ],
   "source": [
    "# In additition to functions, you can also use mathematical constants.\n",
    "pi"
   ]
  },
  {
   "cell_type": "markdown",
   "metadata": {},
   "source": [
    "NB: The list of functions of the math library is available there:\n",
    "https://docs.python.org/3/library/math.html#math"
   ]
  },
  {
   "cell_type": "markdown",
   "metadata": {},
   "source": [
    "## Print"
   ]
  },
  {
   "cell_type": "code",
   "execution_count": 104,
   "metadata": {},
   "outputs": [
    {
     "name": "stdout",
     "output_type": "stream",
     "text": [
      "8\n"
     ]
    }
   ],
   "source": [
    "print(a+b) # a and b are the variables from exercise 1"
   ]
  },
  {
   "cell_type": "code",
   "execution_count": 114,
   "metadata": {},
   "outputs": [
    {
     "name": "stdout",
     "output_type": "stream",
     "text": [
      "the value of 3 + 5 is : 8\n",
      "None\n"
     ]
    }
   ],
   "source": [
    "test = print(\"the value of\", a,'+',b,\"is :\", a+b)"
   ]
  },
  {
   "cell_type": "code",
   "execution_count": 119,
   "metadata": {},
   "outputs": [
    {
     "name": "stdout",
     "output_type": "stream",
     "text": [
      "John has 32 years\n",
      "John a 32 ans\n"
     ]
    }
   ],
   "source": [
    "x = 32\n",
    "nom = \"John\"\n",
    "print(nom,\"has\",x,\"years\")\n",
    "# Another way\n",
    "print(nom + \" a \" + str(x) + \" ans\")\n",
    "\n"
   ]
  },
  {
   "cell_type": "code",
   "execution_count": 120,
   "metadata": {},
   "outputs": [
    {
     "data": {
      "text/plain": [
       "32.0"
      ]
     },
     "execution_count": 120,
     "metadata": {},
     "output_type": "execute_result"
    }
   ],
   "source": [
    "float('32')"
   ]
  },
  {
   "cell_type": "markdown",
   "metadata": {},
   "source": [
    "The ease the way we can write the content of the print, Python provides the notion of f-string (formatted string literals), in which variable names can be replaced inside a string. \n",
    "A f-string is a string with `f` character before  the  first `\"`."
   ]
  },
  {
   "cell_type": "code",
   "execution_count": 17,
   "metadata": {},
   "outputs": [
    {
     "name": "stdout",
     "output_type": "stream",
     "text": [
      "John a 32 ans\n"
     ]
    }
   ],
   "source": [
    "print(f\"{nom} a {x} ans\")"
   ]
  },
  {
   "cell_type": "markdown",
   "metadata": {},
   "source": [
    "# Python langage and syntax "
   ]
  },
  {
   "cell_type": "markdown",
   "metadata": {},
   "source": [
    "## Variables "
   ]
  },
  {
   "cell_type": "markdown",
   "metadata": {},
   "source": [
    "In order to access to data, we give them a name that is call _variable_. \n",
    "In order to name a data, the assigned operator '=' is used.\n",
    "\n",
    "Run the following well (SHIFT+ENTER) in order to define three variables named: age, name and height."
   ]
  },
  {
   "cell_type": "code",
   "execution_count": 18,
   "metadata": {},
   "outputs": [],
   "source": [
    "# Par exemple: donnons la valeur 23 à la variable 'age'\n",
    "age = 23\n",
    "# Les variables peuvent se référer à divers types de données: des chaînes de caractères...\n",
    "name = 'Julien'\n",
    "# Des nombres réels, etc...\n",
    "height = 1.83"
   ]
  },
  {
   "cell_type": "markdown",
   "metadata": {},
   "source": [
    "The name of the variable is used to use the data identified by a variable. \n",
    "\n",
    "The `print()` function returns what is given as an input. Several parameters can be specified (between `,`) and they will be return separated with a space.  "
   ]
  },
  {
   "cell_type": "code",
   "execution_count": 19,
   "metadata": {},
   "outputs": [
    {
     "name": "stdout",
     "output_type": "stream",
     "text": [
      "Julien 23 1.83\n",
      "Julien is 23 years old and he is 1.83 meter\n"
     ]
    }
   ],
   "source": [
    "print('Julien', 23, 1.83)\n",
    "print(name, 'is', age, 'years old and he is', height, 'meter')"
   ]
  },
  {
   "cell_type": "markdown",
   "metadata": {},
   "source": [
    "Variables can change and thus refer to another data. "
   ]
  },
  {
   "cell_type": "code",
   "execution_count": 121,
   "metadata": {},
   "outputs": [
    {
     "name": "stdout",
     "output_type": "stream",
     "text": [
      "23\n",
      "24\n"
     ]
    }
   ],
   "source": [
    "age = 23\n",
    "print(age)\n",
    "age = 24\n",
    "print(age)"
   ]
  },
  {
   "cell_type": "markdown",
   "metadata": {},
   "source": [
    "Variables do not have a specific type, the data has a type but not the variable that refer to the data. \n",
    "As a consequence, variables can refer to data with a different type after a new assignment. \n",
    "\n",
    "The function `type()` return the effective type of the data specified in input."
   ]
  },
  {
   "cell_type": "code",
   "execution_count": 21,
   "metadata": {},
   "outputs": [
    {
     "name": "stdout",
     "output_type": "stream",
     "text": [
      "<class 'int'>\n",
      "<class 'str'>\n",
      "<class 'float'>\n",
      "<class 'str'>\n"
     ]
    }
   ],
   "source": [
    "# Numbers\n",
    "age = 23\n",
    "print(type(age))\n",
    "# Variables can also change of type: carcater string\n",
    "age = 'twenty four years old'\n",
    "print(type(age))\n",
    "# Without limit...\n",
    "age = 24.5\n",
    "print(type(age))\n",
    "# But be carefull ...\n",
    "age = '25'\n",
    "print(type(age))"
   ]
  },
  {
   "cell_type": "markdown",
   "metadata": {},
   "source": [
    "A variable can be initialized with constant values, but also from others variables ou some functions ouput, ...\n",
    "\n",
    "The function `max()` return the max of parameters."
   ]
  },
  {
   "cell_type": "code",
   "execution_count": 122,
   "metadata": {},
   "outputs": [
    {
     "name": "stdout",
     "output_type": "stream",
     "text": [
      "1 1 2 3\n"
     ]
    }
   ],
   "source": [
    "a = 1\n",
    "b = a\n",
    "c = a * 2\n",
    "d = max(a, 2, 3, c)\n",
    "print(a, b, c, d)"
   ]
  },
  {
   "cell_type": "markdown",
   "metadata": {},
   "source": [
    "Two variables can reference to the same object, modifications on one of the variables are visible by all the other ones.  "
   ]
  },
  {
   "cell_type": "code",
   "execution_count": 137,
   "metadata": {},
   "outputs": [
    {
     "name": "stdout",
     "output_type": "stream",
     "text": [
      "[1, 2] [1, 2]\n",
      "[1, 2, 'toto'] [1, 2, 'toto']\n"
     ]
    }
   ],
   "source": [
    "a = [1, 2]\n",
    "b = a\n",
    "print(a, b)\n",
    "a.append('toto')\n",
    "print(a, b)"
   ]
  },
  {
   "cell_type": "markdown",
   "metadata": {},
   "source": [
    "Variables keep existing once exectuted in a cell. \n",
    "\n",
    "**Note**\n",
    "\n",
    "When the note is started again, all existing varibles are deleted. Then, you need to excute again cells defining them in order to use them. "
   ]
  },
  {
   "cell_type": "code",
   "execution_count": 138,
   "metadata": {},
   "outputs": [],
   "source": [
    "abcd = 1234"
   ]
  },
  {
   "cell_type": "markdown",
   "metadata": {},
   "source": [
    "The variable named 'abcd' still exists in the next cells "
   ]
  },
  {
   "cell_type": "code",
   "execution_count": 139,
   "metadata": {},
   "outputs": [
    {
     "name": "stdout",
     "output_type": "stream",
     "text": [
      "1234\n"
     ]
    }
   ],
   "source": [
    "print(abcd)"
   ]
  },
  {
   "cell_type": "markdown",
   "metadata": {},
   "source": [
    "If you want to delete a variable, you can use the key word `del`"
   ]
  },
  {
   "cell_type": "code",
   "execution_count": 142,
   "metadata": {},
   "outputs": [
    {
     "name": "stdout",
     "output_type": "stream",
     "text": [
      "2\n"
     ]
    },
    {
     "ename": "NameError",
     "evalue": "name 'a' is not defined",
     "output_type": "error",
     "traceback": [
      "\u001b[1;31m---------------------------------------------------------------------------\u001b[0m",
      "\u001b[1;31mNameError\u001b[0m                                 Traceback (most recent call last)",
      "Cell \u001b[1;32mIn[142], line 5\u001b[0m\n\u001b[0;32m      3\u001b[0m \u001b[38;5;28mprint\u001b[39m(a)\n\u001b[0;32m      4\u001b[0m \u001b[38;5;28;01mdel\u001b[39;00m(a)\n\u001b[1;32m----> 5\u001b[0m \u001b[38;5;28mprint\u001b[39m(\u001b[43ma\u001b[49m)\n",
      "\u001b[1;31mNameError\u001b[0m: name 'a' is not defined"
     ]
    }
   ],
   "source": [
    "# This cell will lead to an error !\n",
    "a = 2\n",
    "print(a)\n",
    "del(a)\n",
    "print(a)"
   ]
  },
  {
   "cell_type": "markdown",
   "metadata": {},
   "source": [
    "## Data types\n",
    "### Basic types\n",
    "* None\n",
    "* Booleans\n",
    "* Numericals\n",
    "    * integer\n",
    "    * flottant\n",
    "    * complex\n",
    "### Sequences\n",
    "* Strings of characters\n",
    "* Lists\n",
    "### Containers\n",
    "* Dictionaries\n",
    "### Files\n",
    "\n",
    "### Basic type\n",
    "### None\n",
    "The type `Ǹone`represents an object with no value (equivalent to NULL in java or C). It is used as a returned value in case of error or to represent a particular case. "
   ]
  },
  {
   "cell_type": "code",
   "execution_count": 143,
   "metadata": {},
   "outputs": [
    {
     "name": "stdout",
     "output_type": "stream",
     "text": [
      "None\n",
      "<class 'NoneType'>\n"
     ]
    }
   ],
   "source": [
    "a = None\n",
    "print(a)\n",
    "print(type(a))"
   ]
  },
  {
   "cell_type": "markdown",
   "metadata": {},
   "source": [
    "### Boolean \n",
    "Boolean type can only take two values: `True`or `False`\n",
    "\n",
    "#### Example of boolean context"
   ]
  },
  {
   "cell_type": "code",
   "execution_count": 150,
   "metadata": {},
   "outputs": [
    {
     "name": "stdout",
     "output_type": "stream",
     "text": [
      "KO\n",
      "False\n",
      "<class 'bool'>\n"
     ]
    }
   ],
   "source": [
    "Am_I_OK = False\n",
    "if Am_I_OK:\n",
    "    print('OK')\n",
    "else:\n",
    "    print('KO')\n",
    "print(Am_I_OK)\n",
    "print(type(Am_I_OK))"
   ]
  },
  {
   "cell_type": "markdown",
   "metadata": {},
   "source": [
    "### Numerics: integers "
   ]
  },
  {
   "cell_type": "code",
   "execution_count": 151,
   "metadata": {},
   "outputs": [
    {
     "name": "stdout",
     "output_type": "stream",
     "text": [
      "4\n",
      "<class 'int'>\n",
      "141592653589793238462643383279502884197198097098097090980909708970870987\n",
      "<class 'int'>\n"
     ]
    }
   ],
   "source": [
    "entier = 4\n",
    "print(entier)\n",
    "print(type(entier))\n",
    "# This number needs 131 bits\n",
    "entier = 1415926535897932384626433832795028841971\n",
    "print(entier)\n",
    "print(type(entier))"
   ]
  },
  {
   "cell_type": "markdown",
   "metadata": {},
   "source": [
    "# Maximum Integer Value in Python\n",
    "\n",
    "In Python, the maximum value of an integer is determined not by the language itself, but rather by the amount of memory available on the system:\n",
    "\n",
    "- **Dynamic Sizing**: Python's integers are dynamically sized. They grow in size as required by the values they are storing.\n",
    "- **No Fixed Limit**: Unlike many other languages where integer types have a fixed size and a maximum value (e.g., \\(2^{31} - 1\\) for 32-bit signed integers), Python does not have a fixed maximum value for integers.\n",
    "- **Memory Limitation**: The only limitation is the amount of memory available. As long as your system has enough memory, you can have very large integers in Python.\n",
    "- **Performance Consideration**: While Python can handle very large integers, operations on them may become slower and they will use more memory as they grow in size.\n"
   ]
  },
  {
   "cell_type": "markdown",
   "metadata": {},
   "source": [
    "### Flottants (reals 64 bits)"
   ]
  },
  {
   "cell_type": "code",
   "execution_count": 156,
   "metadata": {
    "scrolled": true
   },
   "outputs": [
    {
     "name": "stdout",
     "output_type": "stream",
     "text": [
      "3.141592653589793\n",
      "<class 'float'>\n",
      "3.142\n",
      "<class 'float'>\n",
      "inf\n"
     ]
    }
   ],
   "source": [
    "pi_approx = 3.1415926535897932\n",
    "print(pi_approx)\n",
    "print(type(pi_approx))\n",
    "print('{:.3f}'.format(pi_approx))\n",
    "toobig = float('Infinity')\n",
    "print(type(tropgros))\n",
    "print(tropgros)"
   ]
  },
  {
   "cell_type": "markdown",
   "metadata": {},
   "source": [
    "### Complex\n",
    "\n",
    "Complex numbers with two dimensions can be created using the suffix j at the end of an integer or a real. "
   ]
  },
  {
   "cell_type": "code",
   "execution_count": 157,
   "metadata": {},
   "outputs": [
    {
     "name": "stdout",
     "output_type": "stream",
     "text": [
      "représentation : (1+2j)\n",
      "<class 'complex'>\n",
      "0.3j\n"
     ]
    }
   ],
   "source": [
    "complexe = 1 + 2j\n",
    "print('représentation :', complexe)\n",
    "print(type(complexe))\n",
    "c = .3j\n",
    "print(c)\n"
   ]
  },
  {
   "cell_type": "markdown",
   "metadata": {},
   "source": [
    "### Sequences\n",
    "\n",
    "Sequences are objects conteners in which referenced objects are ordered. \n",
    "### Character strings"
   ]
  },
  {
   "cell_type": "code",
   "execution_count": 160,
   "metadata": {},
   "outputs": [
    {
     "data": {
      "text/plain": [
       "'n'"
      ]
     },
     "execution_count": 160,
     "metadata": {},
     "output_type": "execute_result"
    }
   ],
   "source": [
    "s = \"an example of string\"\n",
    "s2 = 'another example'\n",
    "s[1] # Access to the character of index 1 (indices start at zero)"
   ]
  },
  {
   "cell_type": "code",
   "execution_count": 161,
   "metadata": {},
   "outputs": [
    {
     "name": "stdout",
     "output_type": "stream",
     "text": [
      "a a\n"
     ]
    }
   ],
   "source": [
    "print(s[0],s2[0])"
   ]
  },
  {
   "cell_type": "code",
   "execution_count": 162,
   "metadata": {},
   "outputs": [
    {
     "name": "stdout",
     "output_type": "stream",
     "text": [
      "x a\n"
     ]
    }
   ],
   "source": [
    "print(s[4],s2[0])"
   ]
  },
  {
   "cell_type": "code",
   "execution_count": 163,
   "metadata": {},
   "outputs": [
    {
     "name": "stdout",
     "output_type": "stream",
     "text": [
      "an example of string and another example\n"
     ]
    }
   ],
   "source": [
    "print(s + \" and \" + s2) # Concatenation of strings an example of string and another example"
   ]
  },
  {
   "cell_type": "code",
   "execution_count": 178,
   "metadata": {},
   "outputs": [
    {
     "data": {
      "text/plain": [
       "'an example of string and another example'"
      ]
     },
     "execution_count": 178,
     "metadata": {},
     "output_type": "execute_result"
    }
   ],
   "source": [
    "s3=s + \" and \" + s2\n",
    "s3"
   ]
  },
  {
   "cell_type": "code",
   "execution_count": 165,
   "metadata": {},
   "outputs": [
    {
     "data": {
      "text/plain": [
       "'another exampleanother example'"
      ]
     },
     "execution_count": 165,
     "metadata": {},
     "output_type": "execute_result"
    }
   ],
   "source": [
    "s2*2"
   ]
  },
  {
   "cell_type": "code",
   "execution_count": 166,
   "metadata": {},
   "outputs": [
    {
     "name": "stdout",
     "output_type": "stream",
     "text": [
      "The length of s is : 20\n"
     ]
    }
   ],
   "source": [
    "print(\"The length of s is :\", len(s))"
   ]
  },
  {
   "cell_type": "code",
   "execution_count": 167,
   "metadata": {},
   "outputs": [
    {
     "name": "stdout",
     "output_type": "stream",
     "text": [
      "an example of string and another example\n"
     ]
    },
    {
     "data": {
      "text/plain": [
       "'an '"
      ]
     },
     "execution_count": 167,
     "metadata": {},
     "output_type": "execute_result"
    }
   ],
   "source": [
    "print(s3)\n",
    "s3[0:3] # Recuperation of characters of position between 0 and 3"
   ]
  },
  {
   "cell_type": "code",
   "execution_count": 171,
   "metadata": {},
   "outputs": [
    {
     "data": {
      "text/plain": [
       "'xamp'"
      ]
     },
     "execution_count": 171,
     "metadata": {},
     "output_type": "execute_result"
    }
   ],
   "source": [
    "s3 = s3[4:8]\n",
    "s3"
   ]
  },
  {
   "cell_type": "code",
   "execution_count": 172,
   "metadata": {},
   "outputs": [
    {
     "name": "stdout",
     "output_type": "stream",
     "text": [
      "xam\n"
     ]
    }
   ],
   "source": [
    "print(s3[:3]) # Recuperation of 3 first characters"
   ]
  },
  {
   "cell_type": "code",
   "execution_count": 173,
   "metadata": {},
   "outputs": [
    {
     "name": "stdout",
     "output_type": "stream",
     "text": [
      "p\n"
     ]
    }
   ],
   "source": [
    "print(s3[3:]) # Recuperation of characters from position 3"
   ]
  },
  {
   "cell_type": "code",
   "execution_count": 175,
   "metadata": {},
   "outputs": [
    {
     "data": {
      "text/plain": [
       "'xamp'"
      ]
     },
     "execution_count": 175,
     "metadata": {},
     "output_type": "execute_result"
    }
   ],
   "source": [
    "s3[-4:] #starting by the end"
   ]
  },
  {
   "cell_type": "code",
   "execution_count": 176,
   "metadata": {},
   "outputs": [
    {
     "data": {
      "text/plain": [
       "'pmax'"
      ]
     },
     "execution_count": 176,
     "metadata": {},
     "output_type": "execute_result"
    }
   ],
   "source": [
    "s3[::-1] #Inversion of string\n"
   ]
  },
  {
   "cell_type": "code",
   "execution_count": 179,
   "metadata": {},
   "outputs": [
    {
     "data": {
      "text/plain": [
       "3"
      ]
     },
     "execution_count": 179,
     "metadata": {},
     "output_type": "execute_result"
    }
   ],
   "source": [
    "s3.find(\"example\")  # find the index of the first occurence of the string \"example\""
   ]
  },
  {
   "cell_type": "code",
   "execution_count": 180,
   "metadata": {},
   "outputs": [
    {
     "data": {
      "text/plain": [
       "'an example of chain and another example'"
      ]
     },
     "execution_count": 180,
     "metadata": {},
     "output_type": "execute_result"
    }
   ],
   "source": [
    "s3.replace(\"string\",\"chain\")"
   ]
  },
  {
   "cell_type": "markdown",
   "metadata": {},
   "source": [
    "#### Extracting words from a character string"
   ]
  },
  {
   "cell_type": "code",
   "execution_count": 185,
   "metadata": {},
   "outputs": [
    {
     "name": "stdout",
     "output_type": "stream",
     "text": [
      "['It', 'is', 'raining', 'cats', 'and', 'dogs']\n"
     ]
    }
   ],
   "source": [
    "sentence = \"It is raining cats and dogs\"\n",
    "words = sentence.split()\n",
    "print(words)"
   ]
  },
  {
   "cell_type": "markdown",
   "metadata": {},
   "source": [
    "### Lists \n",
    "\n",
    "A list is an object that can contain others objects. These objects are put inside in a sequential way, one following other. It is a dynamic container in which new elements can be added or deleted. \n",
    "\n",
    "A list is created using [] to define limit of elements. "
   ]
  },
  {
   "cell_type": "code",
   "execution_count": 188,
   "metadata": {},
   "outputs": [
    {
     "name": "stdout",
     "output_type": "stream",
     "text": [
      "['egg', 'spam', 'spam', 'spam', 'bacon'] est de type <class 'list'>\n"
     ]
    },
    {
     "data": {
      "text/plain": [
       "'egg'"
      ]
     },
     "execution_count": 188,
     "metadata": {},
     "output_type": "execute_result"
    }
   ],
   "source": [
    "L = ['egg', 'spam', 'spam', 'spam', 'bacon']\n",
    "print(L, 'est de type', type(L))\n",
    "\n",
    "L[0]"
   ]
  },
  {
   "cell_type": "markdown",
   "metadata": {},
   "source": [
    "A list can contain elements of different types "
   ]
  },
  {
   "cell_type": "code",
   "execution_count": 192,
   "metadata": {},
   "outputs": [
    {
     "name": "stdout",
     "output_type": "stream",
     "text": [
      "[1, 2] []\n",
      "[None, True, False, 0, 1, 18446744073709551616, 3.14, '', 1j, 'abc']\n",
      "[[1, 'azerty'], [1, 2]]\n"
     ]
    },
    {
     "data": {
      "text/plain": [
       "1"
      ]
     },
     "execution_count": 192,
     "metadata": {},
     "output_type": "execute_result"
    }
   ],
   "source": [
    "L0 = [1, 2]\n",
    "L2 = [None, True, False, 0, 1, 2**64, 3.14, '', 0+1j, 'abc']\n",
    "L1 = []\n",
    "L3 = [[1, 'azerty'], L0]\n",
    "print(L0, L1)\n",
    "print(L2)\n",
    "print(L3)\n"
   ]
  },
  {
   "cell_type": "markdown",
   "metadata": {},
   "source": [
    "Access to elements of a list is done using an index. Index for the first element is 0"
   ]
  },
  {
   "cell_type": "code",
   "execution_count": 74,
   "metadata": {},
   "outputs": [
    {
     "name": "stdout",
     "output_type": "stream",
     "text": [
      "egg\n",
      "bacon\n"
     ]
    }
   ],
   "source": [
    "print(L[0])\n",
    "print(L[4])"
   ]
  },
  {
   "cell_type": "code",
   "execution_count": 75,
   "metadata": {
    "scrolled": true
   },
   "outputs": [
    {
     "name": "stdout",
     "output_type": "stream",
     "text": [
      "['egg', 'tomatoes', 'spam', 'spam', 'bacon']\n",
      "['egg', 'tomatoes', 'spam', 9, 'bacon']\n"
     ]
    }
   ],
   "source": [
    "#In a list, the sequence of elements can be modified\n",
    "L[1] = 'tomatoes'\n",
    "print(L)\n",
    "L[3] = 9\n",
    "print(L)"
   ]
  },
  {
   "cell_type": "markdown",
   "metadata": {},
   "source": [
    "* The legth of a list is given by the function `len()`\n",
    "* `L.index(elem)` gives the index of the element elem (the first one encountered)\n",
    "* `L.append()`add an element at the end \n",
    "* `L.pop()`return the last element et delete it \n",
    "* `L.sort()` sort the elements\n",
    "* `L.reverse()` reverse the order"
   ]
  },
  {
   "cell_type": "markdown",
   "metadata": {},
   "source": [
    "### Manipulation of lists"
   ]
  },
  {
   "cell_type": "markdown",
   "metadata": {},
   "source": [
    "Write and test"
   ]
  },
  {
   "cell_type": "code",
   "execution_count": 193,
   "metadata": {},
   "outputs": [
    {
     "name": "stdout",
     "output_type": "stream",
     "text": [
      "['lundi', 18, 'décembre']\n"
     ]
    }
   ],
   "source": [
    "a_list=[\"lundi\", 18, \"décembre\"]\n",
    "print(a_list)"
   ]
  },
  {
   "cell_type": "code",
   "execution_count": 83,
   "metadata": {},
   "outputs": [
    {
     "name": "stdout",
     "output_type": "stream",
     "text": [
      "lundi\n",
      "décembre\n",
      "décembre\n"
     ]
    }
   ],
   "source": [
    "print(a_list[0])\n",
    "print(a_list[-1])\n",
    "print(a_list[2])"
   ]
  },
  {
   "cell_type": "code",
   "execution_count": 84,
   "metadata": {},
   "outputs": [
    {
     "data": {
      "text/plain": [
       "3"
      ]
     },
     "execution_count": 84,
     "metadata": {},
     "output_type": "execute_result"
    }
   ],
   "source": [
    "len(a_list)"
   ]
  },
  {
   "cell_type": "code",
   "execution_count": 194,
   "metadata": {},
   "outputs": [
    {
     "data": {
      "text/plain": [
       "['lundi', 18, 'décembre', 2023]"
      ]
     },
     "execution_count": 194,
     "metadata": {},
     "output_type": "execute_result"
    }
   ],
   "source": [
    "a_list.append(2023)\n",
    "a_list"
   ]
  },
  {
   "cell_type": "code",
   "execution_count": 86,
   "metadata": {},
   "outputs": [
    {
     "name": "stdout",
     "output_type": "stream",
     "text": [
      "2024\n",
      "['lundi', 18, 'décembre', 2024]\n"
     ]
    }
   ],
   "source": [
    "a_list[3] = a_list[3] + 1\n",
    "print(a_list[3])\n",
    "print(a_list)"
   ]
  },
  {
   "cell_type": "code",
   "execution_count": 195,
   "metadata": {},
   "outputs": [
    {
     "data": {
      "text/plain": [
       "[18, 'décembre', 2023]"
      ]
     },
     "execution_count": 195,
     "metadata": {},
     "output_type": "execute_result"
    }
   ],
   "source": [
    "del a_list[0]\n",
    "a_list"
   ]
  },
  {
   "cell_type": "code",
   "execution_count": 196,
   "metadata": {},
   "outputs": [
    {
     "data": {
      "text/plain": [
       "['mardi', 18, 'décembre', 2023]"
      ]
     },
     "execution_count": 196,
     "metadata": {},
     "output_type": "execute_result"
    }
   ],
   "source": [
    "a_list.insert(0,\"mardi\")\n",
    "a_list"
   ]
  },
  {
   "cell_type": "code",
   "execution_count": 89,
   "metadata": {},
   "outputs": [
    {
     "name": "stdout",
     "output_type": "stream",
     "text": [
      "True\n",
      "False\n"
     ]
    }
   ],
   "source": [
    "print(\"mardi\" in a_list)\n",
    "print(\"lundi\" in a_list)"
   ]
  },
  {
   "cell_type": "code",
   "execution_count": 90,
   "metadata": {},
   "outputs": [
    {
     "data": {
      "text/plain": [
       "0"
      ]
     },
     "execution_count": 90,
     "metadata": {},
     "output_type": "execute_result"
    }
   ],
   "source": [
    "a_list.index(\"mardi\")"
   ]
  },
  {
   "cell_type": "code",
   "execution_count": 96,
   "metadata": {},
   "outputs": [
    {
     "name": "stdout",
     "output_type": "stream",
     "text": [
      "[18, 'décembre']\n"
     ]
    }
   ],
   "source": [
    "list2 = a_list[1:3]\n",
    "print(list2)"
   ]
  },
  {
   "cell_type": "code",
   "execution_count": 97,
   "metadata": {},
   "outputs": [
    {
     "name": "stdout",
     "output_type": "stream",
     "text": [
      "['mardi', 18]\n"
     ]
    }
   ],
   "source": [
    "list3 = a_list[:2]\n",
    "print(list3)"
   ]
  },
  {
   "cell_type": "code",
   "execution_count": 98,
   "metadata": {},
   "outputs": [
    {
     "name": "stdout",
     "output_type": "stream",
     "text": [
      "[18, 'décembre', 2024]\n"
     ]
    }
   ],
   "source": [
    "list4 = a_list[1:]\n",
    "print(list4)"
   ]
  },
  {
   "cell_type": "code",
   "execution_count": 101,
   "metadata": {},
   "outputs": [
    {
     "name": "stdout",
     "output_type": "stream",
     "text": [
      "[18, 'décembre']\n"
     ]
    }
   ],
   "source": [
    "list5 = a_list[-3:-1]\n",
    "print(list5)"
   ]
  },
  {
   "cell_type": "code",
   "execution_count": 102,
   "metadata": {},
   "outputs": [
    {
     "name": "stdout",
     "output_type": "stream",
     "text": [
      "['mardi', 18, 'décembre']\n"
     ]
    }
   ],
   "source": [
    "list6 = a_list[:-1]\n",
    "print(list6)"
   ]
  },
  {
   "cell_type": "code",
   "execution_count": 103,
   "metadata": {},
   "outputs": [
    {
     "name": "stdout",
     "output_type": "stream",
     "text": [
      "['mardi', 18]\n",
      "['mardi', 18, 2011]\n"
     ]
    }
   ],
   "source": [
    "print(list3)\n",
    "list3 = list3 + [2011]\n",
    "print(list3)"
   ]
  },
  {
   "cell_type": "code",
   "execution_count": 104,
   "metadata": {},
   "outputs": [
    {
     "name": "stdout",
     "output_type": "stream",
     "text": [
      "['mardi', 18, 'décembre', 2024, 'mardi', 18, 'décembre', 2024, 'mardi', 18, 'décembre', 2024]\n"
     ]
    }
   ],
   "source": [
    "list7 = 3 * a_list\n",
    "print(list7)"
   ]
  },
  {
   "cell_type": "code",
   "execution_count": 106,
   "metadata": {},
   "outputs": [
    {
     "name": "stdout",
     "output_type": "stream",
     "text": [
      "['mardi', 18, 'décembre', 2024, 3, 4, 3, 4]\n"
     ]
    }
   ],
   "source": [
    "a_list.extend([3,4])\n",
    "print(a_list)"
   ]
  },
  {
   "cell_type": "code",
   "execution_count": 107,
   "metadata": {},
   "outputs": [
    {
     "name": "stdout",
     "output_type": "stream",
     "text": [
      "mardi\n",
      "[18, 'décembre', 2024, 3, 4, 3, 4]\n"
     ]
    }
   ],
   "source": [
    "elt = a_list.pop(0)\n",
    "print(elt)\n",
    "print(a_list)"
   ]
  },
  {
   "cell_type": "code",
   "execution_count": 108,
   "metadata": {},
   "outputs": [
    {
     "name": "stdout",
     "output_type": "stream",
     "text": [
      "[1, 42, 3]\n",
      "[1, 42, 3]\n"
     ]
    }
   ],
   "source": [
    "a_list = [1,2,3]\n",
    "list2 = a_list     # Warning list and list2 correspond to the same list!!\n",
    "a_list[1] = 42\n",
    "\n",
    "print(a_list)\n",
    "print(list2)  "
   ]
  },
  {
   "cell_type": "code",
   "execution_count": 109,
   "metadata": {},
   "outputs": [
    {
     "name": "stdout",
     "output_type": "stream",
     "text": [
      "[1, 42, 3]\n",
      "[1, 2, 3]\n"
     ]
    }
   ],
   "source": [
    "a_list = [1,2,3]\n",
    "list2 = a_list.copy()     # list2 is a copy of list\n",
    "a_list[1] = 42\n",
    "\n",
    "print(a_list)\n",
    "print(list2)"
   ]
  },
  {
   "cell_type": "code",
   "execution_count": 110,
   "metadata": {},
   "outputs": [
    {
     "name": "stdout",
     "output_type": "stream",
     "text": [
      "[1, 'ab', [1, True]]\n",
      "[1, True]\n"
     ]
    }
   ],
   "source": [
    "a_list = [1,\"ab\",[1,True]]      # imbricated list\n",
    "print(a_list)\n",
    "print(a_list[2])"
   ]
  },
  {
   "cell_type": "code",
   "execution_count": 111,
   "metadata": {},
   "outputs": [
    {
     "name": "stdout",
     "output_type": "stream",
     "text": [
      "[0, 1, 2, 3, 4, 5, 6, 7, 8, 9]\n",
      "[1, 2, 3, 4, 5, 6, 7, 8, 9]\n",
      "[1, 4, 7]\n"
     ]
    }
   ],
   "source": [
    "print(list(range(10)))\n",
    "print(list(range(1,10)))\n",
    "print(list(range(1,10,3)))"
   ]
  },
  {
   "cell_type": "markdown",
   "metadata": {},
   "source": [
    "### Dictionaries\n",
    "\n",
    "Dictionaries are containers where objects are neither ordered, neither accessible using an index. An access key is needed to use them. Dictionaries are mutable.  \n",
    "\n",
    "**Note**: a list is a set of values (that can be accessed by its index). A dictionnary is also a set of values, that can be accessed by any key.\n",
    "\n",
    "Write and test."
   ]
  },
  {
   "cell_type": "code",
   "execution_count": 197,
   "metadata": {},
   "outputs": [
    {
     "name": "stdout",
     "output_type": "stream",
     "text": [
      "{'computer': 'ordinateur', 'mouse': 'souris', 'keyboard': 'clavier'}\n"
     ]
    }
   ],
   "source": [
    "dico = {} # empty dictionnary\n",
    "dico[\"computer\"] = \"ordinateur\"\n",
    "dico[\"mouse\"] = \"souris\"\n",
    "dico[\"keyboard\"] = \"clavier\"\n",
    "print(dico)"
   ]
  },
  {
   "cell_type": "code",
   "execution_count": 198,
   "metadata": {},
   "outputs": [
    {
     "name": "stdout",
     "output_type": "stream",
     "text": [
      "dict_keys(['computer', 'mouse', 'keyboard'])\n",
      "dict_values(['ordinateur', 'souris', 'clavier'])\n",
      "dict_items([('computer', 'ordinateur'), ('mouse', 'souris'), ('keyboard', 'clavier')])\n",
      "3\n"
     ]
    }
   ],
   "source": [
    "print(dico.keys())\n",
    "print(dico.values())\n",
    "print(dico.items())\n",
    "print(len(dico))"
   ]
  },
  {
   "cell_type": "code",
   "execution_count": 201,
   "metadata": {},
   "outputs": [
    {
     "ename": "KeyError",
     "evalue": "'mouse'",
     "output_type": "error",
     "traceback": [
      "\u001b[1;31m---------------------------------------------------------------------------\u001b[0m",
      "\u001b[1;31mKeyError\u001b[0m                                  Traceback (most recent call last)",
      "Cell \u001b[1;32mIn[201], line 1\u001b[0m\n\u001b[1;32m----> 1\u001b[0m \u001b[38;5;28;01mdel\u001b[39;00m \u001b[43mdico\u001b[49m\u001b[43m[\u001b[49m\u001b[38;5;124;43m\"\u001b[39;49m\u001b[38;5;124;43mmouse\u001b[39;49m\u001b[38;5;124;43m\"\u001b[39;49m\u001b[43m]\u001b[49m\n\u001b[0;32m      2\u001b[0m \u001b[38;5;28mprint\u001b[39m(dico)\n",
      "\u001b[1;31mKeyError\u001b[0m: 'mouse'"
     ]
    }
   ],
   "source": [
    "del dico[\"mouse\"]\n",
    "print(dico)"
   ]
  },
  {
   "cell_type": "code",
   "execution_count": 115,
   "metadata": {},
   "outputs": [
    {
     "data": {
      "text/plain": [
       "True"
      ]
     },
     "execution_count": 115,
     "metadata": {},
     "output_type": "execute_result"
    }
   ],
   "source": [
    "\"computer\" in dico"
   ]
  },
  {
   "cell_type": "code",
   "execution_count": 116,
   "metadata": {},
   "outputs": [
    {
     "name": "stdout",
     "output_type": "stream",
     "text": [
      "computer\n",
      "keyboard\n"
     ]
    }
   ],
   "source": [
    "for clef in dico:\n",
    "    print(clef)"
   ]
  },
  {
   "cell_type": "code",
   "execution_count": 204,
   "metadata": {},
   "outputs": [
    {
     "name": "stdout",
     "output_type": "stream",
     "text": [
      "computer ordinateur\n",
      "keyboard clavier\n"
     ]
    }
   ],
   "source": [
    "for clef in dico:\n",
    "    print (clef, dico[clef])"
   ]
  },
  {
   "cell_type": "code",
   "execution_count": 206,
   "metadata": {},
   "outputs": [
    {
     "name": "stdout",
     "output_type": "stream",
     "text": [
      "computer ordinateur\n",
      "keyboard clavier\n"
     ]
    }
   ],
   "source": [
    "for clef, value in dico.items():\n",
    "    print(clef, value)"
   ]
  },
  {
   "cell_type": "code",
   "execution_count": 207,
   "metadata": {},
   "outputs": [
    {
     "name": "stdout",
     "output_type": "stream",
     "text": [
      "{'ordinateur': 'computer', 'souris': 'mouse'}\n"
     ]
    }
   ],
   "source": [
    "dico = {\"ordinateur\": \"computer\", \"souris\" : \"mouse\"}\n",
    "print(dico)"
   ]
  },
  {
   "cell_type": "code",
   "execution_count": 208,
   "metadata": {},
   "outputs": [
    {
     "name": "stdout",
     "output_type": "stream",
     "text": [
      "{'ordinateur': 'computer', 'souris': 'mouse'}\n",
      "{'ordinateur': 'computer', 'souris': 'mouse'}\n",
      "{'souris': 'mouse'}\n",
      "{'souris': 'mouse'}\n"
     ]
    }
   ],
   "source": [
    "dico2 = dico # Warning dico and dico2 correspond to the same dictionnary\n",
    "print(dico)\n",
    "print(dico2)\n",
    "del dico2[\"ordinateur\"]\n",
    "print(dico)\n",
    "print(dico2)"
   ]
  },
  {
   "cell_type": "code",
   "execution_count": 210,
   "metadata": {},
   "outputs": [
    {
     "name": "stdout",
     "output_type": "stream",
     "text": [
      "{'ordinateur': 'computer', 'souris': 'mouse'}\n",
      "{'ordinateur': 'computer', 'souris': 'mouse'}\n",
      "{'souris': 'mouse'}\n",
      "{'ordinateur': 'computer', 'souris': 'mouse'}\n"
     ]
    }
   ],
   "source": [
    "dico = {\"ordinateur\": \"computer\", \"souris\" : \"mouse\"}\n",
    "dico3 = dico.copy() # dico3 is a copy of referenced dictionnary by dico!\n",
    "print(dico)\n",
    "print(dico3)\n",
    "del dico[\"ordinateur\"]\n",
    "print(dico)\n",
    "print(dico3)        #  dico3 is not altered by the modification of dico"
   ]
  },
  {
   "cell_type": "markdown",
   "metadata": {},
   "source": [
    "# Loops and conditions"
   ]
  },
  {
   "cell_type": "markdown",
   "metadata": {},
   "source": [
    "**Warning about the syntax:** \n",
    "\n",
    "In Python there is not, as in some languages, an opening or closing bracket to delimit a block of instructions. \n",
    "\n",
    "The blocks of statements in Python are delimited by `:` and then tabs (or simply a space). \n",
    "\n",
    "All statements following a `:` and starting with the same number of tabs belong to the same block of instructions.\n",
    "\n",
    "**Example**\n",
    "\n",
    "Run the following code then change the `True`in `False` and observe "
   ]
  },
  {
   "cell_type": "code",
   "execution_count": 211,
   "metadata": {},
   "outputs": [
    {
     "name": "stdout",
     "output_type": "stream",
     "text": [
      "all\n",
      "the\n",
      "lines\n",
      "at the same ident level correspond to one block of code\n",
      "and when going up, block of code is ending\n"
     ]
    }
   ],
   "source": [
    "if True:\n",
    "    print(\"all\")\n",
    "    print(\"the\")\n",
    "    print(\"lines\")\n",
    "    print(\"at the same ident level correspond to one block of code\")\n",
    "print('and when going up, block of code is ending')"
   ]
  },
  {
   "cell_type": "markdown",
   "metadata": {},
   "source": [
    "## For loop"
   ]
  },
  {
   "cell_type": "code",
   "execution_count": 216,
   "metadata": {},
   "outputs": [
    {
     "name": "stdout",
     "output_type": "stream",
     "text": [
      "0\n",
      "2\n",
      "4\n",
      "6\n",
      "8\n",
      "10\n",
      "12\n",
      "14\n",
      "16\n",
      "18\n",
      "[0, 2, 4, 6, 8, 10, 12, 14, 16, 18]\n"
     ]
    }
   ],
   "source": [
    "list=[]\n",
    "for i in range(10):   # don’t forget the colon!!\n",
    "                        # range(10) provides integer numbers between 0 and 9.\n",
    "    x = 2             # Do not forget the tabulation\n",
    "    val = x*i\n",
    "    print(val)        # Do not forget the tabulation\n",
    "    list.append(val)\n",
    "print(list)"
   ]
  },
  {
   "cell_type": "markdown",
   "metadata": {},
   "source": [
    "### Exercise 1\n",
    "Write a loop that enables to calculate the sum of the 23 first integers."
   ]
  },
  {
   "cell_type": "code",
   "execution_count": 219,
   "metadata": {},
   "outputs": [
    {
     "name": "stdout",
     "output_type": "stream",
     "text": [
      "276\n"
     ]
    }
   ],
   "source": [
    "val = 0\n",
    "for i in range(24):\n",
    "    val += i\n",
    "\n",
    "print(val)"
   ]
  },
  {
   "cell_type": "code",
   "execution_count": 220,
   "metadata": {},
   "outputs": [
    {
     "data": {
      "text/plain": [
       "276"
      ]
     },
     "execution_count": 220,
     "metadata": {},
     "output_type": "execute_result"
    }
   ],
   "source": [
    "sum(range(24))"
   ]
  },
  {
   "cell_type": "markdown",
   "metadata": {},
   "source": [
    "## While loop"
   ]
  },
  {
   "cell_type": "code",
   "execution_count": 221,
   "metadata": {},
   "outputs": [
    {
     "name": "stdout",
     "output_type": "stream",
     "text": [
      "1 1 1\n",
      "2 4 8\n",
      "3 9 27\n",
      "4 16 64\n",
      "5 25 125\n",
      "6 36 216\n",
      "7 49 343\n"
     ]
    }
   ],
   "source": [
    "a=0\n",
    "while(a<7):\n",
    "    a=a+1\n",
    "    print(a, a**2,a**3)"
   ]
  },
  {
   "cell_type": "markdown",
   "metadata": {},
   "source": [
    "### Exercise 2 \n",
    "Calculates the factorial of 12 (`12!`) using a while loop."
   ]
  },
  {
   "cell_type": "code",
   "execution_count": 222,
   "metadata": {},
   "outputs": [
    {
     "name": "stdout",
     "output_type": "stream",
     "text": [
      "479001600\n"
     ]
    }
   ],
   "source": [
    "f = 1\n",
    "a = 1\n",
    "while a < 12:\n",
    "    a +=  1\n",
    "    f = f * a\n",
    "print(f)"
   ]
  },
  {
   "cell_type": "markdown",
   "metadata": {},
   "source": [
    "## Condition If/Then/Else"
   ]
  },
  {
   "cell_type": "markdown",
   "metadata": {},
   "source": [
    "Instructions if/elif/else allow to execute blocks of instructions depending on conditions\n",
    "\n",
    "    if test1:\n",
    "        <bloc d instructions 1>\n",
    "    elif test2:\n",
    "        <bloc d instructions 2>\n",
    "    else:\n",
    "        <bloc d instructions 3>"
   ]
  },
  {
   "cell_type": "code",
   "execution_count": 125,
   "metadata": {},
   "outputs": [
    {
     "name": "stdout",
     "output_type": "stream",
     "text": [
      "it it true!\n"
     ]
    }
   ],
   "source": [
    "if True:\n",
    "    print(\"it it true!\")"
   ]
  },
  {
   "cell_type": "code",
   "execution_count": 126,
   "metadata": {},
   "outputs": [
    {
     "name": "stdout",
     "output_type": "stream",
     "text": [
      "but me I am in the light...\n"
     ]
    }
   ],
   "source": [
    "if False:\n",
    "    print(\"I am hidden!\")\n",
    "else:\n",
    "    print(\"but me I am in the light...\")"
   ]
  },
  {
   "cell_type": "markdown",
   "metadata": {},
   "source": [
    "### Exercise 3 \n",
    "\n",
    "Write and test the previous code with different values of a."
   ]
  },
  {
   "cell_type": "code",
   "execution_count": 127,
   "metadata": {},
   "outputs": [
    {
     "name": "stdout",
     "output_type": "stream",
     "text": [
      "0\n"
     ]
    }
   ],
   "source": [
    "a=0\n",
    "if a==0:\n",
    "    print(\"0\")\n",
    "elif a==1:\n",
    "    print(\"1\")\n",
    "else:\n",
    "    print(\"2\")"
   ]
  },
  {
   "cell_type": "markdown",
   "metadata": {},
   "source": [
    "### Exercise 4"
   ]
  },
  {
   "cell_type": "markdown",
   "metadata": {},
   "source": [
    "**Question:** Write a program that asks the user to enter student marks. If the user enters a negative value, the program stops. On the other hand, for each mark entered, the program progressively builds a list. After each entry of a new mark (and therefore every iteration of the loop), it displays the number of marks entered, the highest mark, the lowest mark, the average of all the marks. \n",
    "\n",
    "**Tip:** \n",
    "\n",
    "* To create an empty list, it is sufficient to set the command: `line = []`.\n",
    "* You can use functions `min(li)` and `max(li)` to compute the minimum and maximum of a the list `li`.\n",
    "* You can use the function `mean(li)` (from the library statistics) to compute the average of a list `li`.   (`from statistics import mean`)\n"
   ]
  },
  {
   "cell_type": "markdown",
   "metadata": {},
   "source": [
    "# Input / Output"
   ]
  },
  {
   "cell_type": "code",
   "execution_count": 223,
   "metadata": {},
   "outputs": [
    {
     "data": {
      "text/plain": [
       "'test'"
      ]
     },
     "execution_count": 223,
     "metadata": {},
     "output_type": "execute_result"
    }
   ],
   "source": [
    "s = input()      # Do not forget to press Enter at the end of your input\n",
    "s"
   ]
  },
  {
   "cell_type": "code",
   "execution_count": 2,
   "metadata": {},
   "outputs": [
    {
     "data": {
      "text/plain": [
       "'eric'"
      ]
     },
     "execution_count": 2,
     "metadata": {},
     "output_type": "execute_result"
    }
   ],
   "source": [
    "s = input(\"Enter a sentence : \")\n",
    "s"
   ]
  },
  {
   "cell_type": "code",
   "execution_count": 3,
   "metadata": {},
   "outputs": [
    {
     "data": {
      "text/plain": [
       "25"
      ]
     },
     "execution_count": 3,
     "metadata": {},
     "output_type": "execute_result"
    }
   ],
   "source": [
    "a = int(input(\"A number: \"))        # input returns a string object, \n",
    "b = int(input(\"Another number: \"))  # it needs to be casted into an integer to be used  in computations\n",
    "\n",
    "a+b"
   ]
  },
  {
   "cell_type": "markdown",
   "metadata": {},
   "source": [
    "## Exercise 5:"
   ]
  },
  {
   "cell_type": "markdown",
   "metadata": {},
   "source": [
    "Write a script that enables to obtain the following result (it asks the user for a sentence and reverse it):\n",
    "```\n",
    "Write a sentence :  une chaine\n",
    "\n",
    "The reversed sentence is:\n",
    "eniahc enu\n",
    "```"
   ]
  },
  {
   "cell_type": "markdown",
   "metadata": {},
   "source": [
    "# Reference and adresses"
   ]
  },
  {
   "cell_type": "markdown",
   "metadata": {},
   "source": [
    "In python, everything is object, including values. Variables are references to values."
   ]
  },
  {
   "cell_type": "code",
   "execution_count": 6,
   "metadata": {},
   "outputs": [
    {
     "data": {
      "text/plain": [
       "140703292711752"
      ]
     },
     "execution_count": 6,
     "metadata": {},
     "output_type": "execute_result"
    }
   ],
   "source": [
    "id(2)     # display the adress of the value 2"
   ]
  },
  {
   "cell_type": "code",
   "execution_count": 7,
   "metadata": {},
   "outputs": [
    {
     "data": {
      "text/plain": [
       "140703292711752"
      ]
     },
     "execution_count": 7,
     "metadata": {},
     "output_type": "execute_result"
    }
   ],
   "source": [
    "b = 2\n",
    "id(b)             # the variable 'b' has the same adress than the value 2"
   ]
  },
  {
   "cell_type": "code",
   "execution_count": 8,
   "metadata": {},
   "outputs": [
    {
     "data": {
      "text/plain": [
       "140703292711752"
      ]
     },
     "execution_count": 8,
     "metadata": {},
     "output_type": "execute_result"
    }
   ],
   "source": [
    "c = b\n",
    "id(c)             # the variable 'c' has the same adress than the value 2"
   ]
  },
  {
   "cell_type": "code",
   "execution_count": 9,
   "metadata": {},
   "outputs": [
    {
     "name": "stdout",
     "output_type": "stream",
     "text": [
      "140703292711784\n",
      "140703292711784\n"
     ]
    }
   ],
   "source": [
    "c = 3\n",
    "print( id(c) )            # the address of 'c' has changed\n",
    "print( id(3) )            # 'c' has the same address as 3"
   ]
  },
  {
   "cell_type": "code",
   "execution_count": 10,
   "metadata": {},
   "outputs": [
    {
     "name": "stdout",
     "output_type": "stream",
     "text": [
      "2791281913664\n",
      "2791281966464\n"
     ]
    }
   ],
   "source": [
    "a_list = [1,2,3]\n",
    "print( id(a_list) )\n",
    "print( id([1,2,3]) ) "
   ]
  },
  {
   "cell_type": "code",
   "execution_count": 11,
   "metadata": {},
   "outputs": [
    {
     "data": {
      "text/plain": [
       "2791281913664"
      ]
     },
     "execution_count": 11,
     "metadata": {},
     "output_type": "execute_result"
    }
   ],
   "source": [
    "list2 = a_list\n",
    "id(list2)            # a_list and list2 have the same adress"
   ]
  },
  {
   "cell_type": "code",
   "execution_count": 12,
   "metadata": {},
   "outputs": [
    {
     "name": "stdout",
     "output_type": "stream",
     "text": [
      "2791281932672\n"
     ]
    }
   ],
   "source": [
    "list3 = [1,2,3]\n",
    "print( id(list3) )"
   ]
  },
  {
   "cell_type": "code",
   "execution_count": 13,
   "metadata": {},
   "outputs": [
    {
     "name": "stdout",
     "output_type": "stream",
     "text": [
      "140703292711720\n",
      "140703292711720\n",
      "140703292711720\n"
     ]
    }
   ],
   "source": [
    "print(id(a_list[0]))\n",
    "print(id(list3[0]))        # adress of list[0] and list3[0]\n",
    "print(id(1))"
   ]
  },
  {
   "cell_type": "code",
   "execution_count": 14,
   "metadata": {},
   "outputs": [
    {
     "data": {
      "text/plain": [
       "True"
      ]
     },
     "execution_count": 14,
     "metadata": {},
     "output_type": "execute_result"
    }
   ],
   "source": [
    "a_list is list2          # To test the memory identity"
   ]
  },
  {
   "cell_type": "code",
   "execution_count": 15,
   "metadata": {},
   "outputs": [
    {
     "name": "stderr",
     "output_type": "stream",
     "text": [
      "<>:1: SyntaxWarning: \"is\" with a literal. Did you mean \"==\"?\n",
      "<>:1: SyntaxWarning: \"is\" with a literal. Did you mean \"==\"?\n",
      "C:\\Users\\Eric Mermet\\AppData\\Local\\Temp\\ipykernel_44172\\1938996310.py:1: SyntaxWarning: \"is\" with a literal. Did you mean \"==\"?\n",
      "  a_list[0] is 1\n"
     ]
    },
    {
     "data": {
      "text/plain": [
       "True"
      ]
     },
     "execution_count": 15,
     "metadata": {},
     "output_type": "execute_result"
    }
   ],
   "source": [
    "a_list[0] is 1"
   ]
  },
  {
   "cell_type": "code",
   "execution_count": 16,
   "metadata": {},
   "outputs": [
    {
     "data": {
      "text/plain": [
       "False"
      ]
     },
     "execution_count": 16,
     "metadata": {},
     "output_type": "execute_result"
    }
   ],
   "source": [
    "a_list is list3       # list and list3 correspond to the same list\n",
    "                      # but at two different memory places"
   ]
  },
  {
   "cell_type": "markdown",
   "metadata": {},
   "source": [
    "# Functions"
   ]
  },
  {
   "cell_type": "markdown",
   "metadata": {},
   "source": [
    "A list of existing Python functions is available online at:\n",
    "https://docs.python.org/3/library/functions.html"
   ]
  },
  {
   "cell_type": "markdown",
   "metadata": {},
   "source": [
    "## Function without parameter"
   ]
  },
  {
   "cell_type": "markdown",
   "metadata": {},
   "source": [
    "Write and test."
   ]
  },
  {
   "cell_type": "code",
   "execution_count": 224,
   "metadata": {},
   "outputs": [],
   "source": [
    "def my_fct():\n",
    "    n = 6\n",
    "    while n > 0:\n",
    "        print(n/2,n%2)\n",
    "        n = n-1"
   ]
  },
  {
   "cell_type": "code",
   "execution_count": 225,
   "metadata": {},
   "outputs": [
    {
     "name": "stdout",
     "output_type": "stream",
     "text": [
      "3.0 0\n",
      "2.5 1\n",
      "2.0 0\n",
      "1.5 1\n",
      "1.0 0\n",
      "0.5 1\n"
     ]
    }
   ],
   "source": [
    "my_fct() # Call the function"
   ]
  },
  {
   "cell_type": "markdown",
   "metadata": {},
   "source": [
    "## Function without parameter calling another function"
   ]
  },
  {
   "cell_type": "markdown",
   "metadata": {},
   "source": [
    "Write and test."
   ]
  },
  {
   "cell_type": "code",
   "execution_count": 19,
   "metadata": {},
   "outputs": [],
   "source": [
    "def my_fct2():\n",
    "    print(\"Display the result and the remaining of the division of integer division by 10\")\n",
    "    my_fct()"
   ]
  },
  {
   "cell_type": "code",
   "execution_count": 20,
   "metadata": {},
   "outputs": [
    {
     "name": "stdout",
     "output_type": "stream",
     "text": [
      "Display the result and the remaining of the division of integer division by 10\n",
      "3.0 0\n",
      "2.5 1\n",
      "2.0 0\n",
      "1.5 1\n",
      "1.0 0\n",
      "0.5 1\n"
     ]
    }
   ],
   "source": [
    "my_fct2()"
   ]
  },
  {
   "cell_type": "markdown",
   "metadata": {},
   "source": [
    "## Function with 1 parameter"
   ]
  },
  {
   "cell_type": "markdown",
   "metadata": {},
   "source": [
    "Write and test."
   ]
  },
  {
   "cell_type": "code",
   "execution_count": 21,
   "metadata": {},
   "outputs": [],
   "source": [
    "def my_fct3(n):\n",
    "    while n>0:\n",
    "        print(n/2,n%2)\n",
    "        n=n-1"
   ]
  },
  {
   "cell_type": "code",
   "execution_count": 22,
   "metadata": {},
   "outputs": [
    {
     "name": "stdout",
     "output_type": "stream",
     "text": [
      "3.0 0\n",
      "2.5 1\n",
      "2.0 0\n",
      "1.5 1\n",
      "1.0 0\n",
      "0.5 1\n"
     ]
    }
   ],
   "source": [
    "my_fct3(6)"
   ]
  },
  {
   "cell_type": "code",
   "execution_count": 23,
   "metadata": {},
   "outputs": [
    {
     "name": "stdout",
     "output_type": "stream",
     "text": [
      "1.0 0\n",
      "0.5 1\n"
     ]
    }
   ],
   "source": [
    "my_fct3(2)"
   ]
  },
  {
   "cell_type": "markdown",
   "metadata": {},
   "source": [
    "## Function with 2 parameters"
   ]
  },
  {
   "cell_type": "markdown",
   "metadata": {},
   "source": [
    "Write and test."
   ]
  },
  {
   "cell_type": "code",
   "execution_count": 24,
   "metadata": {},
   "outputs": [],
   "source": [
    "def my_fct4(number,divisor):\n",
    "    while(number>0) :\n",
    "        print(number/divisor, number%divisor)\n",
    "        number=number-1"
   ]
  },
  {
   "cell_type": "code",
   "execution_count": 27,
   "metadata": {},
   "outputs": [
    {
     "name": "stdout",
     "output_type": "stream",
     "text": [
      "7.0 0\n",
      "6.9 9\n",
      "6.8 8\n",
      "6.7 7\n",
      "6.6 6\n",
      "6.5 5\n",
      "6.4 4\n",
      "6.3 3\n",
      "6.2 2\n",
      "6.1 1\n",
      "6.0 0\n",
      "5.9 9\n",
      "5.8 8\n",
      "5.7 7\n",
      "5.6 6\n",
      "5.5 5\n",
      "5.4 4\n",
      "5.3 3\n",
      "5.2 2\n",
      "5.1 1\n",
      "5.0 0\n",
      "4.9 9\n",
      "4.8 8\n",
      "4.7 7\n",
      "4.6 6\n",
      "4.5 5\n",
      "4.4 4\n",
      "4.3 3\n",
      "4.2 2\n",
      "4.1 1\n",
      "4.0 0\n",
      "3.9 9\n",
      "3.8 8\n",
      "3.7 7\n",
      "3.6 6\n",
      "3.5 5\n",
      "3.4 4\n",
      "3.3 3\n",
      "3.2 2\n",
      "3.1 1\n",
      "3.0 0\n",
      "2.9 9\n",
      "2.8 8\n",
      "2.7 7\n",
      "2.6 6\n",
      "2.5 5\n",
      "2.4 4\n",
      "2.3 3\n",
      "2.2 2\n",
      "2.1 1\n",
      "2.0 0\n",
      "1.9 9\n",
      "1.8 8\n",
      "1.7 7\n",
      "1.6 6\n",
      "1.5 5\n",
      "1.4 4\n",
      "1.3 3\n",
      "1.2 2\n",
      "1.1 1\n",
      "1.0 0\n",
      "0.9 9\n",
      "0.8 8\n",
      "0.7 7\n",
      "0.6 6\n",
      "0.5 5\n",
      "0.4 4\n",
      "0.3 3\n",
      "0.2 2\n",
      "0.1 1\n"
     ]
    }
   ],
   "source": [
    "my_fct4(70,10)"
   ]
  },
  {
   "cell_type": "markdown",
   "metadata": {},
   "source": [
    "## Other example of function"
   ]
  },
  {
   "cell_type": "markdown",
   "metadata": {},
   "source": [
    "Write and test."
   ]
  },
  {
   "cell_type": "code",
   "execution_count": 28,
   "metadata": {},
   "outputs": [],
   "source": [
    "def display3times(arg):\n",
    "    print(arg, arg, arg)"
   ]
  },
  {
   "cell_type": "code",
   "execution_count": 29,
   "metadata": {},
   "outputs": [
    {
     "name": "stdout",
     "output_type": "stream",
     "text": [
      "3 3 3\n",
      "exemple exemple exemple\n",
      "[3, 4] [3, 4] [3, 4]\n",
      "12 12 12\n"
     ]
    }
   ],
   "source": [
    "display3times(3)\n",
    "display3times(\"exemple\")\n",
    "display3times([3,4])\n",
    "display3times(3*4)"
   ]
  },
  {
   "cell_type": "markdown",
   "metadata": {},
   "source": [
    "## Exercise 6"
   ]
  },
  {
   "cell_type": "markdown",
   "metadata": {},
   "source": [
    "Define a function that computes the volume of a sphere and print it (the radius is a parameter of the function)."
   ]
  },
  {
   "cell_type": "code",
   "execution_count": 228,
   "metadata": {},
   "outputs": [
    {
     "data": {
      "text/plain": [
       "4188.790204786391"
      ]
     },
     "execution_count": 228,
     "metadata": {},
     "output_type": "execute_result"
    }
   ],
   "source": [
    "def volume(radius):\n",
    "    return (4/3)*pi*radius**3\n",
    "\n",
    "v = volume([10,11,12])"
   ]
  },
  {
   "cell_type": "markdown",
   "metadata": {},
   "source": [
    "## Default value of parameters"
   ]
  },
  {
   "cell_type": "markdown",
   "metadata": {},
   "source": [
    "Write and test."
   ]
  },
  {
   "cell_type": "code",
   "execution_count": 30,
   "metadata": {},
   "outputs": [],
   "source": [
    "def my_fct5(number,divisor=2):\n",
    "    while(number>0) :\n",
    "        print(number/divisor, number%divisor)\n",
    "        number=number-1"
   ]
  },
  {
   "cell_type": "code",
   "execution_count": 31,
   "metadata": {},
   "outputs": [
    {
     "name": "stdout",
     "output_type": "stream",
     "text": [
      "2.0 0\n",
      "1.5 1\n",
      "1.0 0\n",
      "0.5 1\n"
     ]
    }
   ],
   "source": [
    "my_fct5(4)"
   ]
  },
  {
   "cell_type": "code",
   "execution_count": 33,
   "metadata": {},
   "outputs": [
    {
     "name": "stdout",
     "output_type": "stream",
     "text": [
      "1.3333333333333333 1\n",
      "1.0 0\n",
      "0.6666666666666666 2\n",
      "0.3333333333333333 1\n"
     ]
    }
   ],
   "source": [
    "my_fct5(4,3)"
   ]
  },
  {
   "cell_type": "markdown",
   "metadata": {},
   "source": [
    "Write and test."
   ]
  },
  {
   "cell_type": "code",
   "execution_count": 34,
   "metadata": {},
   "outputs": [],
   "source": [
    "def my_fct6(number=6,divisor=2):\n",
    "    while(number>0) :\n",
    "        print(number/divisor, number%divisor)\n",
    "        number=number-1"
   ]
  },
  {
   "cell_type": "code",
   "execution_count": 35,
   "metadata": {},
   "outputs": [
    {
     "name": "stdout",
     "output_type": "stream",
     "text": [
      "3.0 0\n",
      "2.5 1\n",
      "2.0 0\n",
      "1.5 1\n",
      "1.0 0\n",
      "0.5 1\n"
     ]
    }
   ],
   "source": [
    "my_fct6()"
   ]
  },
  {
   "cell_type": "code",
   "execution_count": 36,
   "metadata": {},
   "outputs": [
    {
     "name": "stdout",
     "output_type": "stream",
     "text": [
      "3.0 0\n",
      "2.5 1\n",
      "2.0 0\n",
      "1.5 1\n",
      "1.0 0\n",
      "0.5 1\n"
     ]
    }
   ],
   "source": [
    "my_fct6(6)"
   ]
  },
  {
   "cell_type": "code",
   "execution_count": 37,
   "metadata": {},
   "outputs": [
    {
     "name": "stdout",
     "output_type": "stream",
     "text": [
      "3.0 0\n",
      "2.5 1\n",
      "2.0 0\n",
      "1.5 1\n",
      "1.0 0\n",
      "0.5 1\n"
     ]
    }
   ],
   "source": [
    "my_fct6(6,2)"
   ]
  },
  {
   "cell_type": "markdown",
   "metadata": {},
   "source": [
    "## Returned value"
   ]
  },
  {
   "cell_type": "markdown",
   "metadata": {},
   "source": [
    "Write and test.\n",
    "\n",
    "_Note: a function is dedicated to compute values and returns a value (this value can be used in the next instructions of the script)._"
   ]
  },
  {
   "cell_type": "code",
   "execution_count": 38,
   "metadata": {},
   "outputs": [],
   "source": [
    "def product(n,p):\n",
    "    return n*p"
   ]
  },
  {
   "cell_type": "code",
   "execution_count": 39,
   "metadata": {},
   "outputs": [
    {
     "data": {
      "text/plain": [
       "18"
      ]
     },
     "execution_count": 39,
     "metadata": {},
     "output_type": "execute_result"
    }
   ],
   "source": [
    "a = product(3,6)\n",
    "a"
   ]
  },
  {
   "cell_type": "markdown",
   "metadata": {},
   "source": [
    "## Exercise 7"
   ]
  },
  {
   "cell_type": "markdown",
   "metadata": {},
   "source": [
    "Write a function that computes the sum of the integers passed in parameters."
   ]
  },
  {
   "cell_type": "markdown",
   "metadata": {},
   "source": [
    "In Python there are two types of objects: mutable such as lists, dictionaries, etc., which can be modified after their creation, and the immutable such as strings, int, floats, tuples, etc., which cannot be modified after their creation."
   ]
  },
  {
   "cell_type": "markdown",
   "metadata": {},
   "source": [
    "Type the code for these functions into a file, run it and analyze the result."
   ]
  },
  {
   "cell_type": "code",
   "execution_count": 40,
   "metadata": {},
   "outputs": [],
   "source": [
    "def incr(a):\n",
    "    print(\"adresse a: \",id(a))\n",
    "    a = a+1\n",
    "    print(\"Dans la fonction a =\",a)\n",
    "\n",
    "def add(l):\n",
    "    l = l.append(5)"
   ]
  },
  {
   "cell_type": "code",
   "execution_count": 41,
   "metadata": {},
   "outputs": [
    {
     "name": "stdout",
     "output_type": "stream",
     "text": [
      "adresse a:  140703292711784\n",
      "adresse a:  140703292711784\n",
      "Dans la fonction a = 4\n",
      "Apres l’appel a= 3\n"
     ]
    }
   ],
   "source": [
    "a = 3\n",
    "print(\"adresse a: \",id(a))\n",
    "incr(a)\n",
    "print(\"Apres l’appel a=\",a)"
   ]
  },
  {
   "cell_type": "code",
   "execution_count": 42,
   "metadata": {},
   "outputs": [
    {
     "name": "stdout",
     "output_type": "stream",
     "text": [
      "l=:  [1, 2, 3, 5]\n"
     ]
    }
   ],
   "source": [
    "l=[1,2,3]\n",
    "add(l)\n",
    "print(\"l=: \",l)"
   ]
  },
  {
   "cell_type": "markdown",
   "metadata": {},
   "source": [
    "## Wrong exchange function"
   ]
  },
  {
   "cell_type": "code",
   "execution_count": 43,
   "metadata": {},
   "outputs": [],
   "source": [
    "def exchange(a,b):\n",
    "    print(\"adresses of parametres : \", id(a),id(b))\n",
    "    c=a\n",
    "    a=b\n",
    "    b=c"
   ]
  },
  {
   "cell_type": "code",
   "execution_count": 44,
   "metadata": {},
   "outputs": [
    {
     "name": "stdout",
     "output_type": "stream",
     "text": [
      "adresses of x and y :  140703292711752 140703292711784\n",
      "adresses of parametres :  140703292711752 140703292711784\n",
      "x= 2\n",
      "y= 3\n"
     ]
    }
   ],
   "source": [
    "x,y = 2,3\n",
    "print(\"adresses of x and y : \", id(x),id(y))\n",
    "exchange(x,y)\n",
    "print(\"x=\",x)\n",
    "print(\"y=\",y)"
   ]
  },
  {
   "cell_type": "markdown",
   "metadata": {},
   "source": [
    "If you run the previous code, you will see that the variables x and y have not been exchanged\n",
    "because they are non-immutable variables."
   ]
  },
  {
   "cell_type": "markdown",
   "metadata": {},
   "source": [
    "## An exchange function that works"
   ]
  },
  {
   "cell_type": "code",
   "execution_count": 45,
   "metadata": {},
   "outputs": [],
   "source": [
    "def exchange2(a,b):\n",
    "    c = a\n",
    "    a = b\n",
    "    b = c\n",
    "    return a,b"
   ]
  },
  {
   "cell_type": "code",
   "execution_count": 46,
   "metadata": {},
   "outputs": [
    {
     "name": "stdout",
     "output_type": "stream",
     "text": [
      "x = 3\n",
      "y = 2\n"
     ]
    }
   ],
   "source": [
    "x,y = 2,3\n",
    "x,y = exchange2(x,y)    # values of x and y have been exchanged as\n",
    "                        # their values are modified there\n",
    "print(\"x =\",x)\n",
    "print(\"y =\",y)"
   ]
  },
  {
   "cell_type": "markdown",
   "metadata": {},
   "source": [
    "## Anonymous function"
   ]
  },
  {
   "cell_type": "markdown",
   "metadata": {},
   "source": [
    "Write and test."
   ]
  },
  {
   "cell_type": "code",
   "execution_count": 47,
   "metadata": {},
   "outputs": [
    {
     "name": "stdout",
     "output_type": "stream",
     "text": [
      "64\n"
     ]
    }
   ],
   "source": [
    "def f (x): \n",
    "    return x**2\n",
    "print(f(8))"
   ]
  },
  {
   "cell_type": "code",
   "execution_count": 48,
   "metadata": {},
   "outputs": [
    {
     "name": "stdout",
     "output_type": "stream",
     "text": [
      "64\n"
     ]
    }
   ],
   "source": [
    "g = lambda x: x**2\n",
    "print(g(8))"
   ]
  },
  {
   "cell_type": "code",
   "execution_count": 49,
   "metadata": {},
   "outputs": [
    {
     "data": {
      "text/plain": [
       "64"
      ]
     },
     "execution_count": 49,
     "metadata": {},
     "output_type": "execute_result"
    }
   ],
   "source": [
    "(lambda x: x**2)(8)"
   ]
  },
  {
   "cell_type": "code",
   "execution_count": 51,
   "metadata": {},
   "outputs": [],
   "source": [
    "def make_incrementor (n): \n",
    "    return lambda x: x + n"
   ]
  },
  {
   "cell_type": "code",
   "execution_count": 54,
   "metadata": {},
   "outputs": [
    {
     "name": "stdout",
     "output_type": "stream",
     "text": [
      "44 48\n",
      "55\n"
     ]
    }
   ],
   "source": [
    "f = make_incrementor(2)\n",
    "g = make_incrementor(6)\n",
    "print(f(42), g(42))\n",
    "print(make_incrementor(22)(33))"
   ]
  },
  {
   "cell_type": "markdown",
   "metadata": {},
   "source": [
    "# Files"
   ]
  },
  {
   "cell_type": "markdown",
   "metadata": {},
   "source": [
    "## Change the working directory of the interpreter"
   ]
  },
  {
   "cell_type": "code",
   "execution_count": 55,
   "metadata": {},
   "outputs": [],
   "source": [
    "from os import chdir\n",
    "chdir(\"./\")"
   ]
  },
  {
   "cell_type": "markdown",
   "metadata": {},
   "source": [
    "## Manipulating files"
   ]
  },
  {
   "cell_type": "markdown",
   "metadata": {},
   "source": [
    "The `open` function allows to open a file, in  order to read from it or to write in it.\n",
    "\n",
    "Write and test."
   ]
  },
  {
   "cell_type": "code",
   "execution_count": 1,
   "metadata": {},
   "outputs": [],
   "source": [
    "f = open(\"test.txt\",\"w\")   # to open a file in write mode\n",
    "f.write(\"Hello\\n\")         # to write in a file\n",
    "f.write(\"This is a test to write in a file\")\n",
    "f.close()       # To close the file\n",
    "                # check the file in a text editor"
   ]
  },
  {
   "cell_type": "code",
   "execution_count": 16,
   "metadata": {},
   "outputs": [
    {
     "name": "stdout",
     "output_type": "stream",
     "text": [
      "Hello\n",
      "This is a test to write in a file\n",
      "End\n"
     ]
    }
   ],
   "source": [
    "f = open(\"test.txt\",\"r\") # to open a file in read mode\n",
    "b = f.read() # To read the whole file\n",
    "print(b)\n",
    "f.close() # To close the file"
   ]
  },
  {
   "cell_type": "code",
   "execution_count": 3,
   "metadata": {},
   "outputs": [
    {
     "name": "stdout",
     "output_type": "stream",
     "text": [
      "Hel\n"
     ]
    }
   ],
   "source": [
    "f = open(\"test.txt\",\"r\") # to open a file in read mode\n",
    "b=f.read(3) # To read 3 characters\n",
    "# from the current position of the cursor\n",
    "print(b)\n",
    "f.close()"
   ]
  },
  {
   "cell_type": "code",
   "execution_count": 8,
   "metadata": {},
   "outputs": [
    {
     "name": "stdout",
     "output_type": "stream",
     "text": [
      "Hello\n",
      "\n",
      "This is a test to write in a file\n"
     ]
    }
   ],
   "source": [
    "f = open(\"test.txt\",\"r\")\n",
    "b = f.readline() # To read a line in the file\n",
    "print(b)\n",
    "b = f.readline() # To read a line in the file\n",
    "print(b)\n",
    "f.close()"
   ]
  },
  {
   "cell_type": "code",
   "execution_count": 9,
   "metadata": {},
   "outputs": [
    {
     "name": "stdout",
     "output_type": "stream",
     "text": [
      "['Hello\\n', 'This is a test to write in a file']\n"
     ]
    }
   ],
   "source": [
    "f = open(\"test.txt\",\"r\")\n",
    "b = f.readlines() # To read all the lines and store them in a list\n",
    "print(b)\n",
    "f.close()"
   ]
  },
  {
   "cell_type": "code",
   "execution_count": 10,
   "metadata": {},
   "outputs": [],
   "source": [
    "f = open(\"test.txt\",\"a\") # To open a file in add mode\n",
    "f.write(\"\\nEnd\")\n",
    "f.close()"
   ]
  },
  {
   "cell_type": "code",
   "execution_count": 11,
   "metadata": {},
   "outputs": [
    {
     "name": "stdout",
     "output_type": "stream",
     "text": [
      "3\n",
      "['Hello\\n', 'This is a test to write in a file\\n', 'End']\n"
     ]
    }
   ],
   "source": [
    "f=open(\"test.txt\",\"r\")\n",
    "b = f.readlines()\n",
    "print(len(b))\n",
    "print(b)\n",
    "f.close()"
   ]
  },
  {
   "cell_type": "code",
   "execution_count": 18,
   "metadata": {},
   "outputs": [
    {
     "name": "stdout",
     "output_type": "stream",
     "text": [
      "Hello\n",
      "This is a test to write in a file\n",
      "End\n",
      "===> END of the first reading\n",
      "Hello\n",
      "This is a test to write in a file\n",
      "End\n",
      "===> END of the second reading\n"
     ]
    }
   ],
   "source": [
    "f = open(\"test.txt\",\"r\")\n",
    "print(f.read())      # To read all the file\n",
    "print(\"===> END of the first reading\")\n",
    "f.close()\n",
    "f = open(\"test.txt\",\"r\")\n",
    "print(f.read())\n",
    "print(\"===> END of the second reading\")"
   ]
  },
  {
   "cell_type": "markdown",
   "metadata": {},
   "source": [
    "## Copying files"
   ]
  },
  {
   "cell_type": "code",
   "execution_count": 21,
   "metadata": {},
   "outputs": [],
   "source": [
    "def copyP(pathRead, pathPaste):\n",
    "    f = open(pathRead,'r') # to open a file in write mode\n",
    "    b = f.readlines() # To read all the lines and store them in a list\n",
    "    f.close()\n",
    "    print(b)\n",
    "    f = open(pathPaste,'w')\n",
    "    for i in range(0,len(b)):\n",
    "        f.write(b[i])\n",
    "    f.close()"
   ]
  },
  {
   "cell_type": "code",
   "execution_count": 22,
   "metadata": {},
   "outputs": [
    {
     "name": "stdout",
     "output_type": "stream",
     "text": [
      "['Hello\\n', 'This is a test to write in a file\\n', 'End']\n"
     ]
    }
   ],
   "source": [
    "from os import chdir\n",
    "chdir(\"./\")\n",
    "\n",
    "copyP('test.txt','test3.txt')"
   ]
  }
 ],
 "metadata": {
  "celltoolbar": "Format de la Cellule Texte Brut",
  "kernelspec": {
   "display_name": "Python 3 (ipykernel)",
   "language": "python",
   "name": "python3"
  },
  "language_info": {
   "codemirror_mode": {
    "name": "ipython",
    "version": 3
   },
   "file_extension": ".py",
   "mimetype": "text/x-python",
   "name": "python",
   "nbconvert_exporter": "python",
   "pygments_lexer": "ipython3",
   "version": "3.11.3"
  }
 },
 "nbformat": 4,
 "nbformat_minor": 4
}
