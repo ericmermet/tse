{
 "cells": [
  {
   "cell_type": "markdown",
   "id": "a141effa",
   "metadata": {},
   "source": [
    "# Numpy and Scipy"
   ]
  },
  {
   "cell_type": "markdown",
   "id": "1112774b",
   "metadata": {},
   "source": [
    "From official Numpy site (http://www.numpy.org):\n",
    "NumPy is the fundamental package for scientific computing with Python. It contains among other\n",
    "things:\n",
    "\n",
    "* a powerful N-dimensional array object,\n",
    "* sophisticated (broadcasting) functions,\n",
    "* `ufunc` fast array mathematical operations.\n",
    "* tools for integrating C/C++ and Fortran code,\n",
    "* useful linear algebra, Fourier transform, and random number capabilities.\n",
    "\n",
    "Besides its obvious scientific uses, NumPy can also be used as an efficient multi-dimensional container of generic data. Arbitrary data-types can be defined. This allows NumPy to seamlessly and speedily integrate with a wide variety of databases."
   ]
  },
  {
   "cell_type": "markdown",
   "id": "c64a85df",
   "metadata": {},
   "source": [
    "# Load Numpy (or install it if needed)"
   ]
  },
  {
   "cell_type": "markdown",
   "id": "4469a0ef",
   "metadata": {},
   "source": [
    "To use Numpy, you must import NumPy:"
   ]
  },
  {
   "cell_type": "code",
   "execution_count": 1,
   "id": "ac8622a3",
   "metadata": {},
   "outputs": [
    {
     "name": "stdout",
     "output_type": "stream",
     "text": [
      "1.24.3\n"
     ]
    }
   ],
   "source": [
    "import numpy as np\n",
    "print(np.__version__)"
   ]
  },
  {
   "cell_type": "markdown",
   "id": "ad7de3ce",
   "metadata": {},
   "source": [
    "# How to create arrays with Numpy\n",
    "## From Python lists and sequences:\n",
    "There are important differences between NumPy arrays and Python lists:\n",
    "* NumPy arrays have a fixed size at creation.\n",
    "* NumPy arrays elements are all required to be of the same data type.\n",
    "* NumPy arrays operations are performed in compiled code for performance.\n",
    "* Most of today's scientific/mathematical Python-based software use NumPy arrays.\n",
    "* NumPy gives us the code simplicity of Python, but the operation is speedily executed by pre-compiled C code."
   ]
  },
  {
   "cell_type": "code",
   "execution_count": 2,
   "id": "04e2ca72",
   "metadata": {},
   "outputs": [
    {
     "data": {
      "text/plain": [
       "array([1, 2, 3])"
      ]
     },
     "execution_count": 2,
     "metadata": {},
     "output_type": "execute_result"
    }
   ],
   "source": [
    "#1D array\n",
    "np.array([1,2,3])"
   ]
  },
  {
   "cell_type": "code",
   "execution_count": 3,
   "id": "ac716880",
   "metadata": {},
   "outputs": [
    {
     "data": {
      "text/plain": [
       "array([[5. , 3. , 7.5],\n",
       "       [2.1, 3.4, 5.6]])"
      ]
     },
     "execution_count": 3,
     "metadata": {},
     "output_type": "execute_result"
    }
   ],
   "source": [
    "#2x3 Matrix\n",
    "np.array([[5.0, 3.0, 7.5],[2.1, 3.4, 5.6]])"
   ]
  },
  {
   "cell_type": "code",
   "execution_count": 4,
   "id": "8ef79ffe",
   "metadata": {},
   "outputs": [
    {
     "data": {
      "text/plain": [
       "array([[1.5, 2. , 3. ],\n",
       "       [4. , 5. , 6. ],\n",
       "       [3. , 6. , 9. ]])"
      ]
     },
     "execution_count": 4,
     "metadata": {},
     "output_type": "execute_result"
    }
   ],
   "source": [
    "#3x3 Matrix from python sequences\n",
    "np.array([(1.5,2,3), (4,5,6), (3,6,9)])"
   ]
  },
  {
   "cell_type": "markdown",
   "id": "dbb4e4d5",
   "metadata": {},
   "source": [
    "## Using NumPy filling functions:"
   ]
  },
  {
   "cell_type": "code",
   "execution_count": 5,
   "id": "9b8f974e",
   "metadata": {},
   "outputs": [
    {
     "data": {
      "text/plain": [
       "array([0, 1, 2, 3, 4, 5, 6, 7, 8, 9])"
      ]
     },
     "execution_count": 5,
     "metadata": {},
     "output_type": "execute_result"
    }
   ],
   "source": [
    "#Fill a 1D array with integers from 0 to 9\n",
    "np.arange(10)"
   ]
  },
  {
   "cell_type": "code",
   "execution_count": 6,
   "id": "97cca890",
   "metadata": {},
   "outputs": [
    {
     "data": {
      "text/plain": [
       "array([1., 1., 1., 1., 1.])"
      ]
     },
     "execution_count": 6,
     "metadata": {},
     "output_type": "execute_result"
    }
   ],
   "source": [
    "#Fill a 1D array with ones\n",
    "np.ones(5)"
   ]
  },
  {
   "cell_type": "code",
   "execution_count": 7,
   "id": "f6741680",
   "metadata": {},
   "outputs": [
    {
     "data": {
      "text/plain": [
       "array([[0., 0., 0., 0., 0.],\n",
       "       [0., 0., 0., 0., 0.],\n",
       "       [0., 0., 0., 0., 0.],\n",
       "       [0., 0., 0., 0., 0.],\n",
       "       [0., 0., 0., 0., 0.]])"
      ]
     },
     "execution_count": 7,
     "metadata": {},
     "output_type": "execute_result"
    }
   ],
   "source": [
    "#Fill a 5x5 matrix with 0.0\n",
    "np.zeros((5,5), dtype=float)"
   ]
  },
  {
   "cell_type": "code",
   "execution_count": 8,
   "id": "6de9f14f",
   "metadata": {},
   "outputs": [
    {
     "data": {
      "text/plain": [
       "array([[10, 10],\n",
       "       [10, 10]])"
      ]
     },
     "execution_count": 8,
     "metadata": {},
     "output_type": "execute_result"
    }
   ],
   "source": [
    "#Fill a 2x2 matrix with 10\n",
    "np.full((2,2), 10, dtype=int)"
   ]
  },
  {
   "cell_type": "markdown",
   "id": "7facafcd",
   "metadata": {},
   "source": [
    "## Fill an array with random values:\n",
    "Module numpy.random is used to generate random values.  \n",
    "\n",
    "Some examples of uniform random generators \n",
    "\n",
    "* np.random.rand tirage uniforme continu dans [0,1[\n",
    "* np.random.random tirage uniforme continu dans [0,1[\n",
    "* np.random.randint tirage uniforme discret dans [a, b[\n",
    "* np.random.random_integers tirage uniforme discret dans [a, b]\n",
    "* np.random.randn tirage gaussien dans [0,1["
   ]
  },
  {
   "cell_type": "code",
   "execution_count": 11,
   "id": "0b7f96a0",
   "metadata": {},
   "outputs": [
    {
     "name": "stdout",
     "output_type": "stream",
     "text": [
      "[ 0.97322482  0.16619079  0.36402172  0.63913836  0.85647394  0.20679639\n",
      "  0.72399644  0.55855009  0.92732276 -0.79907073 -0.84085786  0.07509193\n",
      " -0.9802789   0.01820108  0.84621966  0.73063083 -0.0698471   0.15347041\n",
      "  0.30728047  0.08591841  0.81858273 -0.19360923  0.61226899  0.70055555\n",
      "  0.41867611 -0.32506315  0.6868391  -0.12529795  0.48309496  0.06298707\n",
      "  0.53999042  0.35158253 -0.53600709  0.22189375  0.33846269  0.40924228\n",
      "  0.03786729 -0.23786578 -0.74578119  0.05195656  0.4685997  -0.71554659\n",
      "  0.18527554 -0.63965498  0.56710587 -0.2996705   0.73315134 -0.34593495\n",
      " -0.30566522  0.9601558   0.50362554 -0.78637615  0.48227092 -0.49899812\n",
      "  0.48224996 -0.21618546  0.85189083 -0.89193253  0.62600132  0.1120217\n",
      " -0.02089446  0.03054966  0.71018071 -0.26876194  0.44704565  0.13885034\n",
      "  0.78762739 -0.88497311  0.40598259 -0.8677468  -0.40473478 -0.42805705\n",
      "  0.30977777  0.4337805   0.02870096 -0.13615401  0.92504976  0.2906419\n",
      " -0.57669759  0.03586334 -0.84821277  0.43760697  0.4229561   0.24673288\n",
      " -0.02876754  0.41538521 -0.01703363 -0.51812209 -0.49561965  0.78580624\n",
      "  0.25607427  0.56907103 -0.06542748  0.50729466 -0.01693775  0.88803464\n",
      "  0.22435703 -0.97531334 -0.71577059 -0.0372607 ]\n"
     ]
    }
   ],
   "source": [
    "#Fill a 1D array with 100 floats in (-1.0, 1.0)\n",
    "a = np.zeros(100)\n",
    "for i in range(100):\n",
    "    a[i] = np.random.uniform(-1.0, 1.0)\n",
    "print(a)"
   ]
  },
  {
   "cell_type": "code",
   "execution_count": 12,
   "id": "329ea59c",
   "metadata": {},
   "outputs": [
    {
     "name": "stdout",
     "output_type": "stream",
     "text": [
      "[ 0.14333284 -0.30870722 -0.22678165  0.09358711  0.11329651  0.94009881\n",
      "  0.47954692 -0.80157999 -0.66381289 -0.82675919  0.18337307 -0.84813293\n",
      "  0.06824985  0.59424483  0.60223891  0.89935046  0.96142212 -0.0225649\n",
      " -0.29515173  0.92389992 -0.74929795  0.27647942  0.8987992   0.48215335\n",
      "  0.02193955 -0.00451363  0.40881089  0.82441312  0.01666698  0.38714417\n",
      "  0.72557058  0.00851449 -0.22056446  0.21193213  0.3277428  -0.62408179\n",
      "  0.14908134  0.14956169 -0.31194827  0.86808342 -0.57397819  0.19174293\n",
      " -0.97602706  0.85232942  0.82421267 -0.95180731  0.41623295 -0.69477522\n",
      "  0.1222748   0.63361448 -0.92822132 -0.65549013 -0.4733172  -0.95372161\n",
      "  0.27499367  0.24020772 -0.76960063  0.2263493  -0.53253238 -0.24004792\n",
      "  0.25170696  0.07440764 -0.08679433 -0.4438816   0.94813259  0.61219837\n",
      "  0.66395596 -0.16453336  0.99739542 -0.70082025 -0.73523467 -0.65945495\n",
      "  0.09102907 -0.5412667   0.69674997 -0.62465206 -0.46939342  0.59164944\n",
      " -0.03937814 -0.71461601 -0.59389684 -0.25298384 -0.00412773  0.47693836\n",
      "  0.48224485  0.80699787 -0.94571071  0.21594064  0.51206936 -0.59839066\n",
      "  0.65079793 -0.80962151  0.14644911  0.94286559  0.17811373 -0.83859251\n",
      " -0.46716174 -0.0218266  -0.29283856 -0.35866959]\n"
     ]
    }
   ],
   "source": [
    "#Alternative solution\n",
    "a = np.random.uniform(-1.0, 1.0, 100)\n",
    "print(a)"
   ]
  },
  {
   "cell_type": "code",
   "execution_count": 13,
   "id": "fd51e9f7",
   "metadata": {},
   "outputs": [
    {
     "name": "stdout",
     "output_type": "stream",
     "text": [
      "[[8 3 2]\n",
      " [8 5 7]\n",
      " [9 1 4]\n",
      " [2 2 5]\n",
      " [3 4 4]]\n"
     ]
    }
   ],
   "source": [
    "#Fill a 5x3 matrix with integers in (1, 10)\n",
    "a = np.random.randint(1,10, [5,3])\n",
    "print(a)"
   ]
  },
  {
   "cell_type": "markdown",
   "id": "5f3207ba",
   "metadata": {},
   "source": [
    "## Reshaping arrays:"
   ]
  },
  {
   "cell_type": "code",
   "execution_count": 17,
   "id": "abd4fc54",
   "metadata": {},
   "outputs": [
    {
     "data": {
      "text/plain": [
       "numpy.ndarray"
      ]
     },
     "execution_count": 17,
     "metadata": {},
     "output_type": "execute_result"
    }
   ],
   "source": [
    "#1D Array\n",
    "a = np.arange(10)\n",
    "a"
   ]
  },
  {
   "cell_type": "code",
   "execution_count": 18,
   "id": "8d98ee16",
   "metadata": {},
   "outputs": [
    {
     "data": {
      "text/plain": [
       "array([[0, 1, 2, 3, 4],\n",
       "       [5, 6, 7, 8, 9]])"
      ]
     },
     "execution_count": 18,
     "metadata": {},
     "output_type": "execute_result"
    }
   ],
   "source": [
    "#Reshape a to 2D array (2x5)\n",
    "a.reshape(2, 5)"
   ]
  },
  {
   "cell_type": "code",
   "execution_count": 19,
   "id": "2227b34d",
   "metadata": {},
   "outputs": [
    {
     "data": {
      "text/plain": [
       "array([[0, 1, 2, 3, 4],\n",
       "       [5, 6, 7, 8, 9]])"
      ]
     },
     "execution_count": 19,
     "metadata": {},
     "output_type": "execute_result"
    }
   ],
   "source": [
    "#Alternative: setting to -1 automatically decides the number of cols\n",
    "a.reshape(2, -1)"
   ]
  },
  {
   "cell_type": "markdown",
   "id": "ead07ca5",
   "metadata": {},
   "source": [
    "## Change type of data in arrays:"
   ]
  },
  {
   "cell_type": "code",
   "execution_count": 21,
   "id": "4d7a590d",
   "metadata": {},
   "outputs": [
    {
     "data": {
      "text/plain": [
       "array([0, 1, 2, 3, 4, 5, 6, 7, 8, 9])"
      ]
     },
     "execution_count": 21,
     "metadata": {},
     "output_type": "execute_result"
    }
   ],
   "source": [
    "#Transform data in 1D array as integers\n",
    "b = a.astype(int)\n",
    "b"
   ]
  },
  {
   "cell_type": "code",
   "execution_count": 22,
   "id": "3b8aecef",
   "metadata": {},
   "outputs": [
    {
     "name": "stdout",
     "output_type": "stream",
     "text": [
      "[[3 8 4]\n",
      " [3 6 5]\n",
      " [1 2 1]\n",
      " [2 2 8]\n",
      " [2 9 6]]\n",
      "[8. 6. 2. 2. 9.]\n"
     ]
    }
   ],
   "source": [
    "#Transform data from 2nd column of a 2D array to float values\n",
    "c = np.random.randint(1,10, [5,3])\n",
    "print(c)\n",
    "column1 = c[:,1].astype(float)\n",
    "print(column1)"
   ]
  },
  {
   "cell_type": "markdown",
   "id": "20cfdecc",
   "metadata": {},
   "source": [
    "# Indexes and selections"
   ]
  },
  {
   "cell_type": "code",
   "execution_count": 33,
   "id": "4797326b",
   "metadata": {},
   "outputs": [
    {
     "name": "stdout",
     "output_type": "stream",
     "text": [
      "[8 4 4 5 5 2 6 7 1 4 9 6 8 2 2 9 8 9 6 7]\n"
     ]
    }
   ],
   "source": [
    "#1D Arrays of 20 integers\n",
    "a = np.random.randint(1,10, 20)\n",
    "print(a)"
   ]
  },
  {
   "cell_type": "code",
   "execution_count": 24,
   "id": "4302deeb",
   "metadata": {},
   "outputs": [
    {
     "name": "stdout",
     "output_type": "stream",
     "text": [
      "2\n"
     ]
    }
   ],
   "source": [
    "#Print 3rd value from a\n",
    "print(a[3])"
   ]
  },
  {
   "cell_type": "code",
   "execution_count": 25,
   "id": "4dbed532",
   "metadata": {},
   "outputs": [
    {
     "name": "stdout",
     "output_type": "stream",
     "text": [
      "[2 1 5 1 9]\n"
     ]
    }
   ],
   "source": [
    "#Print 3rd to 7th value of a\n",
    "print(a[3:8])"
   ]
  },
  {
   "cell_type": "code",
   "execution_count": 26,
   "id": "24940726",
   "metadata": {},
   "outputs": [
    {
     "data": {
      "text/plain": [
       "array([6, 9, 8, 9, 6])"
      ]
     },
     "execution_count": 26,
     "metadata": {},
     "output_type": "execute_result"
    }
   ],
   "source": [
    "#Select values > 5 in a\n",
    "a[a>5]"
   ]
  },
  {
   "cell_type": "code",
   "execution_count": 36,
   "id": "d51b832a",
   "metadata": {},
   "outputs": [
    {
     "data": {
      "text/plain": [
       "(array([ 0,  3,  4,  6,  7, 10, 11, 12, 15, 16, 17, 18, 19], dtype=int64),)"
      ]
     },
     "execution_count": 36,
     "metadata": {},
     "output_type": "execute_result"
    }
   ],
   "source": [
    "#indexes of values in [5, 9]\n",
    "indexes = np.where((a>=5) & (a<=9))\n",
    "a[indexes]"
   ]
  },
  {
   "cell_type": "code",
   "execution_count": 39,
   "id": "407869c0",
   "metadata": {},
   "outputs": [
    {
     "name": "stdout",
     "output_type": "stream",
     "text": [
      "[[8 5 8]\n",
      " [1 1 3]\n",
      " [1 3 3]\n",
      " [4 1 9]\n",
      " [6 4 4]]\n"
     ]
    }
   ],
   "source": [
    "#5x3 Matrix of integers\n",
    "m = np.random.randint(1,10, [5,3])\n",
    "print(m)"
   ]
  },
  {
   "cell_type": "code",
   "execution_count": 40,
   "id": "5172b408",
   "metadata": {},
   "outputs": [
    {
     "name": "stdout",
     "output_type": "stream",
     "text": [
      "[8 5 8]\n"
     ]
    }
   ],
   "source": [
    "#Print 1st row\n",
    "print(m[0])"
   ]
  },
  {
   "cell_type": "code",
   "execution_count": 41,
   "id": "f3955ce7",
   "metadata": {},
   "outputs": [
    {
     "name": "stdout",
     "output_type": "stream",
     "text": [
      "[6 4 4]\n"
     ]
    }
   ],
   "source": [
    "#Print last row\n",
    "print(m[-1])"
   ]
  },
  {
   "cell_type": "code",
   "execution_count": 42,
   "id": "bc102ab5",
   "metadata": {},
   "outputs": [
    {
     "name": "stdout",
     "output_type": "stream",
     "text": [
      "[5 1 3 1 4]\n"
     ]
    }
   ],
   "source": [
    "#Print 2nd column\n",
    "print(m[ : ,1])"
   ]
  },
  {
   "cell_type": "code",
   "execution_count": 43,
   "id": "be7ab53a",
   "metadata": {},
   "outputs": [
    {
     "name": "stdout",
     "output_type": "stream",
     "text": [
      "[[1 1]\n",
      " [1 3]]\n"
     ]
    }
   ],
   "source": [
    "#Print 2nd to 3rd row, 1st and 2nd column\n",
    "print(m[1:3, 0:2])"
   ]
  },
  {
   "cell_type": "markdown",
   "id": "a72959ba",
   "metadata": {},
   "source": [
    "# Basic operations\n",
    "## Arithmetic operations are performed on every elements of the array."
   ]
  },
  {
   "cell_type": "code",
   "execution_count": 44,
   "id": "b6f0a111",
   "metadata": {},
   "outputs": [
    {
     "name": "stdout",
     "output_type": "stream",
     "text": [
      "[10 20 30]\n",
      "[1 2 3]\n"
     ]
    }
   ],
   "source": [
    "#1D Arrays\n",
    "a = np.array([10,20,30])\n",
    "b = np.array([1,2,3])\n",
    "print(a)\n",
    "print(b)"
   ]
  },
  {
   "cell_type": "code",
   "execution_count": 45,
   "id": "8770e715",
   "metadata": {},
   "outputs": [
    {
     "data": {
      "text/plain": [
       "array([11, 21, 31])"
      ]
     },
     "execution_count": 45,
     "metadata": {},
     "output_type": "execute_result"
    }
   ],
   "source": [
    "#Scalars\n",
    "#addition\n",
    "a + 1"
   ]
  },
  {
   "cell_type": "code",
   "execution_count": 46,
   "id": "ccd900ad",
   "metadata": {},
   "outputs": [
    {
     "data": {
      "text/plain": [
       "array([30, 60, 90])"
      ]
     },
     "execution_count": 46,
     "metadata": {},
     "output_type": "execute_result"
    }
   ],
   "source": [
    "#Multiplication\n",
    "a * 3"
   ]
  },
  {
   "cell_type": "code",
   "execution_count": 47,
   "id": "227ef0fb",
   "metadata": {},
   "outputs": [
    {
     "data": {
      "text/plain": [
       "array([11, 22, 33])"
      ]
     },
     "execution_count": 47,
     "metadata": {},
     "output_type": "execute_result"
    }
   ],
   "source": [
    "#With arrays\n",
    "#sum (element to element)\n",
    "a + b"
   ]
  },
  {
   "cell_type": "code",
   "execution_count": 48,
   "id": "9d29a500",
   "metadata": {},
   "outputs": [
    {
     "name": "stdout",
     "output_type": "stream",
     "text": [
      "[[10 20]\n",
      " [30 40]]\n",
      "[[1 2]\n",
      " [3 4]]\n"
     ]
    }
   ],
   "source": [
    "#Matrices\n",
    "m = np.array([(10,20),(30,40)])\n",
    "n = np.array([(1,2),(3,4)])\n",
    "print(m)\n",
    "print(n)"
   ]
  },
  {
   "cell_type": "code",
   "execution_count": 49,
   "id": "cda00c07",
   "metadata": {},
   "outputs": [
    {
     "data": {
      "text/plain": [
       "array([[11, 22],\n",
       "       [33, 44]])"
      ]
     },
     "execution_count": 49,
     "metadata": {},
     "output_type": "execute_result"
    }
   ],
   "source": [
    "#sum (element to element)\n",
    "m + n"
   ]
  },
  {
   "cell_type": "code",
   "execution_count": 50,
   "id": "b29d31e1",
   "metadata": {},
   "outputs": [
    {
     "data": {
      "text/plain": [
       "array([[ 10,  40],\n",
       "       [ 90, 160]])"
      ]
     },
     "execution_count": 50,
     "metadata": {},
     "output_type": "execute_result"
    }
   ],
   "source": [
    "#product (element to element)\n",
    "m * n"
   ]
  },
  {
   "cell_type": "code",
   "execution_count": 51,
   "id": "4971f2a1",
   "metadata": {},
   "outputs": [
    {
     "data": {
      "text/plain": [
       "array([[ 70, 100],\n",
       "       [150, 220]])"
      ]
     },
     "execution_count": 51,
     "metadata": {},
     "output_type": "execute_result"
    }
   ],
   "source": [
    "#matrix product\n",
    "m.dot(n)"
   ]
  },
  {
   "cell_type": "markdown",
   "id": "9b211812",
   "metadata": {},
   "source": [
    "## Operations with arrays"
   ]
  },
  {
   "cell_type": "code",
   "execution_count": 69,
   "id": "7b05c665",
   "metadata": {},
   "outputs": [
    {
     "name": "stdout",
     "output_type": "stream",
     "text": [
      "[4 3 5 9 3 9 9 4 8 8 4 4 3 7 4 8 7 6 3 1]\n",
      "[7 9 9 1 6 3 7 7 1 7 8 7 1 6 5 2 7 6 6 7]\n"
     ]
    }
   ],
   "source": [
    "#1D Arrays\n",
    "a = np.random.randint(1,10, 20)\n",
    "b = np.random.randint(1,10, 20)\n",
    "print(a)\n",
    "print(b)"
   ]
  },
  {
   "cell_type": "code",
   "execution_count": 62,
   "id": "003b8e2e",
   "metadata": {},
   "outputs": [
    {
     "data": {
      "text/plain": [
       "array([1, 2, 3, 4, 5, 6, 7, 8, 9])"
      ]
     },
     "execution_count": 62,
     "metadata": {},
     "output_type": "execute_result"
    }
   ],
   "source": [
    "#Common items in a and b\n",
    "np.intersect1d(a,b)"
   ]
  },
  {
   "cell_type": "code",
   "execution_count": 70,
   "id": "4d486402",
   "metadata": {},
   "outputs": [
    {
     "data": {
      "text/plain": [
       "array([4])"
      ]
     },
     "execution_count": 70,
     "metadata": {},
     "output_type": "execute_result"
    }
   ],
   "source": [
    "#Remove items from a that are in b\n",
    "np.setdiff1d(a,b)"
   ]
  },
  {
   "cell_type": "code",
   "execution_count": 71,
   "id": "c1d293df",
   "metadata": {},
   "outputs": [
    {
     "data": {
      "text/plain": [
       "(array([16, 17], dtype=int64),)"
      ]
     },
     "execution_count": 71,
     "metadata": {},
     "output_type": "execute_result"
    }
   ],
   "source": [
    "#Indexes of matching elements in a and b\n",
    "indexes = np.where(a == b)\n",
    "indexes"
   ]
  },
  {
   "cell_type": "code",
   "execution_count": 72,
   "id": "1a919545",
   "metadata": {},
   "outputs": [
    {
     "data": {
      "text/plain": [
       "array([4, 3, 5, 9, 3, 9, 9, 4, 8, 8, 4, 4, 3, 7, 4, 8, 7, 6, 3, 1])"
      ]
     },
     "execution_count": 72,
     "metadata": {},
     "output_type": "execute_result"
    }
   ],
   "source": [
    "# Another use of the np.where: produce a new array of the same size, with␣\n",
    ", → valuesdepending on a condition\n",
    "# Example: replace in a all the NAN value by -100 (the other values being␣\n",
    ", → unchanged)\n",
    "np.where(np.isnan(a),-100,a)"
   ]
  },
  {
   "cell_type": "markdown",
   "id": "4a5e403b",
   "metadata": {},
   "source": [
    "# Exercise 1\n",
    "1. Create 1D array t1 of 100 float values. Fill this array with random values in [-1.0, 1.0].\n",
    "2. Calculate mean, median and standard deviation of t1.\n",
    "3. Create arrays t2 and t3 that contains respectively positive and negative values from t1.\n",
    "4. Create t4 by removing negatives values from t1.\n",
    "5. Create t5 by replacing values in t1 that are greater than 0.5 with 1.0.\n",
    "6. Find max and min values of t1\n",
    "7. Reshape t1 as m1, 25x4 matrix\n",
    "8. Compute mean values for each row then for each column\n",
    "9. Replace randomly values in m1 with np.nan (create m2). Make sure there is at least one NaN in each column.\n",
    "10. Count NaN values in m2 and show indexes of NaNs\n",
    "11. Compute mean value without NaNs of 1st column of m2. Replace NaNS in 1st column with mean value.\n",
    "12. Create a function removeNaNs that, given a matrix mat and a column c, replaces NaNS in c with mean value of c.\n",
    "13. Apply removeNaNs for each column of m2.\n",
    "14. Find max value for each column of m1.\n",
    "15. Find min value for each row of m1.\n",
    "\n",
    "# Exercise 2\n",
    "\n",
    "1. Create 10x6 2D array m filled with random integers in [0, 10].\n",
    "2. Create the function that computes the counts of unique values row-wise. Output is 10x11 matrix where columns represent numbers from 0 to 10. The values are the counts of the numbers in the respective rows. (cf. numpy.bincount function)"
   ]
  },
  {
   "cell_type": "markdown",
   "id": "6b4d1ac9",
   "metadata": {},
   "source": [
    "# Data analysis with NumPy\n",
    "NumPy implements usual data analysis functions such as sum, mean, median and standard devia-\n",
    "tion:"
   ]
  },
  {
   "cell_type": "code",
   "execution_count": 73,
   "id": "ff72f647",
   "metadata": {},
   "outputs": [
    {
     "name": "stdout",
     "output_type": "stream",
     "text": [
      "[6.01990733e-01 4.67295009e-01 9.15187618e-01 4.31106925e-01\n",
      " 5.71932222e-03 8.24353772e-01 5.80575616e-01 8.36357142e-01\n",
      " 5.08259447e-01 4.50355835e-01 3.81576778e-01 1.03803715e-01\n",
      " 5.30119501e-01 2.42050086e-01 9.35406794e-01 3.99675387e-01\n",
      " 6.30337896e-01 5.53782684e-01 4.63038412e-01 9.57857074e-01\n",
      " 8.19263754e-01 8.68581830e-01 4.99553588e-01 9.47378763e-01\n",
      " 3.37280408e-01 4.56519964e-04 4.56794097e-01 7.80306951e-01\n",
      " 1.41285265e-01 4.18369409e-01 3.32855531e-01 7.71030363e-01\n",
      " 7.90104984e-01 4.99972921e-01 2.43247551e-01 7.46579874e-01\n",
      " 8.41976412e-01 9.44879158e-01 4.71184249e-01 9.95297166e-01\n",
      " 8.62484746e-01 7.19793012e-01 7.69107411e-01 1.17791206e-01\n",
      " 1.67239797e-01 8.81778845e-02 5.51737650e-01 9.92358646e-01\n",
      " 5.13139005e-01 8.43317650e-01 1.52253317e-01 6.60157861e-01\n",
      " 8.07739456e-01 7.16777712e-01 2.23204590e-01 3.53945841e-01\n",
      " 1.17841617e-01 2.14750258e-01 2.57424368e-01 2.13383334e-01\n",
      " 6.25520654e-01 6.91568716e-01 2.76943351e-01 5.36283471e-01\n",
      " 3.55647325e-01 2.60867084e-01 7.82052869e-01 9.97600938e-01\n",
      " 8.10367874e-01 2.78573062e-02 6.00562251e-01 9.78423594e-01\n",
      " 4.75488536e-01 2.52625413e-01 1.90426319e-01 6.88826425e-01\n",
      " 7.07853768e-01 1.98436377e-01 8.89033440e-01 3.98287855e-01\n",
      " 9.16471512e-01 3.79267725e-01 1.43444668e-01 1.93276329e-02\n",
      " 4.55933402e-01 4.87898682e-01 7.20244850e-01 3.25734156e-01\n",
      " 5.85934377e-01 5.68989189e-01 4.90270643e-01 5.83721940e-01\n",
      " 8.05425965e-03 6.88735432e-01 5.42378860e-02 8.57868660e-01\n",
      " 7.58548928e-01 4.65161113e-01 3.20936939e-01 5.64792951e-01\n",
      " 4.07242364e-01 8.42128965e-02 5.59627741e-01 4.84355247e-01\n",
      " 6.76864825e-01 3.55375770e-01 1.67338600e-01 8.41816113e-01\n",
      " 1.99024848e-01 9.52264135e-01 3.72473829e-01 5.67516366e-01\n",
      " 7.87542664e-01 2.62999627e-01 8.91723587e-01 5.85469834e-01\n",
      " 8.22017798e-01 3.51037632e-01 6.87536153e-01 1.31213257e-01\n",
      " 6.50560324e-01 7.05894206e-01 7.74198929e-01 9.66815170e-01\n",
      " 8.37748557e-01 3.26813322e-01 9.08146355e-01 7.07116039e-01\n",
      " 3.93380642e-01 4.71020580e-01 7.68899064e-01 3.03604857e-01\n",
      " 8.73773639e-01 1.71379703e-01 6.18996334e-01 6.53924476e-01\n",
      " 4.58480443e-01 9.35171264e-01 4.79528931e-01 4.74183404e-01\n",
      " 8.46194608e-01 1.82439486e-01 3.11276439e-01 5.19528328e-01\n",
      " 2.01906572e-01 8.15661751e-01 7.71188134e-02 5.74544424e-01\n",
      " 5.99613150e-01 1.72729904e-01 6.28044545e-01 4.23758328e-01\n",
      " 1.09510384e-01 6.77192917e-01 2.96873238e-02 4.17154683e-02\n",
      " 3.29136041e-01 8.28047830e-01 4.22711304e-01 8.62161260e-01\n",
      " 1.43087848e-01 2.45387410e-01 2.70738012e-01 7.85601820e-01\n",
      " 8.82829458e-01 1.32659524e-01 1.76368194e-01 4.51090247e-01\n",
      " 9.54939307e-03 9.92918895e-01 2.24252076e-01 4.98539518e-01\n",
      " 5.21331801e-01 4.04903657e-01 1.67612110e-01 6.05845683e-01\n",
      " 5.41798382e-01 3.83987609e-01 3.50634007e-01 3.25968707e-01\n",
      " 9.99725611e-02 5.46300075e-02 9.61297994e-01 3.69487759e-01\n",
      " 1.29473665e-01 7.92886019e-01 6.47834402e-01 3.01666349e-01\n",
      " 2.53572637e-01 4.48222747e-01 4.12808530e-01 9.94837241e-01\n",
      " 1.72572252e-01 3.30680321e-02 6.26202312e-01 4.07211837e-01\n",
      " 7.48230684e-01 7.86478356e-01 9.42450487e-01 6.93162299e-01\n",
      " 6.48388206e-01 5.50835289e-01 2.89069257e-01 7.93177393e-01\n",
      " 4.56451226e-01 5.71680334e-01 3.54306687e-01 9.20456559e-01\n",
      " 1.10704757e-01 8.58342504e-01 4.96467555e-01 5.59951708e-01\n",
      " 2.70035976e-01 7.67834289e-01 7.07687294e-01 4.54800236e-02\n",
      " 3.03129518e-01 2.90552792e-01 5.02351999e-01 1.95677420e-01\n",
      " 8.27650185e-01 5.43767484e-02 5.59572722e-01 6.47755680e-01\n",
      " 4.82152394e-01 5.03787972e-01 8.97549859e-01 6.26079365e-01\n",
      " 4.34429313e-01 1.91778004e-01 6.44069316e-01 7.45309658e-01\n",
      " 8.45169112e-01 8.05573523e-01 4.98554409e-02 9.22900301e-01\n",
      " 6.19448434e-02 1.36526430e-01 4.45495520e-01 4.65765690e-02\n",
      " 1.24834234e-01 9.40305842e-01 6.71516540e-02 5.52630480e-01\n",
      " 5.29716273e-01 2.05699294e-01 1.53502472e-01 9.33541079e-01\n",
      " 2.30714770e-02 7.38184369e-01 6.07582138e-01 1.60073166e-01\n",
      " 9.20393550e-01 1.12268718e-01 1.28779559e-01 5.85302536e-01\n",
      " 5.42301347e-01 5.91469432e-01 2.29922937e-01 4.01138614e-01\n",
      " 4.97016378e-02 8.89880312e-01 4.42082508e-01 9.82029281e-01\n",
      " 9.46566143e-01 2.79531231e-01 7.96874150e-01 2.98529663e-01\n",
      " 4.63712119e-02 8.05046501e-01 3.24860705e-01 7.81266793e-01\n",
      " 9.30357153e-01 3.89005543e-01 6.39722523e-01 4.51658339e-01\n",
      " 5.99758107e-01 3.09804997e-01 9.90835127e-01 3.53316595e-03\n",
      " 2.89282646e-02 5.48296782e-01 7.64281048e-02 9.37594059e-01\n",
      " 6.37445597e-01 3.53319020e-02 5.93360141e-01 1.62978982e-01\n",
      " 3.18740994e-01 4.38994290e-03 1.40251706e-01 6.45872581e-01\n",
      " 9.45896268e-01 5.66867599e-01 4.80893457e-01 4.64327870e-01\n",
      " 9.13487845e-01 7.50007805e-01 5.85236531e-01 4.30125774e-01\n",
      " 5.26322838e-01 5.78064654e-01 9.16081558e-01 5.06273584e-01\n",
      " 4.58498531e-01 8.93003643e-01 5.78461469e-01 9.15910125e-01\n",
      " 8.73189941e-01 3.14213985e-01 1.81642020e-01 2.23286958e-01\n",
      " 9.58831267e-01 3.51793963e-02 9.32733848e-01 3.67516805e-01\n",
      " 7.03052462e-03 4.39108252e-01 9.57777782e-01 3.01300369e-01\n",
      " 1.92356583e-01 9.63970614e-01 6.91687071e-01 7.61658892e-01\n",
      " 3.53155100e-01 2.69827269e-01 4.18890397e-01 6.68859225e-01\n",
      " 2.55462970e-01 2.46554130e-01 5.66228760e-01 9.86370026e-01\n",
      " 3.30263374e-01 9.53382498e-01 5.93645223e-01 6.34856598e-01\n",
      " 5.14256173e-01 3.31778187e-01 1.35398097e-01 1.61673487e-01\n",
      " 2.10937631e-01 7.26627028e-01 2.92210650e-01 1.05641833e-01\n",
      " 2.45713159e-01 7.47613407e-01 5.50204031e-01 6.15126541e-01\n",
      " 1.92008516e-01 4.88806058e-01 7.63409498e-01 9.07614135e-01\n",
      " 2.26359969e-01 8.39163092e-01 5.26210317e-01 7.47776371e-01\n",
      " 9.04207060e-01 1.44564387e-01 9.88666150e-01 7.86470611e-02\n",
      " 7.87550286e-01 2.13496440e-01 8.76568875e-02 5.15739361e-01\n",
      " 1.36788774e-01 7.68139177e-01 8.70373614e-01 5.43087449e-01\n",
      " 7.36700483e-01 5.32433722e-01 9.28956592e-01 8.11692022e-01\n",
      " 3.05277463e-01 4.17580788e-01 3.43825883e-01 4.94089566e-01\n",
      " 6.02292515e-01 5.45467465e-01 6.27175944e-02 9.32980571e-01\n",
      " 9.19188969e-01 4.76112582e-01 3.11679130e-01 6.01012384e-01\n",
      " 2.44676899e-01 9.34126899e-01 9.45297762e-01 7.77207308e-01\n",
      " 8.41671445e-01 8.21466752e-01 6.70611410e-01 8.47274919e-01\n",
      " 7.78170380e-01 7.09176141e-01 8.30588285e-01 6.03954759e-01\n",
      " 9.22463969e-01 4.44295896e-01 1.30206896e-01 5.34796074e-01\n",
      " 9.18869515e-01 7.93165895e-01 9.22278683e-01 1.19223419e-01\n",
      " 4.49941943e-01 9.52504152e-01 8.24702790e-01 8.14521410e-02\n",
      " 9.27566453e-01 4.99024410e-01 7.52546094e-01 9.47749926e-02\n",
      " 2.47940232e-01 6.63149773e-01 6.98028343e-01 3.86619569e-01\n",
      " 7.96312034e-01 7.30387037e-01 4.48596970e-01 4.54046738e-01\n",
      " 8.76704640e-01 1.58295557e-01 6.75126958e-01 5.71074078e-01\n",
      " 1.23122314e-01 2.96903778e-01 2.05682473e-01 7.66722943e-01\n",
      " 4.29759710e-01 9.25766536e-01 4.76476474e-01 3.47880568e-01\n",
      " 4.58864475e-01 8.51084784e-01 8.28308959e-01 8.53159697e-01\n",
      " 3.03603165e-01 5.40622467e-01 3.49582255e-01 6.69561438e-01\n",
      " 7.92744450e-01 5.22301017e-01 5.22099322e-01 7.07185863e-01\n",
      " 8.48309876e-01 5.28835176e-01 5.12459202e-02 3.69358559e-01\n",
      " 3.57343330e-01 5.72939363e-01 6.42984404e-01 6.35837037e-02\n",
      " 5.48757928e-01 1.68566253e-01 2.04753308e-01 2.62203185e-01\n",
      " 7.73218850e-01 4.80271794e-01 5.83708822e-01 8.13198560e-01\n",
      " 5.55250699e-01 9.23604091e-01 4.87682622e-01 7.26943352e-01\n",
      " 4.18352677e-01 3.66101780e-01 8.61306509e-01 6.81719149e-01\n",
      " 2.88916074e-02 8.22555888e-02 9.68888604e-01 7.46056582e-01\n",
      " 1.44292113e-01 2.80279233e-01 8.83305535e-01 8.92110761e-01\n",
      " 1.34787576e-01 6.68032859e-01 7.80077700e-01 5.46306770e-01\n",
      " 3.43336352e-01 1.46434105e-01 6.57387666e-01 8.22116884e-01\n",
      " 3.69538749e-01 4.18416221e-01 1.78871926e-01 7.30839533e-01\n",
      " 6.61241696e-01 7.39093456e-01 6.44790893e-01 2.42616118e-01\n",
      " 9.40380307e-01 6.33669293e-01 2.92901459e-02 6.87299759e-01\n",
      " 7.92784454e-01 2.16583090e-01 8.24627265e-01 2.20883171e-01\n",
      " 9.78241439e-01 9.69323773e-01 5.82309913e-01 6.02595623e-01\n",
      " 9.49412370e-01 7.82003094e-01 8.38758589e-01 4.17860931e-01\n",
      " 4.70706872e-01 2.85618461e-01 3.96371544e-02 9.29324396e-01\n",
      " 3.57976120e-01 2.82381445e-01 3.80597284e-01 6.10058610e-01\n",
      " 3.49633529e-01 9.30712207e-01 3.90575066e-01 1.22911256e-01\n",
      " 1.61820665e-01 5.85777371e-01 6.01513904e-01 3.24179273e-02\n",
      " 9.88950010e-01 4.14902278e-01 6.13775486e-01 2.47845002e-01\n",
      " 9.47118557e-01 3.70563071e-01 1.03049751e-02 5.78225195e-01\n",
      " 9.82463123e-01 7.25816902e-01 1.41929528e-01 5.99086593e-01\n",
      " 6.04939501e-01 3.47823292e-02 5.69499547e-01 4.48480624e-01\n",
      " 8.65309488e-02 2.28730483e-01 2.77100129e-02 1.88492522e-01\n",
      " 5.64820404e-01 7.70803579e-01 2.86506561e-01 4.46292685e-01\n",
      " 5.58822350e-01 4.50999005e-01 3.88386546e-01 4.45654116e-01\n",
      " 5.91011688e-01 8.81601165e-01 1.11471186e-01 4.61103630e-01\n",
      " 9.31514808e-01 4.74056992e-02 1.56099225e-02 9.21016966e-01\n",
      " 2.27100066e-01 7.62618120e-01 5.82612856e-01 2.93896407e-01\n",
      " 8.70983115e-01 4.40317761e-01 6.17452705e-02 7.46229247e-01\n",
      " 1.84702224e-01 3.22547395e-01 3.94172912e-01 2.76405486e-01\n",
      " 8.22399260e-01 4.50685611e-02 7.04723976e-02 8.98209458e-01\n",
      " 6.41641960e-01 6.52955675e-01 8.45699232e-01 4.84877168e-01\n",
      " 3.43241720e-01 1.65182352e-01 1.48895465e-01 6.58944890e-01\n",
      " 2.89762549e-01 2.43164763e-01 2.68429224e-01 8.64204590e-01\n",
      " 8.01742134e-01 7.12303298e-02 8.73856234e-02 5.83171197e-01\n",
      " 5.69490332e-01 8.06470566e-01 4.74955656e-01 9.32326571e-01\n",
      " 5.35594845e-01 6.00253122e-01 8.88802903e-02 2.70134379e-01\n",
      " 1.63839486e-01 7.57388096e-01 8.76261530e-01 5.74439713e-01\n",
      " 1.95145220e-01 1.42760470e-01 5.68401283e-01 4.85312442e-02\n",
      " 5.98237713e-01 1.52247226e-01 3.87588761e-01 9.02485020e-01\n",
      " 9.65429632e-01 2.11595351e-01 4.52152032e-01 6.77053070e-01\n",
      " 8.87449054e-01 9.83841442e-01 3.02529844e-01 3.35089465e-01\n",
      " 1.74947174e-02 7.61383651e-01 6.72129121e-01 2.88776377e-01\n",
      " 1.48117177e-01 5.42319162e-01 8.62571042e-01 6.91969536e-01\n",
      " 4.24559555e-01 5.65069123e-01 7.44365639e-01 1.70835744e-01\n",
      " 9.42449844e-01 2.53056310e-01 5.31262562e-01 5.96653323e-01\n",
      " 6.54033712e-01 2.19010926e-02 1.75733591e-01 6.37509307e-01\n",
      " 8.08720215e-01 2.39620134e-01 7.74928506e-01 7.48803523e-01\n",
      " 5.70895721e-01 2.22060784e-01 2.05191870e-01 1.12175129e-01\n",
      " 1.69097410e-01 5.79368855e-01 7.63967780e-01 5.92035014e-01\n",
      " 3.56260698e-01 8.83501645e-01 5.00102848e-01 9.97109013e-01\n",
      " 4.65800047e-01 4.39233267e-01 6.41707057e-01 9.84607422e-01\n",
      " 8.11928387e-01 8.35814199e-01 7.88979850e-01 1.64807323e-01\n",
      " 8.72892725e-01 4.57712878e-01 4.96706447e-01 7.17081291e-02\n",
      " 9.38869022e-01 9.86586164e-01 7.37478979e-01 2.20340130e-01\n",
      " 7.61449015e-01 6.62116988e-02 4.93154132e-01 7.78892493e-01\n",
      " 1.37533331e-01 2.77850765e-01 1.41355132e-01 6.33805793e-01\n",
      " 7.56426123e-01 7.82221828e-01 2.68768120e-02 7.36097503e-01\n",
      " 8.80176806e-01 2.06099296e-01 4.76777532e-02 1.33605956e-01\n",
      " 8.86456099e-01 8.94669766e-01 5.16514266e-01 9.94834307e-02\n",
      " 3.30202601e-01 2.33839929e-01 5.17304426e-01 6.16855279e-01\n",
      " 6.23952509e-01 6.49958611e-01 9.44281103e-01 5.45982470e-02\n",
      " 5.36249859e-01 9.40772061e-01 3.64397942e-01 3.76423002e-01\n",
      " 9.10141608e-01 8.61770860e-01 8.42421193e-01 7.21378457e-01\n",
      " 2.65861759e-01 3.19920086e-01 9.71806485e-01 6.14071179e-01\n",
      " 5.37512194e-01 4.29040272e-01 8.67059801e-01 3.19212601e-01\n",
      " 3.53041550e-01 8.03305768e-01 6.90817189e-02 5.21374567e-01\n",
      " 5.98590872e-02 9.42703255e-01 7.88965306e-01 5.35192660e-01\n",
      " 7.48148160e-01 8.58107203e-01 7.98271349e-01 8.47042457e-01\n",
      " 4.12727573e-01 7.66256571e-01 8.17763772e-01 1.03608007e-01\n",
      " 4.96128681e-01 9.43782743e-01 6.02988408e-01 7.02103995e-01\n",
      " 9.45827897e-01 6.19369071e-02 8.44924837e-01 2.67569028e-01\n",
      " 4.34154700e-01 1.44346008e-01 9.18752303e-02 5.89004405e-01\n",
      " 5.11722394e-01 5.83479518e-01 2.19384793e-01 7.71886357e-01\n",
      " 3.82709148e-01 1.66575236e-01 3.60410134e-02 8.27869123e-01\n",
      " 6.60743856e-01 9.43319282e-01 2.89335221e-01 7.97034046e-01\n",
      " 3.42271435e-01 3.23957729e-01 3.87524378e-01 7.75902743e-01\n",
      " 5.89548570e-01 3.17427646e-01 3.74120150e-01 8.78128939e-01\n",
      " 7.54525694e-01 1.27081449e-01 1.45081483e-01 2.57597026e-01\n",
      " 6.49356063e-01 5.54800912e-01 7.61241102e-01 1.96054931e-01\n",
      " 3.09857151e-01 2.29642770e-01 1.30752109e-01 3.87998592e-01\n",
      " 5.66440026e-01 1.80155706e-01 4.45645821e-01 4.93906348e-01\n",
      " 4.06216431e-01 9.51736151e-01 9.40485459e-01 3.76742322e-01\n",
      " 9.05186314e-02 5.85883215e-01 8.17276412e-01 4.70973444e-01\n",
      " 5.59075106e-01 9.95193522e-01 8.00969878e-01 3.22809547e-01\n",
      " 3.05535542e-01 2.68218973e-01 9.41937108e-03 5.56241120e-01\n",
      " 3.40431292e-01 3.44958659e-01 2.40558123e-01 2.96302612e-01\n",
      " 1.17108531e-01 2.36598740e-01 6.77345242e-01 3.10873228e-01\n",
      " 1.20020081e-01 3.31317273e-01 6.99575681e-01 6.34370691e-01\n",
      " 1.08085860e-01 5.28883651e-01 2.24058446e-01 8.19654336e-01\n",
      " 3.95275855e-02 5.27990329e-01 5.40152083e-01 4.97226285e-01\n",
      " 3.50107847e-01 3.84268137e-02 3.69824653e-01 8.28514794e-01\n",
      " 1.75667479e-01 9.06144530e-01 9.42020350e-01 7.99034182e-01\n",
      " 7.88292035e-01 1.14231348e-01 9.58226696e-01 4.89331751e-01\n",
      " 7.98226993e-01 5.05669112e-01 6.12311771e-01 5.65710627e-01\n",
      " 5.84896771e-02 3.51692303e-01 7.72847057e-01 2.30037667e-01\n",
      " 6.38021863e-01 4.05368012e-01 9.13069022e-01 2.40031973e-01\n",
      " 2.21468482e-01 2.49311675e-01 4.94210191e-01 9.58227159e-01\n",
      " 8.73529829e-01 2.29394822e-01 7.28188096e-01 7.22736579e-02\n",
      " 2.51502010e-01 4.30701926e-01 1.68813198e-01 3.29462752e-01\n",
      " 4.24919138e-01 5.51399537e-01 7.51412384e-01 8.50647789e-01\n",
      " 3.42913355e-01 3.22666555e-01 8.28393474e-01 3.72347286e-01\n",
      " 1.80199429e-01 5.00060118e-01 2.65829318e-01 6.94390914e-01\n",
      " 8.71521907e-01 3.60111698e-01 3.26636154e-01 8.74626919e-01\n",
      " 1.70102816e-01 7.91512107e-01 8.28081343e-01 2.09703272e-01\n",
      " 2.31057069e-01 4.50334072e-01 4.87537115e-01 7.93130132e-02\n",
      " 7.66564527e-02 7.32845348e-01 3.43390266e-01 6.11229051e-01\n",
      " 2.75618140e-01 4.54048893e-01 2.35296636e-01 2.38896208e-02\n",
      " 8.44528137e-01 1.22232187e-01 7.14153612e-02 1.44302417e-02\n",
      " 5.67286183e-01 2.69201050e-01 6.98375320e-01 5.10758829e-01\n",
      " 4.69215662e-01 6.53767109e-01 4.71701120e-01 5.81574952e-01\n",
      " 5.64228895e-01 2.37635153e-01 6.77234205e-01 4.53158015e-02\n",
      " 7.81124972e-01 2.01002119e-01 3.82933503e-01 4.78649239e-01\n",
      " 7.35795219e-01 6.35872577e-01 1.03758938e-01 1.81304140e-01\n",
      " 3.37928183e-01 1.62379095e-01 6.58382593e-01 3.04739484e-01\n",
      " 7.99154934e-01 4.19558332e-01 8.49951957e-01 8.36368688e-01\n",
      " 4.76394562e-01 9.40184159e-01 5.42015640e-01 4.84418970e-01\n",
      " 8.25773275e-01 7.84096194e-01 3.61105125e-01 5.74445436e-01\n",
      " 7.33887803e-02 9.28588493e-01 8.17102216e-01 1.22494511e-01\n",
      " 5.85018853e-01 5.22218491e-01 8.50047867e-01 1.95883924e-01\n",
      " 3.62309444e-03 6.22614907e-01 4.42881701e-01 1.10892708e-01\n",
      " 1.46902433e-02 9.87234554e-01 8.03664340e-01 3.37111438e-01\n",
      " 4.93272347e-01 1.71042103e-01 9.63121255e-02 4.62999514e-01\n",
      " 1.88219687e-01 4.57871535e-01 9.95751958e-01 7.33560585e-02\n",
      " 6.58243108e-01 6.48319112e-02 9.34435981e-01 2.98943845e-01\n",
      " 2.99236875e-01 7.98813344e-01 3.28482782e-03 2.48738540e-01\n",
      " 3.22645589e-03 2.97561917e-01 9.93077914e-01 7.96607824e-01\n",
      " 9.20614736e-02 1.24085816e-01 6.47481168e-01 2.46808003e-02\n",
      " 7.29521264e-01 7.06499159e-01 8.20771124e-01 6.96818861e-01\n",
      " 5.49149482e-01 4.90134087e-01 7.88537392e-01 4.20082259e-01\n",
      " 1.78166850e-01 6.55655735e-01 8.32219350e-01 3.97668254e-01\n",
      " 4.89779765e-01 9.48840771e-01 1.67664203e-01 1.75601864e-01\n",
      " 5.83641817e-01 4.93187475e-01 1.67981438e-01 3.03813862e-01\n",
      " 6.45785994e-01 5.88307366e-01 7.71718343e-01 1.81880401e-01\n",
      " 6.49043873e-01 1.32613767e-01 7.90872864e-01 7.63116624e-01\n",
      " 1.48559819e-01 6.41062232e-01 9.09695261e-01 7.45122312e-01\n",
      " 8.93704790e-01 2.06191303e-01 4.98788511e-01 8.04680434e-01]\n"
     ]
    }
   ],
   "source": [
    "#1D Array\n",
    "a = np.random.uniform(0.0,1.0, 1000)\n",
    "print(a)"
   ]
  },
  {
   "cell_type": "code",
   "execution_count": 74,
   "id": "79e5c222",
   "metadata": {},
   "outputs": [
    {
     "data": {
      "text/plain": [
       "504.7950025404767"
      ]
     },
     "execution_count": 74,
     "metadata": {},
     "output_type": "execute_result"
    }
   ],
   "source": [
    "#sum\n",
    "np.sum(a)"
   ]
  },
  {
   "cell_type": "code",
   "execution_count": 75,
   "id": "24442bf1",
   "metadata": {},
   "outputs": [
    {
     "data": {
      "text/plain": [
       "0.5047950025404767"
      ]
     },
     "execution_count": 75,
     "metadata": {},
     "output_type": "execute_result"
    }
   ],
   "source": [
    "#mean\n",
    "np.mean(a)"
   ]
  },
  {
   "cell_type": "code",
   "execution_count": 76,
   "id": "fe004e56",
   "metadata": {},
   "outputs": [
    {
     "data": {
      "text/plain": [
       "0.507266515522044"
      ]
     },
     "execution_count": 76,
     "metadata": {},
     "output_type": "execute_result"
    }
   ],
   "source": [
    "#median\n",
    "np.median(a)"
   ]
  },
  {
   "cell_type": "code",
   "execution_count": 77,
   "id": "196a1f8e",
   "metadata": {},
   "outputs": [
    {
     "data": {
      "text/plain": [
       "0.2848529193149659"
      ]
     },
     "execution_count": 77,
     "metadata": {},
     "output_type": "execute_result"
    }
   ],
   "source": [
    "#standard deviation\n",
    "np.std(a)"
   ]
  },
  {
   "cell_type": "code",
   "execution_count": 78,
   "id": "8fe516d8",
   "metadata": {},
   "outputs": [
    {
     "name": "stdout",
     "output_type": "stream",
     "text": [
      "0.5047950025404767\n",
      "0.2848529193149659\n"
     ]
    }
   ],
   "source": [
    "#mean and std ignoring NaNs\n",
    "print(np.nanmean(a))\n",
    "print(np.nanstd(a))"
   ]
  },
  {
   "cell_type": "markdown",
   "id": "a2f62c90",
   "metadata": {},
   "source": [
    "To detect NaN values in arrays, you can use the isnan function."
   ]
  },
  {
   "cell_type": "code",
   "execution_count": 79,
   "id": "edf016b5",
   "metadata": {},
   "outputs": [
    {
     "name": "stdout",
     "output_type": "stream",
     "text": [
      "[ 10.  20.  nan  40.  50.  nan  nan  80. 100.]\n",
      "[[10. nan]\n",
      " [nan 40.]\n",
      " [50. 60.]\n",
      " [nan 70.]]\n"
     ]
    }
   ],
   "source": [
    "a = np.array([10,20,np.nan,40,50,np.nan,np.nan,80,100])\n",
    "b = np.array([(10,np.nan),(np.nan,40),(50,60) ,(np.nan,70)])\n",
    "print(a)\n",
    "print(b)"
   ]
  },
  {
   "cell_type": "code",
   "execution_count": 80,
   "id": "120994a0",
   "metadata": {},
   "outputs": [
    {
     "data": {
      "text/plain": [
       "False"
      ]
     },
     "execution_count": 80,
     "metadata": {},
     "output_type": "execute_result"
    }
   ],
   "source": [
    "#Check one value in a\n",
    "np.isnan(a[3])"
   ]
  },
  {
   "cell_type": "code",
   "execution_count": 81,
   "id": "b333e750",
   "metadata": {},
   "outputs": [
    {
     "data": {
      "text/plain": [
       "array([False, False,  True, False, False,  True,  True, False, False])"
      ]
     },
     "execution_count": 81,
     "metadata": {},
     "output_type": "execute_result"
    }
   ],
   "source": [
    "#Test all elements in a\n",
    "np.isnan(a)"
   ]
  },
  {
   "cell_type": "code",
   "execution_count": 82,
   "id": "6169cb0a",
   "metadata": {},
   "outputs": [
    {
     "data": {
      "text/plain": [
       "array([ True, False, False, False])"
      ]
     },
     "execution_count": 82,
     "metadata": {},
     "output_type": "execute_result"
    }
   ],
   "source": [
    "#Check 2nd column in a matrix b\n",
    "np.isnan(b[:,1])"
   ]
  },
  {
   "cell_type": "code",
   "execution_count": 83,
   "id": "cb1ed256",
   "metadata": {},
   "outputs": [
    {
     "data": {
      "text/plain": [
       "(array([0], dtype=int64),)"
      ]
     },
     "execution_count": 83,
     "metadata": {},
     "output_type": "execute_result"
    }
   ],
   "source": [
    "#indexes of NaN values in the 2nd column of b\n",
    "np.where(np.isnan(b[:,1]))"
   ]
  },
  {
   "cell_type": "markdown",
   "id": "3078dd99",
   "metadata": {},
   "source": [
    "# Import data from files"
   ]
  },
  {
   "cell_type": "markdown",
   "id": "bfc094a1",
   "metadata": {},
   "source": [
    "np.genfromtxt function allows to import data form file in numpy arrays."
   ]
  },
  {
   "cell_type": "code",
   "execution_count": 84,
   "id": "682841fe",
   "metadata": {},
   "outputs": [
    {
     "name": "stderr",
     "output_type": "stream",
     "text": [
      "C:\\Users\\Eric Mermet\\AppData\\Local\\Temp\\ipykernel_50904\\3653944330.py:2: VisibleDeprecationWarning: Reading unicode strings without specifying the encoding argument is deprecated. Set the encoding, use None for the system default.\n",
      "  data = np.genfromtxt('file_name.csv', delimiter=';', dtype=None)\n"
     ]
    }
   ],
   "source": [
    "#import data as 1D array of tuples containing different data types\n",
    "data = np.genfromtxt('file_name.csv', delimiter=';', dtype=None)"
   ]
  },
  {
   "cell_type": "code",
   "execution_count": 95,
   "id": "a02aba85",
   "metadata": {},
   "outputs": [
    {
     "data": {
      "text/plain": [
       "array([[b'id_patient', b'Nom', b'Sexe', b'Age', b'Occupation'],\n",
       "       [b'0', b'Jomphe', b'homme', b'61', b'manufacture de couvertures'],\n",
       "       [b'1', b'Godin', b'homme', b'28', b'marchand de couleurs'],\n",
       "       ...,\n",
       "       [b'298', b'Mo\\xc3\\xafse', b'femme', b'41', b'marchand de draps'],\n",
       "       [b'299', b'Guay', b'homme', b'34', b'marchand de draps'],\n",
       "       [b'', b'', b'', b'', b'']], dtype=object)"
      ]
     },
     "execution_count": 95,
     "metadata": {},
     "output_type": "execute_result"
    }
   ],
   "source": [
    "#import data as 2D array each line containing different data types\n",
    "data = np.genfromtxt('file_name.csv', delimiter=';', dtype=object)\n",
    "data"
   ]
  },
  {
   "cell_type": "code",
   "execution_count": 89,
   "id": "b9e38f74",
   "metadata": {},
   "outputs": [],
   "source": [
    "#import data selecting columns 2, 4, 5 only\n",
    "data = np.genfromtxt('file_name.csv', delimiter=';', usecols=(1,2,3))"
   ]
  },
  {
   "cell_type": "code",
   "execution_count": 91,
   "id": "5e838103",
   "metadata": {},
   "outputs": [
    {
     "data": {
      "text/plain": [
       "array([[  0.,  nan,  nan,  61.,  nan],\n",
       "       [  1.,  nan,  nan,  28.,  nan],\n",
       "       [  2.,  nan,  nan,  22.,  nan],\n",
       "       ...,\n",
       "       [298.,  nan,  nan,  41.,  nan],\n",
       "       [299.,  nan,  nan,  34.,  nan],\n",
       "       [ nan,  nan,  nan,  nan,  nan]])"
      ]
     },
     "execution_count": 91,
     "metadata": {},
     "output_type": "execute_result"
    }
   ],
   "source": [
    "#import data as 2D array of same data type, removing headers\n",
    "data = np.genfromtxt('file_name.csv', delimiter=';', skip_header=1)\n",
    "data"
   ]
  },
  {
   "cell_type": "markdown",
   "id": "ad9ec95b",
   "metadata": {},
   "source": [
    "\n"
   ]
  },
  {
   "cell_type": "markdown",
   "id": "e18109c0",
   "metadata": {},
   "source": [
    "# Scipy in Python \n",
    "\n",
    "SciPy in Python is an open-source library used for solving mathematical, scientific, engineering, and technical problems. It allows users to manipulate the data and visualize the data using a wide range of high-level Python commands. \n",
    "\n",
    "Sub-packages of SciPy:\n",
    "\n",
    "* File input/output – scipy.io\n",
    "* Special Function – scipy.special\n",
    "* Linear Algebra Operation – scipy.linalg\n",
    "* Interpolation – scipy.interpolate\n",
    "* Optimization and fit – scipy.optimize\n",
    "* Statistics and random numbers – scipy.stats\n",
    "* Numerical Integration – scipy.integrate\n",
    "* Fast Fourier transforms – scipy.fftpack\n",
    "* Signal Processing – scipy.signal\n",
    "* Image manipulation – scipy.ndimage\n",
    "* Integration and ordinary differential equation solvers – scipy.integrate\n",
    "* Sparse matrices and associated routines – scipy.sparse"
   ]
  },
  {
   "cell_type": "markdown",
   "id": "514866a2",
   "metadata": {},
   "source": [
    "# Load Scipy and install \n",
    "\n",
    "The standard way to import SciPy modules and Numpy:"
   ]
  },
  {
   "cell_type": "code",
   "execution_count": 96,
   "id": "f547bdeb",
   "metadata": {
    "scrolled": true
   },
   "outputs": [],
   "source": [
    "import numpy as np\n",
    "import scipy as sp"
   ]
  },
  {
   "cell_type": "markdown",
   "id": "aea7cf84",
   "metadata": {},
   "source": [
    "## Interpolation"
   ]
  },
  {
   "cell_type": "code",
   "execution_count": 97,
   "id": "5aa77f58",
   "metadata": {},
   "outputs": [],
   "source": [
    "from scipy.interpolate import interp1d \n",
    "x = np.linspace(-1, 1, num=5)  # 5 points evenly spaced in [-1,1].\n",
    "y = (x-1.)*(x-0.5)*(x+0.5)     # x and y are numpy arrays\n",
    "f0 = interp1d(x,y, kind='zero')\n",
    "f1 = interp1d(x,y, kind='linear') \n",
    "f2 = interp1d(x,y, kind='quadratic') \n",
    "f3 = interp1d(x,y, kind='cubic') \n",
    "f4 = interp1d(x,y, kind='nearest') "
   ]
  },
  {
   "cell_type": "code",
   "execution_count": 101,
   "id": "5b29df71",
   "metadata": {},
   "outputs": [
    {
     "data": {
      "image/png": "[encoded data removed]",
      "text/plain": [
       "<Figure size 1000x600 with 1 Axes>"
      ]
     },
     "metadata": {},
     "output_type": "display_data"
    }
   ],
   "source": [
    "import matplotlib.pyplot as plt\n",
    "plt.rcParams['figure.figsize'] = (10,6)\n",
    "xnew = np.linspace(-1, 1, num=40) \n",
    "ynew = (xnew-1.)*(xnew-0.5)*(xnew+0.5) \n",
    "plt.plot(x,y,'D',xnew,f0(xnew),':', xnew, f1(xnew),'-.',\n",
    "                xnew,f2(xnew),'-',xnew ,f3(xnew),'--',\n",
    "                xnew,f4(xnew),'--',xnew, ynew, linewidth=2)\n",
    "plt.legend(['data','zero','linear','quadratic','cubic','nearest','exact'],\n",
    "          loc='best');"
   ]
  },
  {
   "cell_type": "markdown",
   "id": "81608dd8",
   "metadata": {},
   "source": [
    "## Linear Algebra\n",
    "* Linear Algebra of SciPy is an implementation of BLAS and ATLAS LAPACK libraries.\n",
    "* Performance of Linear Algebra is very fast compared to BLAS and LAPACK.\n",
    "* Linear algebra routine accepts two-dimensional array object and output is also a two-dimensional array."
   ]
  },
  {
   "cell_type": "markdown",
   "id": "2d34ba2f",
   "metadata": {},
   "source": [
    "### Calculating determinant of a two-dimensional matrix"
   ]
  },
  {
   "cell_type": "code",
   "execution_count": 102,
   "id": "e7314a49",
   "metadata": {},
   "outputs": [
    {
     "data": {
      "text/plain": [
       "-7.0"
      ]
     },
     "execution_count": 102,
     "metadata": {},
     "output_type": "execute_result"
    }
   ],
   "source": [
    "from scipy import linalg\n",
    "import numpy as np\n",
    "#define square matrix\n",
    "two_d_array = np.array([ [4,5], [3,2] ])\n",
    "#pass values to det() function\n",
    "linalg.det( two_d_array )"
   ]
  },
  {
   "cell_type": "markdown",
   "id": "0c752337",
   "metadata": {},
   "source": [
    "### Inverse Matrix"
   ]
  },
  {
   "cell_type": "code",
   "execution_count": 103,
   "id": "a02b8ee1",
   "metadata": {},
   "outputs": [
    {
     "data": {
      "text/plain": [
       "array([[-0.28571429,  0.71428571],\n",
       "       [ 0.42857143, -0.57142857]])"
      ]
     },
     "execution_count": 103,
     "metadata": {},
     "output_type": "execute_result"
    }
   ],
   "source": [
    "from scipy import linalg\n",
    "import numpy as np\n",
    "# define square matrix\n",
    "two_d_array = np.array([ [4,5], [3,2] ])\n",
    "#pass value to function inv()\n",
    "linalg.inv( two_d_array )"
   ]
  },
  {
   "cell_type": "markdown",
   "id": "c17053e3",
   "metadata": {},
   "source": [
    "### Eigenvalues and Eigenvector"
   ]
  },
  {
   "cell_type": "code",
   "execution_count": 104,
   "id": "2c7572e9",
   "metadata": {},
   "outputs": [
    {
     "name": "stdout",
     "output_type": "stream",
     "text": [
      "[ 9.+0.j -1.+0.j]\n",
      "[[ 0.70710678 -0.5547002 ]\n",
      " [ 0.70710678  0.83205029]]\n"
     ]
    }
   ],
   "source": [
    "from scipy import linalg\n",
    "import numpy as np\n",
    "#define two dimensional array\n",
    "arr = np.array([[5,4],[6,3]])\n",
    "#pass value into function\n",
    "eg_val, eg_vect = linalg.eig(arr)\n",
    "#get eigenvalues\n",
    "print(eg_val)\n",
    "#get eigenvectors\n",
    "print(eg_vect)"
   ]
  },
  {
   "cell_type": "markdown",
   "id": "6f9a7697",
   "metadata": {},
   "source": [
    "## Optimization and Fit\n",
    "* Optimization provides a useful algorithm for minimization of curve fitting, multidimensional or scalar and root fitting.\n",
    "\n",
    "### Function of one variable "
   ]
  },
  {
   "cell_type": "code",
   "execution_count": 120,
   "id": "4c844d19",
   "metadata": {},
   "outputs": [
    {
     "data": {
      "image/png": "[encoded data removed]",
      "text/plain": [
       "<Figure size 1000x600 with 1 Axes>"
      ]
     },
     "metadata": {},
     "output_type": "display_data"
    }
   ],
   "source": [
    "f = lambda x: x**2 + 1 # a x^T x + 0*x + 1\n",
    "\n",
    "x = np.linspace(-2,2,500)\n",
    "plt.plot(x, f(x))\n",
    "plt.show()"
   ]
  },
  {
   "cell_type": "code",
   "execution_count": 121,
   "id": "38b2460c",
   "metadata": {},
   "outputs": [
    {
     "data": {
      "text/plain": [
       " message: \n",
       "          Optimization terminated successfully;\n",
       "          The returned value satisfies the termination criteria\n",
       "          (using xtol = 1.48e-08 )\n",
       " success: True\n",
       "     fun: 1.0\n",
       "       x: 9.803862664247969e-09\n",
       "     nit: 36\n",
       "    nfev: 39"
      ]
     },
     "execution_count": 121,
     "metadata": {},
     "output_type": "execute_result"
    }
   ],
   "source": [
    "import scipy.optimize as opt\n",
    "sol = opt.minimize_scalar(f)\n",
    "sol"
   ]
  },
  {
   "cell_type": "markdown",
   "id": "5c56854e",
   "metadata": {},
   "source": [
    "The return type gives you the function value `sol.fun`, as well as the value of x which achieve the minimum `sol.x`.\n",
    "\n",
    "If you want to add constraints such as $x \\ge 1$ you can use bounds, along with specifying the bounded method:"
   ]
  },
  {
   "cell_type": "code",
   "execution_count": 130,
   "id": "39d819ae",
   "metadata": {},
   "outputs": [
    {
     "data": {
      "image/png": "[encoded data removed]",
      "text/plain": [
       "<Figure size 1000x600 with 1 Axes>"
      ]
     },
     "metadata": {},
     "output_type": "display_data"
    }
   ],
   "source": [
    "sol = opt.minimize_scalar(f, bounds=(1, 1000), method='bounded')\n",
    "x = np.linspace(-2,2,500)\n",
    "plt.plot(x, f(x))\n",
    "plt.scatter([sol.x], [sol.fun], label='solution')\n",
    "plt.legend()\n",
    "plt.show()"
   ]
  }
 ],
 "metadata": {
  "kernelspec": {
   "display_name": "Python 3 (ipykernel)",
   "language": "python",
   "name": "python3"
  },
  "language_info": {
   "codemirror_mode": {
    "name": "ipython",
    "version": 3
   },
   "file_extension": ".py",
   "mimetype": "text/x-python",
   "name": "python",
   "nbconvert_exporter": "python",
   "pygments_lexer": "ipython3",
   "version": "3.11.3"
  }
 },
 "nbformat": 4,
 "nbformat_minor": 5
}
