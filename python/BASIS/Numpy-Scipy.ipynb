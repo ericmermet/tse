{
 "cells": [
  {
   "cell_type": "markdown",
   "id": "a141effa",
   "metadata": {},
   "source": [
    "# Numpy and Scipy"
   ]
  },
  {
   "cell_type": "markdown",
   "id": "1112774b",
   "metadata": {},
   "source": [
    "From official Numpy site (http://www.numpy.org):\n",
    "NumPy is the fundamental package for scientific computing with Python. It contains among other\n",
    "things:\n",
    "\n",
    "* a powerful N-dimensional array object,\n",
    "* sophisticated (broadcasting) functions,\n",
    "* `ufunc` fast array mathematical operations.\n",
    "* tools for integrating C/C++ and Fortran code,\n",
    "* useful linear algebra, Fourier transform, and random number capabilities.\n",
    "\n",
    "Besides its obvious scientific uses, NumPy can also be used as an efficient multi-dimensional container of generic data. Arbitrary data-types can be defined. This allows NumPy to seamlessly and speedily integrate with a wide variety of databases."
   ]
  },
  {
   "cell_type": "markdown",
   "id": "c64a85df",
   "metadata": {},
   "source": [
    "# Load Numpy (or install it if needed)"
   ]
  },
  {
   "cell_type": "markdown",
   "id": "4469a0ef",
   "metadata": {},
   "source": [
    "To use Numpy, you must import NumPy:"
   ]
  },
  {
   "cell_type": "code",
   "execution_count": 1,
   "id": "ac8622a3",
   "metadata": {},
   "outputs": [
    {
     "name": "stdout",
     "output_type": "stream",
     "text": [
      "1.24.3\n"
     ]
    }
   ],
   "source": [
    "import numpy as np\n",
    "print(np.__version__)"
   ]
  },
  {
   "cell_type": "markdown",
   "id": "ad7de3ce",
   "metadata": {},
   "source": [
    "# How to create arrays with Numpy\n",
    "## From Python lists and sequences:\n",
    "There are important differences between NumPy arrays and Python lists:\n",
    "* NumPy arrays have a fixed size at creation.\n",
    "* NumPy arrays elements are all required to be of the same data type.\n",
    "* NumPy arrays operations are performed in compiled code for performance.\n",
    "* Most of today's scientific/mathematical Python-based software use NumPy arrays.\n",
    "* NumPy gives us the code simplicity of Python, but the operation is speedily executed by pre-compiled C code."
   ]
  },
  {
   "cell_type": "code",
   "execution_count": 2,
   "id": "04e2ca72",
   "metadata": {},
   "outputs": [
    {
     "data": {
      "text/plain": [
       "array([1, 2, 3])"
      ]
     },
     "execution_count": 2,
     "metadata": {},
     "output_type": "execute_result"
    }
   ],
   "source": [
    "#1D array\n",
    "np.array([1,2,3])"
   ]
  },
  {
   "cell_type": "code",
   "execution_count": 3,
   "id": "ac716880",
   "metadata": {},
   "outputs": [
    {
     "data": {
      "text/plain": [
       "array([[5. , 3. , 7.5],\n",
       "       [2.1, 3.4, 5.6]])"
      ]
     },
     "execution_count": 3,
     "metadata": {},
     "output_type": "execute_result"
    }
   ],
   "source": [
    "#2x3 Matrix\n",
    "np.array([[5.0, 3.0, 7.5],[2.1, 3.4, 5.6]])"
   ]
  },
  {
   "cell_type": "code",
   "execution_count": 4,
   "id": "8ef79ffe",
   "metadata": {},
   "outputs": [
    {
     "data": {
      "text/plain": [
       "array([[1.5, 2. , 3. ],\n",
       "       [4. , 5. , 6. ],\n",
       "       [3. , 6. , 9. ]])"
      ]
     },
     "execution_count": 4,
     "metadata": {},
     "output_type": "execute_result"
    }
   ],
   "source": [
    "#3x3 Matrix from python sequences\n",
    "np.array([(1.5,2,3), (4,5,6), (3,6,9)])"
   ]
  },
  {
   "cell_type": "markdown",
   "id": "dbb4e4d5",
   "metadata": {},
   "source": [
    "## Using NumPy filling functions:"
   ]
  },
  {
   "cell_type": "code",
   "execution_count": 5,
   "id": "9b8f974e",
   "metadata": {},
   "outputs": [
    {
     "data": {
      "text/plain": [
       "array([0, 1, 2, 3, 4, 5, 6, 7, 8, 9])"
      ]
     },
     "execution_count": 5,
     "metadata": {},
     "output_type": "execute_result"
    }
   ],
   "source": [
    "#Fill a 1D array with integers from 0 to 9\n",
    "np.arange(10)"
   ]
  },
  {
   "cell_type": "code",
   "execution_count": 6,
   "id": "97cca890",
   "metadata": {},
   "outputs": [
    {
     "data": {
      "text/plain": [
       "array([1., 1., 1., 1., 1.])"
      ]
     },
     "execution_count": 6,
     "metadata": {},
     "output_type": "execute_result"
    }
   ],
   "source": [
    "#Fill a 1D array with ones\n",
    "np.ones(5)"
   ]
  },
  {
   "cell_type": "code",
   "execution_count": 7,
   "id": "f6741680",
   "metadata": {},
   "outputs": [
    {
     "data": {
      "text/plain": [
       "array([[0., 0., 0., 0., 0.],\n",
       "       [0., 0., 0., 0., 0.],\n",
       "       [0., 0., 0., 0., 0.],\n",
       "       [0., 0., 0., 0., 0.],\n",
       "       [0., 0., 0., 0., 0.]])"
      ]
     },
     "execution_count": 7,
     "metadata": {},
     "output_type": "execute_result"
    }
   ],
   "source": [
    "#Fill a 5x5 matrix with 0.0\n",
    "np.zeros((5,5), dtype=float)"
   ]
  },
  {
   "cell_type": "code",
   "execution_count": 8,
   "id": "6de9f14f",
   "metadata": {},
   "outputs": [
    {
     "data": {
      "text/plain": [
       "array([[10, 10],\n",
       "       [10, 10]])"
      ]
     },
     "execution_count": 8,
     "metadata": {},
     "output_type": "execute_result"
    }
   ],
   "source": [
    "#Fill a 2x2 matrix with 10\n",
    "np.full((2,2), 10, dtype=int)"
   ]
  },
  {
   "cell_type": "markdown",
   "id": "7facafcd",
   "metadata": {},
   "source": [
    "## Fill an array with random values:\n",
    "Module numpy.random is used to generate random values.  \n",
    "\n",
    "Some examples of uniform random generators \n",
    "\n",
    "* np.random.rand tirage uniforme continu dans [0,1[\n",
    "* np.random.random tirage uniforme continu dans [0,1[\n",
    "* np.random.randint tirage uniforme discret dans [a, b[\n",
    "* np.random.random_integers tirage uniforme discret dans [a, b]\n",
    "* np.random.randn tirage gaussien dans [0,1["
   ]
  },
  {
   "cell_type": "code",
   "execution_count": null,
   "id": "0b7f96a0",
   "metadata": {},
   "outputs": [],
   "source": [
    "#Fill a 1D array with 100 floats in (-1.0, 1.0)\n",
    "a = np.zeros(100)\n",
    "for i in range(100):\n",
    "    a[i] = np.random.uniform(-1.0, 1.0)\n",
    "print(a)"
   ]
  },
  {
   "cell_type": "code",
   "execution_count": null,
   "id": "329ea59c",
   "metadata": {},
   "outputs": [],
   "source": [
    "#Alternative solution\n",
    "a = np.random.uniform(-1.0, 1.0, 100)\n",
    "print(a)"
   ]
  },
  {
   "cell_type": "code",
   "execution_count": null,
   "id": "fd51e9f7",
   "metadata": {},
   "outputs": [],
   "source": [
    "#Fill a 5x3 matrix with integers in (1, 10)\n",
    "a = np.random.randint(1,10, [5,3])\n",
    "print(a)"
   ]
  },
  {
   "cell_type": "markdown",
   "id": "5f3207ba",
   "metadata": {},
   "source": [
    "## Reshaping arrays:"
   ]
  },
  {
   "cell_type": "code",
   "execution_count": null,
   "id": "abd4fc54",
   "metadata": {},
   "outputs": [],
   "source": [
    "#1D Array\n",
    "a = np.arange(10)\n",
    "a"
   ]
  },
  {
   "cell_type": "code",
   "execution_count": null,
   "id": "8d98ee16",
   "metadata": {},
   "outputs": [],
   "source": [
    "#Reshape a to 2D array (2x5)\n",
    "a.reshape(2, 5)"
   ]
  },
  {
   "cell_type": "code",
   "execution_count": null,
   "id": "2227b34d",
   "metadata": {},
   "outputs": [],
   "source": [
    "#Alternative: setting to -1 automatically decides the number of cols\n",
    "a.reshape(2, -1)"
   ]
  },
  {
   "cell_type": "markdown",
   "id": "ead07ca5",
   "metadata": {},
   "source": [
    "## Change type of data in arrays:"
   ]
  },
  {
   "cell_type": "code",
   "execution_count": null,
   "id": "4d7a590d",
   "metadata": {},
   "outputs": [],
   "source": [
    "#Transform data in 1D array as integers\n",
    "b = a.astype(int)\n",
    "b"
   ]
  },
  {
   "cell_type": "code",
   "execution_count": null,
   "id": "3b8aecef",
   "metadata": {},
   "outputs": [],
   "source": [
    "#Transform data from 2nd column of a 2D array to float values\n",
    "c = np.random.randint(1,10, [5,3])\n",
    "print(c)\n",
    "column1 = c[:,1].astype(float)\n",
    "print(column1)"
   ]
  },
  {
   "cell_type": "markdown",
   "id": "20cfdecc",
   "metadata": {},
   "source": [
    "# Indexes and selections"
   ]
  },
  {
   "cell_type": "code",
   "execution_count": null,
   "id": "4797326b",
   "metadata": {},
   "outputs": [],
   "source": [
    "#1D Arrays of 20 integers\n",
    "a = np.random.randint(1,10, 20)\n",
    "print(a)"
   ]
  },
  {
   "cell_type": "code",
   "execution_count": null,
   "id": "4302deeb",
   "metadata": {},
   "outputs": [],
   "source": [
    "#Print 3rd value from a\n",
    "print(a[3])"
   ]
  },
  {
   "cell_type": "code",
   "execution_count": null,
   "id": "4dbed532",
   "metadata": {},
   "outputs": [],
   "source": [
    "#Print 3rd to 7th value of a\n",
    "print(a[3:8])"
   ]
  },
  {
   "cell_type": "code",
   "execution_count": null,
   "id": "24940726",
   "metadata": {},
   "outputs": [],
   "source": [
    "#Select values > 5 in a\n",
    "a[a>5]"
   ]
  },
  {
   "cell_type": "code",
   "execution_count": null,
   "id": "d51b832a",
   "metadata": {},
   "outputs": [],
   "source": [
    "#indexes of values in [5, 9]\n",
    "indexes = np.where((a>=5) & (a<=9))\n",
    "a[indexes]"
   ]
  },
  {
   "cell_type": "code",
   "execution_count": null,
   "id": "407869c0",
   "metadata": {},
   "outputs": [],
   "source": [
    "#5x3 Matrix of integers\n",
    "m = np.random.randint(1,10, [5,3])\n",
    "print(m)"
   ]
  },
  {
   "cell_type": "code",
   "execution_count": null,
   "id": "5172b408",
   "metadata": {},
   "outputs": [],
   "source": [
    "#Print 1st row\n",
    "print(m[0])"
   ]
  },
  {
   "cell_type": "code",
   "execution_count": null,
   "id": "f3955ce7",
   "metadata": {},
   "outputs": [],
   "source": [
    "#Print last row\n",
    "print(m[-1])"
   ]
  },
  {
   "cell_type": "code",
   "execution_count": null,
   "id": "bc102ab5",
   "metadata": {},
   "outputs": [],
   "source": [
    "#Print 2nd column\n",
    "print(m[ : ,1])"
   ]
  },
  {
   "cell_type": "code",
   "execution_count": null,
   "id": "be7ab53a",
   "metadata": {},
   "outputs": [],
   "source": [
    "#Print 2nd to 3rd row, 1st and 2nd column\n",
    "print(m[1:3, 0:2])"
   ]
  },
  {
   "cell_type": "markdown",
   "id": "a72959ba",
   "metadata": {},
   "source": [
    "# Basic operations\n",
    "## Arithmetic operations are performed on every elements of the array."
   ]
  },
  {
   "cell_type": "code",
   "execution_count": null,
   "id": "b6f0a111",
   "metadata": {},
   "outputs": [],
   "source": [
    "#1D Arrays\n",
    "a = np.array([10,20,30])\n",
    "b = np.array([1,2,3])\n",
    "print(a)\n",
    "print(b)"
   ]
  },
  {
   "cell_type": "code",
   "execution_count": null,
   "id": "8770e715",
   "metadata": {},
   "outputs": [],
   "source": [
    "#Scalars\n",
    "#addition\n",
    "a + 1"
   ]
  },
  {
   "cell_type": "code",
   "execution_count": null,
   "id": "ccd900ad",
   "metadata": {},
   "outputs": [],
   "source": [
    "#Multiplication\n",
    "a * 3"
   ]
  },
  {
   "cell_type": "code",
   "execution_count": null,
   "id": "227ef0fb",
   "metadata": {},
   "outputs": [],
   "source": [
    "#With arrays\n",
    "#sum (element to element)\n",
    "a + b"
   ]
  },
  {
   "cell_type": "code",
   "execution_count": null,
   "id": "9d29a500",
   "metadata": {},
   "outputs": [],
   "source": [
    "#Matrices\n",
    "m = np.array([(10,20),(30,40)])\n",
    "n = np.array([(1,2),(3,4)])\n",
    "print(m)\n",
    "print(n)"
   ]
  },
  {
   "cell_type": "code",
   "execution_count": null,
   "id": "cda00c07",
   "metadata": {},
   "outputs": [],
   "source": [
    "#sum (element to element)\n",
    "m + n"
   ]
  },
  {
   "cell_type": "code",
   "execution_count": null,
   "id": "b29d31e1",
   "metadata": {},
   "outputs": [],
   "source": [
    "#product (element to element)\n",
    "m * n"
   ]
  },
  {
   "cell_type": "code",
   "execution_count": null,
   "id": "4971f2a1",
   "metadata": {},
   "outputs": [],
   "source": [
    "#matrix product\n",
    "m.dot(n)"
   ]
  },
  {
   "cell_type": "markdown",
   "id": "9b211812",
   "metadata": {},
   "source": [
    "## Operations with arrays"
   ]
  },
  {
   "cell_type": "code",
   "execution_count": null,
   "id": "7b05c665",
   "metadata": {},
   "outputs": [],
   "source": [
    "#1D Arrays\n",
    "a = np.random.randint(1,10, 20)\n",
    "b = np.random.randint(1,10, 20)\n",
    "print(a)\n",
    "print(b)"
   ]
  },
  {
   "cell_type": "code",
   "execution_count": null,
   "id": "003b8e2e",
   "metadata": {},
   "outputs": [],
   "source": [
    "#Common items in a and b\n",
    "np.intersect1d(a,b)"
   ]
  },
  {
   "cell_type": "code",
   "execution_count": null,
   "id": "4d486402",
   "metadata": {},
   "outputs": [],
   "source": [
    "#Remove items from a that are in b\n",
    "np.setdiff1d(a,b)"
   ]
  },
  {
   "cell_type": "code",
   "execution_count": null,
   "id": "c1d293df",
   "metadata": {},
   "outputs": [],
   "source": [
    "#Indexes of matching elements in a and b\n",
    "indexes = np.where(a == b)\n",
    "indexes"
   ]
  },
  {
   "cell_type": "code",
   "execution_count": null,
   "id": "1a919545",
   "metadata": {},
   "outputs": [],
   "source": [
    "# Another use of the np.where: produce a new array of the same size, with␣\n",
    ", → valuesdepending on a condition\n",
    "# Example: replace in a all the NAN value by -100 (the other values being␣\n",
    ", → unchanged)\n",
    "np.where(np.isnan(a),-100,a)"
   ]
  },
  {
   "cell_type": "markdown",
   "id": "4a5e403b",
   "metadata": {},
   "source": [
    "# Exercise 1\n",
    "1. Create 1D array t1 of 100 float values. Fill this array with random values in [-1.0, 1.0].\n",
    "2. Calculate mean, median and standard deviation of t1.\n",
    "3. Create arrays t2 and t3 that contains respectively positive and negative values from t1.\n",
    "4. Create t4 by removing negatives values from t1.\n",
    "5. Create t5 by replacing values in t1 that are greater than 0.5 with 1.0.\n",
    "6. Find max and min values of t1\n",
    "7. Reshape t1 as m1, 25x4 matrix\n",
    "8. Compute mean values for each row then for each column\n",
    "9. Replace randomly values in m1 with np.nan (create m2). Make sure there is at least one NaN in each column.\n",
    "10. Count NaN values in m2 and show indexes of NaNs\n",
    "11. Compute mean value without NaNs of 1st column of m2. Replace NaNS in 1st column with mean value.\n",
    "12. Create a function removeNaNs that, given a matrix mat and a column c, replaces NaNS in c with mean value of c.\n",
    "13. Apply removeNaNs for each column of m2.\n",
    "14. Find max value for each column of m1.\n",
    "15. Find min value for each row of m1.\n",
    "\n",
    "# Exercise 2\n",
    "\n",
    "1. Create 10x6 2D array m filled with random integers in [0, 10].\n",
    "2. Create the function that computes the counts of unique values row-wise. Output is 10x11 matrix where columns represent numbers from 0 to 10. The values are the counts of the numbers in the respective rows. (cf. numpy.bincount function)"
   ]
  },
  {
   "cell_type": "markdown",
   "id": "6b4d1ac9",
   "metadata": {},
   "source": [
    "# Data analysis with NumPy\n",
    "NumPy implements usual data analysis functions such as sum, mean, median and standard devia-\n",
    "tion:"
   ]
  },
  {
   "cell_type": "code",
   "execution_count": null,
   "id": "ff72f647",
   "metadata": {},
   "outputs": [],
   "source": [
    "#1D Array\n",
    "a = np.random.uniform(0.0,1.0, 1000)\n",
    "print(a)"
   ]
  },
  {
   "cell_type": "code",
   "execution_count": null,
   "id": "79e5c222",
   "metadata": {},
   "outputs": [],
   "source": [
    "#sum\n",
    "np.sum(a)"
   ]
  },
  {
   "cell_type": "code",
   "execution_count": null,
   "id": "24442bf1",
   "metadata": {},
   "outputs": [],
   "source": [
    "#mean\n",
    "np.mean(a)"
   ]
  },
  {
   "cell_type": "code",
   "execution_count": null,
   "id": "fe004e56",
   "metadata": {},
   "outputs": [],
   "source": [
    "#median\n",
    "np.median(a)"
   ]
  },
  {
   "cell_type": "code",
   "execution_count": null,
   "id": "196a1f8e",
   "metadata": {},
   "outputs": [],
   "source": [
    "#standard deviation\n",
    "np.std(a)"
   ]
  },
  {
   "cell_type": "code",
   "execution_count": null,
   "id": "8fe516d8",
   "metadata": {},
   "outputs": [],
   "source": [
    "#mean and std ignoring NaNs\n",
    "print(np.nanmean(a))\n",
    "print(np.nanstd(a))"
   ]
  },
  {
   "cell_type": "markdown",
   "id": "a2f62c90",
   "metadata": {},
   "source": [
    "To detect NaN values in arrays, you can use the isnan function."
   ]
  },
  {
   "cell_type": "code",
   "execution_count": null,
   "id": "edf016b5",
   "metadata": {},
   "outputs": [],
   "source": [
    "a = np.array([10,20,np.nan,40,50,np.nan,np.nan,80,100])\n",
    "b = np.array([(10,np.nan),(np.nan,40),(50,60) ,(np.nan,70)])\n",
    "print(a)\n",
    "print(b)"
   ]
  },
  {
   "cell_type": "code",
   "execution_count": null,
   "id": "120994a0",
   "metadata": {},
   "outputs": [],
   "source": [
    "#Check one value in a\n",
    "np.isnan(a[3])"
   ]
  },
  {
   "cell_type": "code",
   "execution_count": null,
   "id": "b333e750",
   "metadata": {},
   "outputs": [],
   "source": [
    "#Test all elements in a\n",
    "np.isnan(a)"
   ]
  },
  {
   "cell_type": "code",
   "execution_count": null,
   "id": "6169cb0a",
   "metadata": {},
   "outputs": [],
   "source": [
    "#Check 2nd column in a matrix b\n",
    "np.isnan(b[:,1])"
   ]
  },
  {
   "cell_type": "code",
   "execution_count": null,
   "id": "cb1ed256",
   "metadata": {},
   "outputs": [],
   "source": [
    "#indexes of NaN values in the 2nd column of b\n",
    "np.where(np.isnan(b[:,1]))"
   ]
  },
  {
   "cell_type": "markdown",
   "id": "3078dd99",
   "metadata": {},
   "source": [
    "# Import data from files"
   ]
  },
  {
   "cell_type": "markdown",
   "id": "bfc094a1",
   "metadata": {},
   "source": [
    "np.genfromtxt function allows to import data form file in numpy arrays."
   ]
  },
  {
   "cell_type": "code",
   "execution_count": null,
   "id": "682841fe",
   "metadata": {},
   "outputs": [],
   "source": [
    "#import data as 1D array of tuples containing different data types\n",
    "data = np.genfromtxt('file_name.csv', delimiter=',', dtype=None)"
   ]
  },
  {
   "cell_type": "code",
   "execution_count": null,
   "id": "a02aba85",
   "metadata": {},
   "outputs": [],
   "source": [
    "#import data as 2D array each line containing different data types\n",
    "data = np.genfromtxt('file_name.csv', delimiter=',', dtype=object)"
   ]
  },
  {
   "cell_type": "code",
   "execution_count": null,
   "id": "b9e38f74",
   "metadata": {},
   "outputs": [],
   "source": [
    "#import data selecting columns 2, 4, 5 only\n",
    "data = np.genfromtxt('file_name.csv', delimiter=',', usecols=(2,4,5))"
   ]
  },
  {
   "cell_type": "code",
   "execution_count": null,
   "id": "5e838103",
   "metadata": {},
   "outputs": [],
   "source": [
    "#import data as 2D array of same data type, removing headers\n",
    "data = np.genfromtxt('file_name.csv', delimiter=',', skip_header=1)"
   ]
  },
  {
   "cell_type": "markdown",
   "id": "ad9ec95b",
   "metadata": {},
   "source": [
    "# Exercise 3\n",
    "1. Import without headers airquality dataset from the file ‘airquality.csv’ from Moodle.\n",
    "2. Remove 1st column of imported data.\n",
    "3. Count NaN values in each column.\n",
    "4. Extract data from 2nd column without NaN values.\n",
    "5. For each column, replace NaNs with mean value.\n",
    "6. Write a function that returns ozone value according to selected month and day.\n",
    "\n",
    "# Exercise 4\n",
    "1. Import the iris dataset keeping the text intact as a 2D array names irisdata (to keep the text intact, choose the “good” datatype). Url: https://archive.ics.uci.edu/ml/machine-learning-databases/iris/iris.data The columns are sepal length, sepal width, petal length, petal width and species.\n",
    "2. Extract from irisdata the species column as an array of string named species\n",
    "3. Extract from irisdata sepal length column as an array of float values\n",
    "4. Change type of irisdata 1st to 4th column to float and last one to string.\n",
    "5. Find the mean, median, standard deviation of iris’s sepal length (1st column)\n",
    "6. Normalize values of iris’s petal length.\n",
    "7. Create function that normalize values in any column of an array.\n",
    "8. Create function softmax that computes the softmax function (or normalized exponential function) of any column of an array.\n",
    "9. Add to irisdata a new column for volumes.\n",
    "\n",
    "Volume = Pi/3 * petalLength * sepalLength*sepalLength\n",
    "\n",
    "10. Computes mean and standard deviation values of volumes according to species.*\n"
   ]
  },
  {
   "cell_type": "markdown",
   "id": "e18109c0",
   "metadata": {},
   "source": [
    "# Scipy in Python \n",
    "\n",
    "SciPy in Python is an open-source library used for solving mathematical, scientific, engineering, and technical problems. It allows users to manipulate the data and visualize the data using a wide range of high-level Python commands. \n",
    "\n",
    "Sub-packages of SciPy:\n",
    "\n",
    "* File input/output – scipy.io\n",
    "* Special Function – scipy.special\n",
    "* Linear Algebra Operation – scipy.linalg\n",
    "* Interpolation – scipy.interpolate\n",
    "* Optimization and fit – scipy.optimize\n",
    "* Statistics and random numbers – scipy.stats\n",
    "* Numerical Integration – scipy.integrate\n",
    "* Fast Fourier transforms – scipy.fftpack\n",
    "* Signal Processing – scipy.signal\n",
    "* Image manipulation – scipy.ndimage\n",
    "* Integration and ordinary differential equation solvers – scipy.integrate\n",
    "* Sparse matrices and associated routines – scipy.sparse"
   ]
  },
  {
   "cell_type": "markdown",
   "id": "514866a2",
   "metadata": {},
   "source": [
    "# Load Scipy and install \n",
    "\n",
    "The standard way to import SciPy modules and Numpy:"
   ]
  },
  {
   "cell_type": "code",
   "execution_count": 16,
   "id": "f547bdeb",
   "metadata": {
    "scrolled": true
   },
   "outputs": [],
   "source": [
    "import numpy as np\n",
    "import scipy as sp"
   ]
  },
  {
   "cell_type": "markdown",
   "id": "aea7cf84",
   "metadata": {},
   "source": [
    "## Interpolation"
   ]
  },
  {
   "cell_type": "code",
   "execution_count": 17,
   "id": "5aa77f58",
   "metadata": {},
   "outputs": [],
   "source": [
    "from scipy.interpolate import interp1d \n",
    "x = np.linspace(-1, 1, num=5)  # 5 points evenly spaced in [-1,1].\n",
    "y = (x-1.)*(x-0.5)*(x+0.5)     # x and y are numpy arrays\n",
    "f0 = interp1d(x,y, kind='zero')\n",
    "f1 = interp1d(x,y, kind='linear') \n",
    "f2 = interp1d(x,y, kind='quadratic') \n",
    "f3 = interp1d(x,y, kind='cubic') \n",
    "f4 = interp1d(x,y, kind='nearest') "
   ]
  },
  {
   "cell_type": "code",
   "execution_count": 18,
   "id": "5b29df71",
   "metadata": {},
   "outputs": [
    {
     "data": {
      "image/png": "[encoded data removed]",
      "text/plain": [
       "<Figure size 1000x600 with 1 Axes>"
      ]
     },
     "metadata": {},
     "output_type": "display_data"
    }
   ],
   "source": [
    "import matplotlib.pyplot as plt\n",
    "plt.rcParams['figure.figsize'] = (10,6)\n",
    "xnew = np.linspace(-1, 1, num=40) \n",
    "ynew = (xnew-1.)*(xnew-0.5)*(xnew+0.5) \n",
    "plt.plot(x,y,'D',xnew,f0(xnew),':', xnew, f1(xnew),'-.',\n",
    "                xnew,f2(xnew),'-',xnew ,f3(xnew),'--',\n",
    "                xnew,f4(xnew),'--',xnew, ynew, linewidth=2)\n",
    "plt.legend(['data','zero','linear','quadratic','cubic','nearest','exact'],\n",
    "          loc='best');"
   ]
  },
  {
   "cell_type": "markdown",
   "id": "81608dd8",
   "metadata": {},
   "source": [
    "## Linear Algebra\n",
    "* Linear Algebra of SciPy is an implementation of BLAS and ATLAS LAPACK libraries.\n",
    "* Performance of Linear Algebra is very fast compared to BLAS and LAPACK.\n",
    "* Linear algebra routine accepts two-dimensional array object and output is also a two-dimensional array."
   ]
  },
  {
   "cell_type": "markdown",
   "id": "2d34ba2f",
   "metadata": {},
   "source": [
    "### Calculating determinant of a two-dimensional matrix"
   ]
  },
  {
   "cell_type": "code",
   "execution_count": 19,
   "id": "e7314a49",
   "metadata": {},
   "outputs": [
    {
     "data": {
      "text/plain": [
       "-7.0"
      ]
     },
     "execution_count": 19,
     "metadata": {},
     "output_type": "execute_result"
    }
   ],
   "source": [
    "from scipy import linalg\n",
    "import numpy as np\n",
    "#define square matrix\n",
    "two_d_array = np.array([ [4,5], [3,2] ])\n",
    "#pass values to det() function\n",
    "linalg.det( two_d_array )"
   ]
  },
  {
   "cell_type": "markdown",
   "id": "0c752337",
   "metadata": {},
   "source": [
    "### Inverse Matrix"
   ]
  },
  {
   "cell_type": "code",
   "execution_count": 20,
   "id": "a02b8ee1",
   "metadata": {},
   "outputs": [
    {
     "data": {
      "text/plain": [
       "array([[-0.28571429,  0.71428571],\n",
       "       [ 0.42857143, -0.57142857]])"
      ]
     },
     "execution_count": 20,
     "metadata": {},
     "output_type": "execute_result"
    }
   ],
   "source": [
    "from scipy import linalg\n",
    "import numpy as np\n",
    "# define square matrix\n",
    "two_d_array = np.array([ [4,5], [3,2] ])\n",
    "#pass value to function inv()\n",
    "linalg.inv( two_d_array )"
   ]
  },
  {
   "cell_type": "markdown",
   "id": "c17053e3",
   "metadata": {},
   "source": [
    "### Eigenvalues and Eigenvector"
   ]
  },
  {
   "cell_type": "code",
   "execution_count": 21,
   "id": "2c7572e9",
   "metadata": {},
   "outputs": [
    {
     "name": "stdout",
     "output_type": "stream",
     "text": [
      "[ 9.+0.j -1.+0.j]\n",
      "[[ 0.70710678 -0.5547002 ]\n",
      " [ 0.70710678  0.83205029]]\n"
     ]
    }
   ],
   "source": [
    "from scipy import linalg\n",
    "import numpy as np\n",
    "#define two dimensional array\n",
    "arr = np.array([[5,4],[6,3]])\n",
    "#pass value into function\n",
    "eg_val, eg_vect = linalg.eig(arr)\n",
    "#get eigenvalues\n",
    "print(eg_val)\n",
    "#get eigenvectors\n",
    "print(eg_vect)"
   ]
  },
  {
   "cell_type": "markdown",
   "id": "6f9a7697",
   "metadata": {},
   "source": [
    "## Optimization and Fit\n",
    "* Optimization provides a useful algorithm for minimization of curve fitting, multidimensional or scalar and root fitting.\n",
    "\n",
    "### Function of one variable "
   ]
  },
  {
   "cell_type": "code",
   "execution_count": 27,
   "id": "4c844d19",
   "metadata": {},
   "outputs": [
    {
     "data": {
      "image/png": "[encoded data removed]",
      "text/plain": [
       "<Figure size 1000x600 with 1 Axes>"
      ]
     },
     "metadata": {},
     "output_type": "display_data"
    }
   ],
   "source": [
    "f = lambda x: x**2 + 1 # a x^T x + 0*x + 1\n",
    "\n",
    "x = np.linspace(-2,2,500)\n",
    "plt.plot(x, f(x))\n",
    "plt.show()"
   ]
  },
  {
   "cell_type": "code",
   "execution_count": 29,
   "id": "38b2460c",
   "metadata": {},
   "outputs": [
    {
     "data": {
      "text/plain": [
       " message: \n",
       "          Optimization terminated successfully;\n",
       "          The returned value satisfies the termination criteria\n",
       "          (using xtol = 1.48e-08 )\n",
       " success: True\n",
       "     fun: 1.0\n",
       "       x: 9.803862664247969e-09\n",
       "     nit: 36\n",
       "    nfev: 39"
      ]
     },
     "execution_count": 29,
     "metadata": {},
     "output_type": "execute_result"
    }
   ],
   "source": [
    "import scipy.optimize as opt\n",
    "sol = opt.minimize_scalar(f)\n",
    "sol"
   ]
  },
  {
   "cell_type": "markdown",
   "id": "5c56854e",
   "metadata": {},
   "source": [
    "The return type gives you the function value `sol.fun`, as well as the value of x which achieve the minimum `sol.x`.\n",
    "\n",
    "If you want to add constraints such as $x \\ge 1$ you can use bounds, along with specifying the bounded method:"
   ]
  },
  {
   "cell_type": "code",
   "execution_count": 30,
   "id": "39d819ae",
   "metadata": {},
   "outputs": [
    {
     "data": {
      "image/png": "[encoded data removed]",
      "text/plain": [
       "<Figure size 1000x600 with 1 Axes>"
      ]
     },
     "metadata": {},
     "output_type": "display_data"
    }
   ],
   "source": [
    "sol = opt.minimize_scalar(f, bounds=(1, 1000), method='bounded')\n",
    "x = np.linspace(-2,2,500)\n",
    "plt.plot(x, f(x))\n",
    "plt.scatter([sol.x], [sol.fun], label='solution')\n",
    "plt.legend()\n",
    "plt.show()"
   ]
  },
  {
   "cell_type": "markdown",
   "id": "e8b8b163",
   "metadata": {},
   "source": [
    "### Functions of Multiple variables\n",
    "You might also wish to minimize functions of multiple variables. In this case, you use `opt.minimize`\n",
    "\n",
    "A multivariate quadratic generally has the form $x^T A x + b^T x + c$, where $x$ is an n-dimensional vector, $A$ is a $n x n$ matrix, $b$ is a n-dimensional vector, and $c$ is a scalar. When $A$ is positive definite (PD), there is a unique minimum.\n"
   ]
  },
  {
   "cell_type": "code",
   "execution_count": 31,
   "id": "aa9cf87f",
   "metadata": {},
   "outputs": [
    {
     "data": {
      "text/plain": [
       "  message: Optimization terminated successfully.\n",
       "  success: True\n",
       "   status: 0\n",
       "      fun: 3.7358754443226086e-15\n",
       "        x: [ 7.171e-01  2.629e-01]\n",
       "      nit: 3\n",
       "      jac: [ 3.535e-10 -5.783e-09]\n",
       " hess_inv: [[ 1.124e+00  2.999e-01]\n",
       "            [ 2.999e-01  1.188e-01]]\n",
       "     nfev: 15\n",
       "     njev: 5"
      ]
     },
     "execution_count": 31,
     "metadata": {},
     "output_type": "execute_result"
    }
   ],
   "source": [
    "n = 2\n",
    "A = np.random.randn(n+1,n)\n",
    "A = A.T @ A # generates positive-definite matrix\n",
    "\n",
    "b = np.random.rand(n)\n",
    "\n",
    "f = lambda x : np.dot(x - b, A @ (x - b)) # (x - b)^T A (x - b)\n",
    "\n",
    "sol = opt.minimize(f, np.zeros(n))\n",
    "sol\n"
   ]
  },
  {
   "cell_type": "markdown",
   "id": "8cdfe55e",
   "metadata": {},
   "source": [
    "The solution for the above problem is x = b"
   ]
  },
  {
   "cell_type": "code",
   "execution_count": 33,
   "id": "7a10802e",
   "metadata": {},
   "outputs": [
    {
     "name": "stdout",
     "output_type": "stream",
     "text": [
      "[0.71705195 0.26291231]\n",
      "[0.71705203 0.26291234]\n",
      "8.696265731086589e-08\n"
     ]
    }
   ],
   "source": [
    "print(sol.x)\n",
    "print(b)\n",
    "print(np.linalg.norm(sol.x - b))"
   ]
  },
  {
   "cell_type": "markdown",
   "id": "2080b0cc",
   "metadata": {},
   "source": [
    "### Constraints"
   ]
  },
  {
   "cell_type": "markdown",
   "id": "10263cf4",
   "metadata": {},
   "source": [
    "Passing in a function to be optimized is fairly straightforward. Constraints are slightly less trivial. These are specified using classes LinearConstraint and NonlinearConstraint\n",
    "\n",
    "* Linear constraints take the form $lb <= A @ x <= ub$\n",
    "\n",
    "* Nonlinear constraints take the form $lb <= fun(x) <= ub$\n",
    "\n",
    "For the special case of a linear constraint with the form $lb <= x <= ub$, you can use `Bounds`.\n",
    "\n"
   ]
  },
  {
   "cell_type": "markdown",
   "id": "dcb10788",
   "metadata": {},
   "source": [
    "### Linear constraints \n",
    "Let’s look at how you might implement on a 2-d vector x, the linear constraints: $-1 \\le x_0 \\le 1,\\,\\, c \\le A * x \\le d$ where `A = np.array([[1,1],[0, 1]], c = -2 * np.ones(2)`, and `d = 2 * np.ones(2)`"
   ]
  },
  {
   "cell_type": "code",
   "execution_count": 35,
   "id": "14beca5a",
   "metadata": {},
   "outputs": [],
   "source": [
    "from scipy.optimize import Bounds, LinearConstraint\n",
    "\n",
    "# constraint 1\n",
    "C1 = Bounds(np.array([-1, -np.inf]), np.array([1,np.inf]))\n",
    "\n",
    "# constraint 2\n",
    "A = np.array([[1,1],[0,1]])\n",
    "c = -2 * np.ones(2)\n",
    "d = 2 * np.ones(2)\n",
    "C2 = LinearConstraint(A, c, d)"
   ]
  },
  {
   "cell_type": "markdown",
   "id": "8af2c57d",
   "metadata": {},
   "source": [
    "here’s a visualization of the constrained region:"
   ]
  },
  {
   "cell_type": "code",
   "execution_count": 36,
   "id": "151937ea",
   "metadata": {},
   "outputs": [
    {
     "data": {
      "image/png": "[encoded data removed]",
      "text/plain": [
       "<Figure size 1000x600 with 1 Axes>"
      ]
     },
     "metadata": {},
     "output_type": "display_data"
    }
   ],
   "source": [
    "n = 100\n",
    "xx, yy = np.meshgrid(np.linspace(-3,3,n), np.linspace(-3,3,n))\n",
    "\n",
    "C = np.zeros((n, n))\n",
    "for i in range(n):\n",
    "    for j in range(n):\n",
    "        x = np.array([xx[i,j], yy[i,j]])\n",
    "        # constraint 1 \n",
    "        c1 = -1 <= xx[i,j] <= 1\n",
    "        # constraint 2\n",
    "        c2 = np.all((c <= A@x, A@x <= d))\n",
    "        C[i,j] = c1 and c2\n",
    "        \n",
    "plt.imshow(C, extent=(-3,3,-3,3), origin='lower')\n",
    "plt.show()"
   ]
  },
  {
   "cell_type": "markdown",
   "id": "05ff98b3",
   "metadata": {},
   "source": [
    "Now, let’s say we want to minimize a function f(x) subject to x obeying the constraints given above. We can simply pass in the constraints"
   ]
  },
  {
   "cell_type": "code",
   "execution_count": 37,
   "id": "ee532147",
   "metadata": {},
   "outputs": [
    {
     "data": {
      "text/plain": [
       " message: Optimization terminated successfully\n",
       " success: True\n",
       "  status: 0\n",
       "     fun: -1.9999999998192814\n",
       "       x: [-1.000e+00  2.000e+00]\n",
       "     nit: 6\n",
       "     jac: [ 2.000e+00 -1.000e+00]\n",
       "    nfev: 18\n",
       "    njev: 6"
      ]
     },
     "execution_count": 37,
     "metadata": {},
     "output_type": "execute_result"
    }
   ],
   "source": [
    "f = lambda x : x[0]*x[1]\n",
    "sol = opt.minimize(f, np.random.rand(2), bounds=C1, constraints=(C2,))\n",
    "sol"
   ]
  },
  {
   "cell_type": "markdown",
   "id": "a890cb5f",
   "metadata": {},
   "source": [
    "Let’s visualize the function in the constrained region:"
   ]
  },
  {
   "cell_type": "code",
   "execution_count": 38,
   "id": "fa287e31",
   "metadata": {},
   "outputs": [
    {
     "data": {
      "image/png": "[encoded data removed]",
      "text/plain": [
       "<Figure size 1000x600 with 2 Axes>"
      ]
     },
     "metadata": {},
     "output_type": "display_data"
    }
   ],
   "source": [
    "F = np.zeros((n, n))\n",
    "\n",
    "for i in range(n):\n",
    "    for j in range(n):\n",
    "        if C[i,j]:\n",
    "            F[i,j] = f([xx[i,j], yy[i,j]])\n",
    "        else:\n",
    "            F[i,j] = np.nan\n",
    "            \n",
    "plt.imshow(F, extent=(-3,3,-3,3), origin='lower')\n",
    "plt.colorbar()\n",
    "plt.show()"
   ]
  },
  {
   "cell_type": "markdown",
   "id": "47ffbf02",
   "metadata": {},
   "source": [
    "We see that [-1,2] does appear to be a minimum"
   ]
  },
  {
   "cell_type": "markdown",
   "id": "cb717bd6",
   "metadata": {},
   "source": [
    "### Nonlinear constraints\n",
    "Nonlinear constraints can be used to define more complicated domains. For instance, let’s look at the constraint \\begin{equation} 1 \\le | x |_2 \\le 2 \\end{equation}\n",
    "\n"
   ]
  },
  {
   "cell_type": "code",
   "execution_count": 39,
   "id": "18ab1f5a",
   "metadata": {},
   "outputs": [],
   "source": [
    "from scipy.optimize import NonlinearConstraint\n",
    "\n",
    "C3 = NonlinearConstraint(lambda x : np.linalg.norm(x), 1, 2)"
   ]
  },
  {
   "cell_type": "markdown",
   "id": "cdf26a04",
   "metadata": {},
   "source": [
    "we can visualize this constraint again, and we see that it defines an annulus"
   ]
  },
  {
   "cell_type": "code",
   "execution_count": 40,
   "id": "af5c185b",
   "metadata": {},
   "outputs": [
    {
     "data": {
      "image/png": "[encoded data removed]",
      "text/plain": [
       "<Figure size 1000x600 with 1 Axes>"
      ]
     },
     "metadata": {},
     "output_type": "display_data"
    }
   ],
   "source": [
    "n = 100\n",
    "xx, yy = np.meshgrid(np.linspace(-3,3,n), np.linspace(-3,3,n))\n",
    "\n",
    "C = np.zeros((n, n))\n",
    "for i in range(n):\n",
    "    for j in range(n):\n",
    "        x = np.array([xx[i,j], yy[i,j]])\n",
    "        C[i,j] = 1 <= np.linalg.norm(x) <= 2\n",
    "        \n",
    "plt.imshow(C, extent=(-3,3,-3,3), origin='lower')\n",
    "plt.show()"
   ]
  },
  {
   "cell_type": "markdown",
   "id": "b228db1e",
   "metadata": {},
   "source": [
    "Let’s try minimizing the same function as before: $f(x) = x[0]*x[1]$"
   ]
  },
  {
   "cell_type": "code",
   "execution_count": 41,
   "id": "f6f64fab",
   "metadata": {},
   "outputs": [
    {
     "data": {
      "image/png": "[encoded data removed]",
      "text/plain": [
       "<Figure size 1000x600 with 2 Axes>"
      ]
     },
     "metadata": {},
     "output_type": "display_data"
    }
   ],
   "source": [
    "f = lambda x : x[0]*x[1]\n",
    "\n",
    "F = np.zeros((n, n))\n",
    "\n",
    "for i in range(n):\n",
    "    for j in range(n):\n",
    "        if C[i,j]:\n",
    "            F[i,j] = f([xx[i,j], yy[i,j]])\n",
    "        else:\n",
    "            F[i,j] = np.nan\n",
    "            \n",
    "plt.imshow(F, extent=(-3,3,-3,3), origin='lower')\n",
    "plt.colorbar()\n",
    "plt.show()"
   ]
  },
  {
   "cell_type": "code",
   "execution_count": 42,
   "id": "d2d80c5b",
   "metadata": {},
   "outputs": [
    {
     "data": {
      "text/plain": [
       " message: Optimization terminated successfully\n",
       " success: True\n",
       "  status: 0\n",
       "     fun: -2.000000163191436\n",
       "       x: [-1.414e+00  1.414e+00]\n",
       "     nit: 9\n",
       "     jac: [ 1.414e+00 -1.414e+00]\n",
       "    nfev: 24\n",
       "    njev: 8"
      ]
     },
     "execution_count": 42,
     "metadata": {},
     "output_type": "execute_result"
    }
   ],
   "source": [
    "sol = opt.minimize(f, np.random.rand(2), constraints=(C3,))\n",
    "sol"
   ]
  },
  {
   "cell_type": "markdown",
   "id": "b59930f3",
   "metadata": {},
   "source": [
    "we see that the solution is close to a true minimizer $x=[-\\sqrt{2},\\sqrt{2}]$"
   ]
  }
 ],
 "metadata": {
  "kernelspec": {
   "display_name": "Python 3 (ipykernel)",
   "language": "python",
   "name": "python3"
  },
  "language_info": {
   "codemirror_mode": {
    "name": "ipython",
    "version": 3
   },
   "file_extension": ".py",
   "mimetype": "text/x-python",
   "name": "python",
   "nbconvert_exporter": "python",
   "pygments_lexer": "ipython3",
   "version": "3.10.6"
  }
 },
 "nbformat": 4,
 "nbformat_minor": 5
}
