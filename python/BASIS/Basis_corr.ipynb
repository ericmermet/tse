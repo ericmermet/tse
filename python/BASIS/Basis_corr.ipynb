{
 "cells": [
  {
   "cell_type": "markdown",
   "id": "49345996",
   "metadata": {},
   "source": [
    "### Exercise 1\n",
    "\n",
    "Write a loop that enables to calculate the sum of the 23 first integers."
   ]
  },
  {
   "cell_type": "code",
   "execution_count": null,
   "id": "d081a816",
   "metadata": {},
   "outputs": [],
   "source": [
    "s = 0\n",
    "for i in range(24):\n",
    "    s = s + i\n",
    "print(s)"
   ]
  },
  {
   "cell_type": "markdown",
   "id": "4806a128",
   "metadata": {},
   "source": [
    "### Exercise 2\n",
    "\n",
    "calculates the factorial of 12 using a while loop."
   ]
  },
  {
   "cell_type": "code",
   "execution_count": null,
   "id": "ecfcb1d9",
   "metadata": {},
   "outputs": [],
   "source": [
    "f = 1\n",
    "a = 1\n",
    "while a < 12:\n",
    "    a = a + 1\n",
    "    f = f * a\n",
    "print(f)"
   ]
  },
  {
   "cell_type": "markdown",
   "id": "8697bcbe",
   "metadata": {},
   "source": [
    "### Exercise 3\n",
    "Write and test the previous code with different values of a."
   ]
  },
  {
   "cell_type": "code",
   "execution_count": null,
   "id": "740a58a5",
   "metadata": {},
   "outputs": [],
   "source": [
    "a=4\n",
    "if a==0:\n",
    "    print(\"0\")\n",
    "elif a==1:\n",
    "    print(\"1\")\n",
    "else:\n",
    "    print(\"2\")"
   ]
  },
  {
   "cell_type": "markdown",
   "id": "161d391b",
   "metadata": {},
   "source": [
    "### Exercise 4\n",
    "\n",
    "Write a program that asks the user to enter student marks. If the user enters a negative value, the\n",
    "program stops. On the other hand, for each mark entered, the program progressively builds a list.\n",
    "After each entry of a new mark (and therefore every iteration of the loop), it displays the number\n",
    "of marks entered, the highest mark, the lowest mark, the average of all the marks.\n",
    "\n",
    "Tip: To create an empty list, it is suﬀicient to set the command line = []."
   ]
  },
  {
   "cell_type": "code",
   "execution_count": 2,
   "id": "9922dfd1",
   "metadata": {},
   "outputs": [
    {
     "name": "stdout",
     "output_type": "stream",
     "text": [
      "[10]\n",
      "Nb marks :  1\n",
      "Max :  10\n",
      "Min :  10\n",
      "Avg :  10\n",
      "[10, 5]\n",
      "Nb marks :  2\n",
      "Max :  10\n",
      "Min :  5\n",
      "Avg :  7.5\n",
      "[10, 5, 8]\n",
      "Nb marks :  3\n",
      "Max :  10\n",
      "Min :  5\n",
      "Avg :  7.666666666666667\n",
      "[10, 5, 8, 7]\n",
      "Nb marks :  4\n",
      "Max :  10\n",
      "Min :  5\n",
      "Avg :  7.5\n",
      "[10, 5, 8, 7, 12]\n",
      "Nb marks :  5\n",
      "Max :  12\n",
      "Min :  5\n",
      "Avg :  8.4\n",
      "[10, 5, 8, 7, 12, 0]\n",
      "Nb marks :  6\n",
      "Max :  12\n",
      "Min :  0\n",
      "Avg :  7\n"
     ]
    },
    {
     "ename": "ValueError",
     "evalue": "invalid literal for int() with base 10: ''",
     "output_type": "error",
     "traceback": [
      "\u001b[1;31m---------------------------------------------------------------------------\u001b[0m",
      "\u001b[1;31mValueError\u001b[0m                                Traceback (most recent call last)",
      "Cell \u001b[1;32mIn[2], line 5\u001b[0m\n\u001b[0;32m      3\u001b[0m note \u001b[38;5;241m=\u001b[39m\u001b[38;5;241m0\u001b[39m\n\u001b[0;32m      4\u001b[0m \u001b[38;5;28;01mwhile\u001b[39;00m(note \u001b[38;5;241m>\u001b[39m\u001b[38;5;241m=\u001b[39m \u001b[38;5;241m0\u001b[39m):\n\u001b[1;32m----> 5\u001b[0m     note \u001b[38;5;241m=\u001b[39m \u001b[38;5;28;43mint\u001b[39;49m\u001b[43m(\u001b[49m\u001b[38;5;28;43minput\u001b[39;49m\u001b[43m(\u001b[49m\u001b[38;5;124;43m\"\u001b[39;49m\u001b[38;5;124;43minsert a new note \u001b[39;49m\u001b[38;5;130;43;01m\\n\u001b[39;49;00m\u001b[38;5;124;43m\"\u001b[39;49m\u001b[43m)\u001b[49m\u001b[43m)\u001b[49m\n\u001b[0;32m      6\u001b[0m     line\u001b[38;5;241m.\u001b[39mappend(note)\n\u001b[0;32m      7\u001b[0m     \u001b[38;5;28mprint\u001b[39m(line)\n",
      "\u001b[1;31mValueError\u001b[0m: invalid literal for int() with base 10: ''"
     ]
    }
   ],
   "source": [
    "from statistics import mean\n",
    "line = []\n",
    "note =0\n",
    "while(note >= 0):\n",
    "    note = int(input(\"insert a new note \\n\"))\n",
    "    line.append(note)\n",
    "    print(line)\n",
    "    print(\"Nb marks : \",len(line))\n",
    "    print(\"Max : \",max(line))\n",
    "    print(\"Min : \",min(line))\n",
    "# print(\"Avg : \",np.mean(line))\n",
    "    print(\"Avg : \",mean(line))"
   ]
  },
  {
   "cell_type": "markdown",
   "id": "cd7e4867",
   "metadata": {},
   "source": [
    "### Exercise 5 \n",
    "\n",
    "Write a script that enables to obtain the following result (:\n",
    "\n",
    "Write a sentence\n",
    "une chaine\n",
    "\n",
    "The inversed sentence is:\n",
    "eniahc enu"
   ]
  },
  {
   "cell_type": "code",
   "execution_count": 1,
   "id": "6938fe1f",
   "metadata": {},
   "outputs": [
    {
     "name": "stdout",
     "output_type": "stream",
     "text": [
      "Write a sentence -1\n",
      "-1\n",
      "\n",
      "The inversed sentence is:\n",
      "1-\n"
     ]
    }
   ],
   "source": [
    "s = input(\"Write a sentence \")\n",
    "print(s)\n",
    "print()\n",
    "print(\"The inversed sentence is:\")\n",
    "print(s[::-1])"
   ]
  },
  {
   "cell_type": "markdown",
   "id": "98f5f78f",
   "metadata": {},
   "source": [
    "### Exercise 6 \n",
    "Define a function that enables to calculate the volume of a sphere (the radius is a parameter of the function)."
   ]
  },
  {
   "cell_type": "code",
   "execution_count": 3,
   "id": "efc6353c",
   "metadata": {},
   "outputs": [],
   "source": [
    "from math import *\n",
    "def volumeSphere(radius):\n",
    "    return ((4*pi / 3) * radius**3)"
   ]
  },
  {
   "cell_type": "code",
   "execution_count": 4,
   "id": "5fb0e90b",
   "metadata": {},
   "outputs": [
    {
     "data": {
      "text/plain": [
       "33.510321638291124"
      ]
     },
     "execution_count": 4,
     "metadata": {},
     "output_type": "execute_result"
    }
   ],
   "source": [
    "volumeSphere(2)"
   ]
  },
  {
   "cell_type": "markdown",
   "id": "3941e796",
   "metadata": {},
   "source": [
    "### Exercise 7\n",
    "Write a function that computes the sum of the integers passed in parameters."
   ]
  },
  {
   "cell_type": "code",
   "execution_count": 5,
   "id": "7b964607",
   "metadata": {},
   "outputs": [],
   "source": [
    "def my_sum(*args):\n",
    "    return sum(args)"
   ]
  },
  {
   "cell_type": "code",
   "execution_count": 6,
   "id": "87c7c7a5",
   "metadata": {},
   "outputs": [
    {
     "data": {
      "text/plain": [
       "8"
      ]
     },
     "execution_count": 6,
     "metadata": {},
     "output_type": "execute_result"
    }
   ],
   "source": [
    "my_sum(1,2,5)"
   ]
  },
  {
   "cell_type": "markdown",
   "id": "a021cc89",
   "metadata": {},
   "source": [
    "# Numpy Correction"
   ]
  },
  {
   "cell_type": "markdown",
   "id": "9e497ec8",
   "metadata": {},
   "source": [
    "## Exercise 1"
   ]
  },
  {
   "cell_type": "code",
   "execution_count": 12,
   "id": "f89de698",
   "metadata": {},
   "outputs": [
    {
     "name": "stdout",
     "output_type": "stream",
     "text": [
      "Mean of t1: -0.06073588818119166\n",
      "Median of t1: -0.07220986489076187\n",
      "Standard Deviation of t1: 0.5772141263359828\n",
      "First few rows of m1 (25x4 matrix):\n",
      "[[ 0.20552675  0.08976637 -0.1526904   0.29178823]\n",
      " [-0.12482558  0.783546    0.92732552 -0.23311696]\n",
      " [ 0.58345008  0.05778984  0.13608912  0.85119328]\n",
      " [-0.85792788 -0.8257414  -0.95956321  0.66523969]\n",
      " [ 0.5563135   0.7400243   0.95723668  0.59831713]]\n",
      "Mean values for the first few rows of m1: [ 0.10859774  0.33823225  0.40713058 -0.4944982   0.7129729 ]\n",
      "Mean values for each column of m1: [-0.02559285 -0.17930966  0.03643809 -0.07447914]\n",
      "First few rows of m2:\n",
      "[[ 0.20552675  0.08976637 -0.1526904          nan]\n",
      " [-0.12482558  0.783546    0.92732552 -0.23311696]\n",
      " [ 0.58345008  0.05778984  0.13608912  0.85119328]\n",
      " [-0.85792788 -0.8257414  -0.95956321  0.66523969]\n",
      " [ 0.5563135   0.7400243   0.95723668  0.59831713]]\n",
      "Number of NaN values in m2: 4\n",
      "Indexes of first few NaN values in m2: [[ 0  3]\n",
      " [12  0]\n",
      " [15  1]\n",
      " [21  2]]\n",
      "Mean of the 1st column without NaNs: -0.03250895442391729\n",
      "First few rows of m2 after replacing NaNs in the 1st column:\n",
      "[[ 0.20552675  0.08976637 -0.1526904          nan]\n",
      " [-0.12482558  0.783546    0.92732552 -0.23311696]\n",
      " [ 0.58345008  0.05778984  0.13608912  0.85119328]\n",
      " [-0.85792788 -0.8257414  -0.95956321  0.66523969]\n",
      " [ 0.5563135   0.7400243   0.95723668  0.59831713]]\n",
      "First few rows of m2 after applying removeNaNs to the second column:\n",
      "[[ 0.20552675  0.08976637 -0.1526904          nan]\n",
      " [-0.12482558  0.783546    0.92732552 -0.23311696]\n",
      " [ 0.58345008  0.05778984  0.13608912  0.85119328]\n",
      " [-0.85792788 -0.8257414  -0.95956321  0.66523969]\n",
      " [ 0.5563135   0.7400243   0.95723668  0.59831713]]\n",
      "Max values for each column of m1: [0.95291893 0.88933783 0.97674768 0.8585924 ]\n",
      "Min values for each row of m1: [-0.1526904  -0.23311696  0.05778984 -0.95956321  0.5563135  -0.76345115\n",
      " -0.71329343 -0.47088878 -0.9624204  -0.2809842  -0.87954906 -0.7421474\n",
      " -0.79591038 -0.67738096 -0.77924972 -0.7236341  -0.80780318 -0.0626976\n",
      " -0.92162442 -0.76254456 -0.87170501 -0.81211898 -0.73640428 -0.95978491\n",
      " -0.99060905]\n"
     ]
    }
   ],
   "source": [
    "import numpy as np\n",
    "\n",
    "t1 = np.random.uniform(-1.0, 1.0, 100)\n",
    "\n",
    "# Calculate mean of t1\n",
    "mean_t1 = np.mean(t1)\n",
    "\n",
    "# Calculate median of t1\n",
    "median_t1 = np.median(t1)\n",
    "\n",
    "# Calculate standard deviation of t1\n",
    "std_t1 = np.std(t1)\n",
    "\n",
    "# Print the results\n",
    "print(\"Mean of t1:\", mean_t1)\n",
    "print(\"Median of t1:\", median_t1)\n",
    "print(\"Standard Deviation of t1:\", std_t1)\n",
    "\n",
    "# Create t2 with positive values from t1\n",
    "t2 = t1[t1 > 0]\n",
    "\n",
    "# Create t3 with negative values from t1\n",
    "t3 = t1[t1 < 0]\n",
    "\n",
    "# Create t4 by removing negative values from t1\n",
    "t4 = t1[t1 >= 0]\n",
    "\n",
    "# Create t5 by replacing values in t1 greater than 0.5 with 1.0\n",
    "t5 = np.where(t1 > 0.5, 1.0, t1)\n",
    "\n",
    "# Find the maximum value in t1\n",
    "max_t1 = np.max(t1)\n",
    "\n",
    "# Find the minimum value in t1\n",
    "min_t1 = np.min(t1)\n",
    "\n",
    "# Reshape t1 into a 25x4 matrix m1\n",
    "m1 = t1.reshape(25, 4)\n",
    "\n",
    "# Print the first few rows of m1 to verify\n",
    "print(\"First few rows of m1 (25x4 matrix):\")\n",
    "print(m1[:5])  # Displaying the first 5 rows for a quick look\n",
    "\n",
    "mean_rows = np.mean(m1, axis=1)\n",
    "\n",
    "# Compute mean values for each column of m1\n",
    "mean_columns = np.mean(m1, axis=0)\n",
    "\n",
    "# Print the results\n",
    "print(\"Mean values for the first few rows of m1:\", mean_rows[:5])\n",
    "print(\"Mean values for each column of m1:\", mean_columns)\n",
    "\n",
    "# Create a copy of m1 to modify, resulting in m2\n",
    "m2 = np.copy(m1)  \n",
    "\n",
    "# 9. Replace randomly chosen values in each column with np.nan\n",
    "np.random.seed(0)  # For reproducibility of results\n",
    "for col in range(m2.shape[1]):\n",
    "    random_row = np.random.randint(0, m2.shape[0])\n",
    "    m2[random_row, col] = np.nan\n",
    "\n",
    "# Print the first few rows of m2 to verify\n",
    "print(\"First few rows of m2:\")\n",
    "print(m2[:5])\n",
    "\n",
    "# 10. Count NaN values in m2\n",
    "nan_count = np.isnan(m2).sum()\n",
    "\n",
    "# Find indexes of NaNs in m2\n",
    "nan_indexes = np.argwhere(np.isnan(m2))\n",
    "\n",
    "# Print the count and the first few indexes of NaNs\n",
    "print(\"Number of NaN values in m2:\", nan_count)\n",
    "print(\"Indexes of first few NaN values in m2:\", nan_indexes[:5])\n",
    "\n",
    "# 11. Compute mean of the 1st column of m2, excluding NaNs\n",
    "mean_col1_without_nan = np.nanmean(m2[:, 0])\n",
    "\n",
    "# Replace NaNs in the 1st column of m2 with the mean value\n",
    "m2[np.isnan(m2[:, 0]), 0] = mean_col1_without_nan\n",
    "\n",
    "# Print the mean value and the first few rows of m2 for verification\n",
    "print(\"Mean of the 1st column without NaNs:\", mean_col1_without_nan)\n",
    "print(\"First few rows of m2 after replacing NaNs in the 1st column:\")\n",
    "print(m2[:5])\n",
    "\n",
    "#12 & 13\n",
    "def removeNaNs(mat, c):\n",
    "    \"\"\"\n",
    "    Replace NaNs in a specified column of a matrix with the mean value of that column.\n",
    "\n",
    "    Parameters:\n",
    "    mat (numpy.ndarray): The matrix in which NaNs are to be replaced.\n",
    "    c (int): The column index where NaNs should be replaced.\n",
    "\n",
    "    Returns:\n",
    "    numpy.ndarray: The modified matrix with NaNs replaced in the specified column.\n",
    "    \"\"\"\n",
    "    mean_col = np.nanmean(mat[:, c])  # Compute mean of the column, excluding NaNs\n",
    "    mat[np.isnan(mat[:, c]), c] = mean_col  # Replace NaNs in the column with the mean value\n",
    "    return mat\n",
    "\n",
    "# Example usage of the function\n",
    "# Assuming m2 is a matrix with NaN values\n",
    "# Let's apply the function to the second column (index 1) of m2 as an example\n",
    "m2_modified = removeNaNs(m2, 1)\n",
    "\n",
    "print(\"First few rows of m2 after applying removeNaNs to the second column:\")\n",
    "print(m2_modified[:5])\n",
    "\n",
    "# 14. Find the max value for each column of m1\n",
    "max_values_columns = np.max(m1, axis=0)\n",
    "\n",
    "# Print the max values for each column\n",
    "print(\"Max values for each column of m1:\", max_values_columns)\n",
    "\n",
    "# 15. Find the min value for each row of m1\n",
    "min_values_rows = np.min(m1, axis=1)\n",
    "\n",
    "# Print the min values for each row\n",
    "print(\"Min values for each row of m1:\", min_values_rows)"
   ]
  },
  {
   "cell_type": "markdown",
   "id": "0729d6c2",
   "metadata": {},
   "source": [
    "## Exercise 2"
   ]
  },
  {
   "cell_type": "code",
   "execution_count": 14,
   "id": "a8efa8ca",
   "metadata": {},
   "outputs": [
    {
     "name": "stdout",
     "output_type": "stream",
     "text": [
      "[[ 3  1  5  5  9  3]\n",
      " [ 5  1  9  1  9  3]\n",
      " [ 7  6  8  7  4  1]\n",
      " [ 4  7  9  8  8  0]\n",
      " [ 8  6  8  7  0  7]\n",
      " [ 7 10  2  0  7  2]\n",
      " [ 2  0 10  4  9  6]\n",
      " [ 9  8  6  8  7  1]\n",
      " [ 0  6  6  7  4  2]\n",
      " [ 7  5 10  2  0  2]]\n",
      "[[0 0 0 1 1 0 2 1 0 0 1]\n",
      " [0 0 1 0 0 0 1 1 0 1 2]\n",
      " [0 0 1 1 1 1 0 2 0 0 0]\n",
      " [0 2 0 0 2 1 0 1 0 0 0]\n",
      " [2 0 0 0 0 1 0 0 1 1 1]\n",
      " [0 0 1 1 0 0 1 0 1 1 1]\n",
      " [0 0 2 0 2 0 1 0 1 0 0]\n",
      " [0 2 0 1 0 0 1 0 1 1 0]\n",
      " [0 1 0 1 1 0 1 0 1 1 0]\n",
      " [1 1 1 1 0 0 0 2 0 0 0]]\n"
     ]
    }
   ],
   "source": [
    "import numpy as np\n",
    "\n",
    "# Set a random seed for reproducibility (optional)\n",
    "np.random.seed(42)\n",
    "\n",
    "print(m)\n",
    "\n",
    "def count_unique_values_row_wise(arr):\n",
    "    # Ensure that the input array contains integers in the range [0, 10]\n",
    "    if not (0 <= arr.min() and arr.max() <= 10):\n",
    "        raise ValueError(\"Input array should contain values in the range [0, 10]\")\n",
    "    \n",
    "    # Initialize an empty result matrix with zeros\n",
    "    result = np.zeros((arr.shape[0], 11), dtype=int)\n",
    "    \n",
    "    # Iterate through each row and compute the bincount\n",
    "    for i, row in enumerate(arr):\n",
    "        counts = np.bincount(row, minlength=11)\n",
    "        result[i] = counts\n",
    "    \n",
    "    return result\n",
    "\n",
    "# Create a 10x6 array with random integers in [0, 10]\n",
    "m = np.random.randint(0, 11, size=(10, 6))\n",
    "\n",
    "# Compute the counts of unique values row-wise\n",
    "counts_matrix = count_unique_values_row_wise(m)\n",
    "\n",
    "print(counts_matrix)"
   ]
  }
 ],
 "metadata": {
  "kernelspec": {
   "display_name": "Python 3 (ipykernel)",
   "language": "python",
   "name": "python3"
  },
  "language_info": {
   "codemirror_mode": {
    "name": "ipython",
    "version": 3
   },
   "file_extension": ".py",
   "mimetype": "text/x-python",
   "name": "python",
   "nbconvert_exporter": "python",
   "pygments_lexer": "ipython3",
   "version": "3.11.3"
  }
 },
 "nbformat": 4,
 "nbformat_minor": 5
}
