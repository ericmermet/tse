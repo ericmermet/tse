{
 "cells": [
  {
   "cell_type": "markdown",
   "id": "49345996",
   "metadata": {},
   "source": [
    "### Exercise 1\n",
    "\n",
    "Write a loop that enables to calculate the sum of the 23 first integers."
   ]
  },
  {
   "cell_type": "code",
   "execution_count": null,
   "id": "d081a816",
   "metadata": {},
   "outputs": [],
   "source": [
    "s = 0\n",
    "for i in range(24):\n",
    "    s = s + i\n",
    "print(s)"
   ]
  },
  {
   "cell_type": "markdown",
   "id": "4806a128",
   "metadata": {},
   "source": [
    "### Exercise 2\n",
    "\n",
    "calculates the factorial of 12 using a while loop."
   ]
  },
  {
   "cell_type": "code",
   "execution_count": null,
   "id": "ecfcb1d9",
   "metadata": {},
   "outputs": [],
   "source": [
    "f = 1\n",
    "a = 1\n",
    "while a < 12:\n",
    "    a = a + 1\n",
    "    f = f * a\n",
    "print(f)"
   ]
  },
  {
   "cell_type": "markdown",
   "id": "8697bcbe",
   "metadata": {},
   "source": [
    "### Exercise 3\n",
    "Write and test the previous code with different values of a."
   ]
  },
  {
   "cell_type": "code",
   "execution_count": null,
   "id": "740a58a5",
   "metadata": {},
   "outputs": [],
   "source": [
    "a=4\n",
    "if a==0:\n",
    "    print(\"0\")\n",
    "elif a==1:\n",
    "    print(\"1\")\n",
    "else:\n",
    "    print(\"2\")"
   ]
  },
  {
   "cell_type": "markdown",
   "id": "161d391b",
   "metadata": {},
   "source": [
    "### Exercise 4\n",
    "\n",
    "Write a program that asks the user to enter student marks. If the user enters a negative value, the\n",
    "program stops. On the other hand, for each mark entered, the program progressively builds a list.\n",
    "After each entry of a new mark (and therefore every iteration of the loop), it displays the number\n",
    "of marks entered, the highest mark, the lowest mark, the average of all the marks.\n",
    "\n",
    "Tip: To create an empty list, it is suﬀicient to set the command line = []."
   ]
  },
  {
   "cell_type": "code",
   "execution_count": null,
   "id": "9922dfd1",
   "metadata": {},
   "outputs": [],
   "source": [
    "from statistics import mean\n",
    "line = []\n",
    "note =0\n",
    "while(note >= 0):\n",
    "    note = int(input(\"insert a new note \\n\"))\n",
    "    line.append(note)\n",
    "    print(line)\n",
    "    print(\"Nb marks : \",len(line))\n",
    "    print(\"Max : \",max(line))\n",
    "    print(\"Min : \",min(line))\n",
    "# print(\"Avg : \",np.mean(line))\n",
    "    print(\"Avg : \",mean(line))"
   ]
  },
  {
   "cell_type": "markdown",
   "id": "cd7e4867",
   "metadata": {},
   "source": [
    "### Exercise 5 \n",
    "\n",
    "Write a script that enables to obtain the following result (:\n",
    "\n",
    "Write a sentence\n",
    "une chaine\n",
    "\n",
    "The inversed sentence is:\n",
    "eniahc enu"
   ]
  },
  {
   "cell_type": "code",
   "execution_count": 1,
   "id": "6938fe1f",
   "metadata": {},
   "outputs": [
    {
     "name": "stdout",
     "output_type": "stream",
     "text": [
      "Write a sentence -1\n",
      "-1\n",
      "\n",
      "The inversed sentence is:\n",
      "1-\n"
     ]
    }
   ],
   "source": [
    "s = input(\"Write a sentence \")\n",
    "print(s)\n",
    "print()\n",
    "print(\"The inversed sentence is:\")\n",
    "print(s[::-1])"
   ]
  },
  {
   "cell_type": "markdown",
   "id": "98f5f78f",
   "metadata": {},
   "source": [
    "### Exercise 6 \n",
    "Define a function that enables to calculate the volume of a sphere (the radius is a parameter of the function)."
   ]
  },
  {
   "cell_type": "code",
   "execution_count": 2,
   "id": "efc6353c",
   "metadata": {},
   "outputs": [],
   "source": [
    "from math import *\n",
    "def volumeSphere(radius):\n",
    "    return ((4*pi / 3) * radius**3)"
   ]
  },
  {
   "cell_type": "code",
   "execution_count": 3,
   "id": "5fb0e90b",
   "metadata": {},
   "outputs": [
    {
     "data": {
      "text/plain": [
       "33.510321638291124"
      ]
     },
     "execution_count": 3,
     "metadata": {},
     "output_type": "execute_result"
    }
   ],
   "source": [
    "volumeSphere(2)"
   ]
  },
  {
   "cell_type": "markdown",
   "id": "3941e796",
   "metadata": {},
   "source": [
    "### Exercise 7\n",
    "Write a function that computes the sum of the integers passed in parameters."
   ]
  },
  {
   "cell_type": "code",
   "execution_count": 5,
   "id": "7b964607",
   "metadata": {},
   "outputs": [],
   "source": [
    "def my_sum(*args):\n",
    "    return sum(args)"
   ]
  },
  {
   "cell_type": "code",
   "execution_count": 6,
   "id": "87c7c7a5",
   "metadata": {},
   "outputs": [
    {
     "data": {
      "text/plain": [
       "8"
      ]
     },
     "execution_count": 6,
     "metadata": {},
     "output_type": "execute_result"
    }
   ],
   "source": [
    "my_sum(1,2,5)"
   ]
  },
  {
   "cell_type": "code",
   "execution_count": null,
   "id": "f89de698",
   "metadata": {},
   "outputs": [],
   "source": []
  }
 ],
 "metadata": {
  "kernelspec": {
   "display_name": "Python 3 (ipykernel)",
   "language": "python",
   "name": "python3"
  },
  "language_info": {
   "codemirror_mode": {
    "name": "ipython",
    "version": 3
   },
   "file_extension": ".py",
   "mimetype": "text/x-python",
   "name": "python",
   "nbconvert_exporter": "python",
   "pygments_lexer": "ipython3",
   "version": "3.10.6"
  }
 },
 "nbformat": 4,
 "nbformat_minor": 5
}
