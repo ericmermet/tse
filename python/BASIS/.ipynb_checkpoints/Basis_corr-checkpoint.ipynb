{
 "cells": [
  {
   "cell_type": "markdown",
   "id": "46006b22",
   "metadata": {},
   "source": [
    "Exercise 1\n",
    "\n",
    "Write a program that asks the user to enter student marks. If the user enters a negative value, the\n",
    "program stops. On the other hand, for each mark entered, the program progressively builds a list.\n",
    "After each entry of a new mark (and therefore every iteration of the loop), it displays the number\n",
    "of marks entered, the highest mark, the lowest mark, the average of all the marks.\n",
    "Tip: To create an empty list, it is suﬀicient to set the command line = []."
   ]
  },
  {
   "cell_type": "code",
   "execution_count": 1,
   "id": "e33ac696",
   "metadata": {},
   "outputs": [
    {
     "ename": "IndentationError",
     "evalue": "expected an indented block after 'while' statement on line 4 (1873609369.py, line 5)",
     "output_type": "error",
     "traceback": [
      "\u001b[0;36m  Cell \u001b[0;32mIn[1], line 5\u001b[0;36m\u001b[0m\n\u001b[0;31m    note = int(input(\"insert a new note \\n\"))\u001b[0m\n\u001b[0m    ^\u001b[0m\n\u001b[0;31mIndentationError\u001b[0m\u001b[0;31m:\u001b[0m expected an indented block after 'while' statement on line 4\n"
     ]
    }
   ],
   "source": [
    "from statistics import mean\n",
    "line = []\n",
    "note =0\n",
    "while(note >= 0):\n",
    "note = int(input(\"insert a new note \\n\"))\n",
    "line.append(note)\n",
    "print(line)\n",
    "print(\"Nb marks : \",len(line))\n",
    "print(\"Max : \",max(line))\n",
    "print(\"Min : \",min(line))\n",
    "# print(\"Avg : \",np.mean(line))\n",
    "print(\"Avg : \",mean(line))"
   ]
  },
  {
   "cell_type": "code",
   "execution_count": null,
   "id": "1a3117a4",
   "metadata": {},
   "outputs": [],
   "source": []
  }
 ],
 "metadata": {
  "kernelspec": {
   "display_name": "Python 3 (ipykernel)",
   "language": "python",
   "name": "python3"
  },
  "language_info": {
   "codemirror_mode": {
    "name": "ipython",
    "version": 3
   },
   "file_extension": ".py",
   "mimetype": "text/x-python",
   "name": "python",
   "nbconvert_exporter": "python",
   "pygments_lexer": "ipython3",
   "version": "3.10.6"
  }
 },
 "nbformat": 4,
 "nbformat_minor": 5
}
