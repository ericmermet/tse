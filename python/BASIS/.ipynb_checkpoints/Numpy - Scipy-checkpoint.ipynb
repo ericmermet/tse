{
 "cells": [
  {
   "cell_type": "markdown",
   "id": "a141effa",
   "metadata": {},
   "source": [
    "# Numpy and Scipy"
   ]
  },
  {
   "cell_type": "markdown",
   "id": "1112774b",
   "metadata": {},
   "source": [
    "From official Numpy site (http://www.numpy.org):\n",
    "NumPy is the fundamental package for scientific computing with Python. It contains among other\n",
    "things:\n",
    "\n",
    "* a powerful N-dimensional array object,\n",
    "* sophisticated (broadcasting) functions,\n",
    "* `ufunc` fast array mathematical operations.\n",
    "* tools for integrating C/C++ and Fortran code,\n",
    "* useful linear algebra, Fourier transform, and random number capabilities.\n",
    "\n",
    "Besides its obvious scientific uses, NumPy can also be used as an efficient multi-dimensional container of generic data. Arbitrary data-types can be defined. This allows NumPy to seamlessly and speedily integrate with a wide variety of databases."
   ]
  },
  {
   "cell_type": "markdown",
   "id": "c64a85df",
   "metadata": {},
   "source": [
    "# Load Numpy (or install it if needed)"
   ]
  },
  {
   "cell_type": "markdown",
   "id": "4469a0ef",
   "metadata": {},
   "source": [
    "To use Numpy, you must import NumPy:"
   ]
  },
  {
   "cell_type": "code",
   "execution_count": 2,
   "id": "ac8622a3",
   "metadata": {},
   "outputs": [
    {
     "name": "stdout",
     "output_type": "stream",
     "text": [
      "1.21.5\n"
     ]
    }
   ],
   "source": [
    "import numpy as np\n",
    "print(np.__version__)"
   ]
  },
  {
   "cell_type": "markdown",
   "id": "ad7de3ce",
   "metadata": {},
   "source": [
    "# How to create arrays with Numpy\n",
    "## From Python lists and sequences:\n",
    "There are important differences between NumPy arrays and Python lists:\n",
    "* NumPy arrays have a fixed size at creation.\n",
    "* NumPy arrays elements are all required to be of the same data type.\n",
    "* NumPy arrays operations are performed in compiled code for performance.\n",
    "* Most of today's scientific/mathematical Python-based software use NumPy arrays.\n",
    "* NumPy gives us the code simplicity of Python, but the operation is speedily executed by pre-compiled C code."
   ]
  },
  {
   "cell_type": "code",
   "execution_count": 3,
   "id": "04e2ca72",
   "metadata": {},
   "outputs": [
    {
     "data": {
      "text/plain": [
       "array([1, 2, 3])"
      ]
     },
     "execution_count": 3,
     "metadata": {},
     "output_type": "execute_result"
    }
   ],
   "source": [
    "#1D array\n",
    "np.array([1,2,3])"
   ]
  },
  {
   "cell_type": "code",
   "execution_count": 4,
   "id": "ac716880",
   "metadata": {},
   "outputs": [
    {
     "data": {
      "text/plain": [
       "array([[5. , 3. , 7.5],\n",
       "       [2.1, 3.4, 5.6]])"
      ]
     },
     "execution_count": 4,
     "metadata": {},
     "output_type": "execute_result"
    }
   ],
   "source": [
    "#2x3 Matrix\n",
    "np.array([[5.0, 3.0, 7.5],[2.1, 3.4, 5.6]])"
   ]
  },
  {
   "cell_type": "code",
   "execution_count": 5,
   "id": "8ef79ffe",
   "metadata": {},
   "outputs": [
    {
     "data": {
      "text/plain": [
       "array([[1.5, 2. , 3. ],\n",
       "       [4. , 5. , 6. ],\n",
       "       [3. , 6. , 9. ]])"
      ]
     },
     "execution_count": 5,
     "metadata": {},
     "output_type": "execute_result"
    }
   ],
   "source": [
    "#3x3 Matrix from python sequences\n",
    "np.array([(1.5,2,3), (4,5,6), (3,6,9)])"
   ]
  },
  {
   "cell_type": "markdown",
   "id": "dbb4e4d5",
   "metadata": {},
   "source": [
    "## Using NumPy filling functions:"
   ]
  },
  {
   "cell_type": "code",
   "execution_count": 6,
   "id": "9b8f974e",
   "metadata": {},
   "outputs": [
    {
     "data": {
      "text/plain": [
       "array([0, 1, 2, 3, 4, 5, 6, 7, 8, 9])"
      ]
     },
     "execution_count": 6,
     "metadata": {},
     "output_type": "execute_result"
    }
   ],
   "source": [
    "#Fill a 1D array with integers from 0 to 9\n",
    "np.arange(10)"
   ]
  },
  {
   "cell_type": "code",
   "execution_count": 7,
   "id": "97cca890",
   "metadata": {},
   "outputs": [
    {
     "data": {
      "text/plain": [
       "array([1., 1., 1., 1., 1.])"
      ]
     },
     "execution_count": 7,
     "metadata": {},
     "output_type": "execute_result"
    }
   ],
   "source": [
    "#Fill a 1D array with ones\n",
    "np.ones(5)"
   ]
  },
  {
   "cell_type": "code",
   "execution_count": 8,
   "id": "f6741680",
   "metadata": {},
   "outputs": [
    {
     "data": {
      "text/plain": [
       "array([[0., 0., 0., 0., 0.],\n",
       "       [0., 0., 0., 0., 0.],\n",
       "       [0., 0., 0., 0., 0.],\n",
       "       [0., 0., 0., 0., 0.],\n",
       "       [0., 0., 0., 0., 0.]])"
      ]
     },
     "execution_count": 8,
     "metadata": {},
     "output_type": "execute_result"
    }
   ],
   "source": [
    "#Fill a 5x5 matrix with 0.0\n",
    "np.zeros((5,5), dtype=float)"
   ]
  },
  {
   "cell_type": "code",
   "execution_count": 9,
   "id": "6de9f14f",
   "metadata": {},
   "outputs": [
    {
     "data": {
      "text/plain": [
       "array([[10, 10],\n",
       "       [10, 10]])"
      ]
     },
     "execution_count": 9,
     "metadata": {},
     "output_type": "execute_result"
    }
   ],
   "source": [
    "#Fill a 2x2 matrix with 10\n",
    "np.full((2,2), 10, dtype=int)"
   ]
  },
  {
   "cell_type": "markdown",
   "id": "7facafcd",
   "metadata": {},
   "source": [
    "## Fill an array with random values:\n",
    "Module numpy.random is used to generate random values.  \n",
    "\n",
    "Some examples of uniform random generators \n",
    "\n",
    "* np.random.rand tirage uniforme continu dans [0,1[\n",
    "* np.random.random tirage uniforme continu dans [0,1[\n",
    "* np.random.randint tirage uniforme discret dans [a, b[\n",
    "* np.random.random_integers tirage uniforme discret dans [a, b]\n",
    "* np.random.randn tirage gaussien dans [0,1["
   ]
  },
  {
   "cell_type": "code",
   "execution_count": 11,
   "id": "0b7f96a0",
   "metadata": {},
   "outputs": [
    {
     "name": "stdout",
     "output_type": "stream",
     "text": [
      "[-0.11304868 -0.49205398  0.18001243 -0.51153655 -0.2525514  -0.45212101\n",
      " -0.26113655  0.25862913  0.02366454  0.43255899 -0.59903664  0.71187596\n",
      " -0.00136701  0.23346718 -0.72154639  0.69028779  0.86433033  0.10252952\n",
      " -0.75350255  0.85156582 -0.79137489  0.0587244   0.52725903 -0.25375949\n",
      "  0.98039114  0.86449089  0.01656651  0.61386325  0.40868934 -0.72935706\n",
      "  0.85289279 -0.17650039 -0.60593558 -0.29851066 -0.59146863 -0.98730023\n",
      " -0.33448034  0.10503653 -0.40303112 -0.11490882 -0.6246959   0.3273458\n",
      "  0.57031517  0.1226963  -0.50492579  0.13259097  0.24029744  0.98905893\n",
      "  0.28793398 -0.64784459  0.4561299   0.43667037 -0.32181159  0.09745836\n",
      " -0.92084118 -0.46774019  0.4045925  -0.42261334  0.8630467   0.49048963\n",
      " -0.74755849  0.70656183 -0.47468961 -0.12671196  0.14041769 -0.50188961\n",
      "  0.9232445   0.44731393  0.55084921  0.76861979 -0.36951591  0.63584906\n",
      "  0.0220342   0.58985564  0.18500655  0.64221222  0.31347901 -0.84915324\n",
      " -0.26776487 -0.31316436 -0.19090739  0.37113721  0.54306864 -0.65383713\n",
      " -0.73790383  0.90952913  0.60323979 -0.42708561  0.3563343   0.5344756\n",
      "  0.5475716  -0.22432307 -0.12527965 -0.16795728  0.30857654  0.91572032\n",
      " -0.54408018  0.08402235  0.97483765 -0.52500709]\n"
     ]
    }
   ],
   "source": [
    "#Fill a 1D array with 100 floats in (-1.0, 1.0)\n",
    "a = np.zeros(100)\n",
    "for i in range(100):\n",
    "    a[i] = np.random.uniform(-1.0, 1.0)\n",
    "print(a)"
   ]
  },
  {
   "cell_type": "code",
   "execution_count": 12,
   "id": "329ea59c",
   "metadata": {},
   "outputs": [
    {
     "name": "stdout",
     "output_type": "stream",
     "text": [
      "[-0.9609574  -0.69141154  0.08192085 -0.9398657   0.95369395  0.82607373\n",
      " -0.04116554 -0.54399188 -0.89350495 -0.95277913 -0.17542712 -0.51257158\n",
      " -0.62745772 -0.65729472  0.52646999  0.38871212 -0.55727095  0.4680111\n",
      " -0.79479842 -0.21590158  0.18802383 -0.61828825 -0.43065274 -0.84579243\n",
      "  0.45344118 -0.80453021  0.84011566 -0.8053674   0.79013796 -0.10227539\n",
      " -0.57115632  0.63654122 -0.88206279  0.954268   -0.96092587  0.88208249\n",
      " -0.66836179 -0.28801234  0.23089789  0.26536952  0.8888769  -0.33562991\n",
      "  0.84191265 -0.47767102  0.15514384 -0.28835938  0.86820305 -0.17939722\n",
      "  0.09258719 -0.63952972  0.96128337  0.39377865 -0.10737027 -0.97114655\n",
      "  0.62397087 -0.96236756  0.84560505 -0.93711875 -0.91084848  0.29551984\n",
      " -0.27186922 -0.15951689 -0.48397224  0.11533787 -0.09960015 -0.27173188\n",
      "  0.81898554 -0.88189819  0.71359563 -0.17784708  0.92470475 -0.33675574\n",
      " -0.9241938   0.38848552  0.78188265 -0.75038394 -0.43064333  0.20281024\n",
      " -0.55722321  0.15764345 -0.22640421  0.01480515 -0.81156246  0.56454925\n",
      " -0.96190049 -0.8966951   0.67813536  0.80791665 -0.60651351  0.54279341\n",
      "  0.41964526  0.99751236 -0.48326541  0.96901589  0.52907005  0.80659024\n",
      " -0.67269255 -0.52053027  0.28894587 -0.19414394]\n"
     ]
    }
   ],
   "source": [
    "#Alternative solution\n",
    "a = np.random.uniform(-1.0, 1.0, 100)\n",
    "print(a)"
   ]
  },
  {
   "cell_type": "code",
   "execution_count": 13,
   "id": "fd51e9f7",
   "metadata": {},
   "outputs": [
    {
     "name": "stdout",
     "output_type": "stream",
     "text": [
      "[[6 4 7]\n",
      " [7 3 5]\n",
      " [6 1 9]\n",
      " [2 8 6]\n",
      " [1 5 6]]\n"
     ]
    }
   ],
   "source": [
    "#Fill a 5x3 matrix with integers in (1, 10)\n",
    "a = np.random.randint(1,10, [5,3])\n",
    "print(a)"
   ]
  },
  {
   "cell_type": "markdown",
   "id": "5f3207ba",
   "metadata": {},
   "source": [
    "## Reshaping arrays:"
   ]
  },
  {
   "cell_type": "code",
   "execution_count": 14,
   "id": "abd4fc54",
   "metadata": {},
   "outputs": [
    {
     "data": {
      "text/plain": [
       "array([0, 1, 2, 3, 4, 5, 6, 7, 8, 9])"
      ]
     },
     "execution_count": 14,
     "metadata": {},
     "output_type": "execute_result"
    }
   ],
   "source": [
    "#1D Array\n",
    "a = np.arange(10)\n",
    "a"
   ]
  },
  {
   "cell_type": "code",
   "execution_count": 15,
   "id": "8d98ee16",
   "metadata": {},
   "outputs": [
    {
     "data": {
      "text/plain": [
       "array([[0, 1, 2, 3, 4],\n",
       "       [5, 6, 7, 8, 9]])"
      ]
     },
     "execution_count": 15,
     "metadata": {},
     "output_type": "execute_result"
    }
   ],
   "source": [
    "#Reshape a to 2D array (2x5)\n",
    "a.reshape(2, 5)"
   ]
  },
  {
   "cell_type": "code",
   "execution_count": 16,
   "id": "2227b34d",
   "metadata": {},
   "outputs": [
    {
     "data": {
      "text/plain": [
       "array([[0, 1, 2, 3, 4],\n",
       "       [5, 6, 7, 8, 9]])"
      ]
     },
     "execution_count": 16,
     "metadata": {},
     "output_type": "execute_result"
    }
   ],
   "source": [
    "#Alternative: setting to -1 automatically decides the number of cols\n",
    "a.reshape(2, -1)"
   ]
  },
  {
   "cell_type": "markdown",
   "id": "ead07ca5",
   "metadata": {},
   "source": [
    "## Change type of data in arrays:"
   ]
  },
  {
   "cell_type": "code",
   "execution_count": 17,
   "id": "4d7a590d",
   "metadata": {},
   "outputs": [
    {
     "data": {
      "text/plain": [
       "array([0, 1, 2, 3, 4, 5, 6, 7, 8, 9])"
      ]
     },
     "execution_count": 17,
     "metadata": {},
     "output_type": "execute_result"
    }
   ],
   "source": [
    "#Transform data in 1D array as integers\n",
    "b = a.astype(int)\n",
    "b"
   ]
  },
  {
   "cell_type": "code",
   "execution_count": 18,
   "id": "3b8aecef",
   "metadata": {},
   "outputs": [
    {
     "name": "stdout",
     "output_type": "stream",
     "text": [
      "[[9 5 6]\n",
      " [3 8 3]\n",
      " [9 6 9]\n",
      " [8 8 2]\n",
      " [5 9 6]]\n",
      "[5. 8. 6. 8. 9.]\n"
     ]
    }
   ],
   "source": [
    "#Transform data from 2nd column of a 2D array to float values\n",
    "c = np.random.randint(1,10, [5,3])\n",
    "print(c)\n",
    "column1 = c[:,1].astype(float)\n",
    "print(column1)"
   ]
  },
  {
   "cell_type": "markdown",
   "id": "20cfdecc",
   "metadata": {},
   "source": [
    "# Indexes and selections"
   ]
  },
  {
   "cell_type": "code",
   "execution_count": 19,
   "id": "4797326b",
   "metadata": {},
   "outputs": [
    {
     "name": "stdout",
     "output_type": "stream",
     "text": [
      "[1 2 9 7 7 9 6 2 4 8 4 4 1 1 7 9 7 8 1 1]\n"
     ]
    }
   ],
   "source": [
    "#1D Arrays of 20 integers\n",
    "a = np.random.randint(1,10, 20)\n",
    "print(a)"
   ]
  },
  {
   "cell_type": "code",
   "execution_count": 20,
   "id": "4302deeb",
   "metadata": {},
   "outputs": [
    {
     "name": "stdout",
     "output_type": "stream",
     "text": [
      "7\n"
     ]
    }
   ],
   "source": [
    "#Print 3rd value from a\n",
    "print(a[3])"
   ]
  },
  {
   "cell_type": "code",
   "execution_count": 21,
   "id": "4dbed532",
   "metadata": {},
   "outputs": [
    {
     "name": "stdout",
     "output_type": "stream",
     "text": [
      "[7 7 9 6 2]\n"
     ]
    }
   ],
   "source": [
    "#Print 3rd to 7th value of a\n",
    "print(a[3:8])"
   ]
  },
  {
   "cell_type": "code",
   "execution_count": 22,
   "id": "24940726",
   "metadata": {},
   "outputs": [
    {
     "data": {
      "text/plain": [
       "array([9, 7, 7, 9, 6, 8, 7, 9, 7, 8])"
      ]
     },
     "execution_count": 22,
     "metadata": {},
     "output_type": "execute_result"
    }
   ],
   "source": [
    "#Select values > 5 in a\n",
    "a[a>5]"
   ]
  },
  {
   "cell_type": "code",
   "execution_count": 23,
   "id": "d51b832a",
   "metadata": {},
   "outputs": [
    {
     "data": {
      "text/plain": [
       "array([9, 7, 7, 9, 6, 8, 7, 9, 7, 8])"
      ]
     },
     "execution_count": 23,
     "metadata": {},
     "output_type": "execute_result"
    }
   ],
   "source": [
    "#indexes of values in [5, 9]\n",
    "indexes = np.where((a>=5) & (a<=9))\n",
    "a[indexes]"
   ]
  },
  {
   "cell_type": "code",
   "execution_count": 24,
   "id": "407869c0",
   "metadata": {},
   "outputs": [
    {
     "name": "stdout",
     "output_type": "stream",
     "text": [
      "[[5 5 2]\n",
      " [5 4 4]\n",
      " [5 8 2]\n",
      " [5 8 8]\n",
      " [1 5 7]]\n"
     ]
    }
   ],
   "source": [
    "#5x3 Matrix of integers\n",
    "m = np.random.randint(1,10, [5,3])\n",
    "print(m)"
   ]
  },
  {
   "cell_type": "code",
   "execution_count": 25,
   "id": "5172b408",
   "metadata": {},
   "outputs": [
    {
     "name": "stdout",
     "output_type": "stream",
     "text": [
      "[5 5 2]\n"
     ]
    }
   ],
   "source": [
    "#Print 1st row\n",
    "print(m[0])"
   ]
  },
  {
   "cell_type": "code",
   "execution_count": 26,
   "id": "f3955ce7",
   "metadata": {},
   "outputs": [
    {
     "name": "stdout",
     "output_type": "stream",
     "text": [
      "[1 5 7]\n"
     ]
    }
   ],
   "source": [
    "#Print last row\n",
    "print(m[-1])"
   ]
  },
  {
   "cell_type": "code",
   "execution_count": 27,
   "id": "bc102ab5",
   "metadata": {},
   "outputs": [
    {
     "name": "stdout",
     "output_type": "stream",
     "text": [
      "[5 4 8 8 5]\n"
     ]
    }
   ],
   "source": [
    "#Print 2nd column\n",
    "print(m[ : ,1])"
   ]
  },
  {
   "cell_type": "code",
   "execution_count": 28,
   "id": "be7ab53a",
   "metadata": {},
   "outputs": [
    {
     "name": "stdout",
     "output_type": "stream",
     "text": [
      "[[5 4]\n",
      " [5 8]]\n"
     ]
    }
   ],
   "source": [
    "#Print 2nd to 3rd row, 1st and 2nd column\n",
    "print(m[1:3, 0:2])"
   ]
  },
  {
   "cell_type": "markdown",
   "id": "a72959ba",
   "metadata": {},
   "source": [
    "# Basic operations\n",
    "## Arithmetic operations are performed on every elements of the array."
   ]
  },
  {
   "cell_type": "code",
   "execution_count": 29,
   "id": "b6f0a111",
   "metadata": {},
   "outputs": [
    {
     "name": "stdout",
     "output_type": "stream",
     "text": [
      "[10 20 30]\n",
      "[1 2 3]\n"
     ]
    }
   ],
   "source": [
    "#1D Arrays\n",
    "a = np.array([10,20,30])\n",
    "b = np.array([1,2,3])\n",
    "print(a)\n",
    "print(b)"
   ]
  },
  {
   "cell_type": "code",
   "execution_count": 30,
   "id": "8770e715",
   "metadata": {},
   "outputs": [
    {
     "data": {
      "text/plain": [
       "array([11, 21, 31])"
      ]
     },
     "execution_count": 30,
     "metadata": {},
     "output_type": "execute_result"
    }
   ],
   "source": [
    "#Scalars\n",
    "#addition\n",
    "a + 1"
   ]
  },
  {
   "cell_type": "code",
   "execution_count": 31,
   "id": "ccd900ad",
   "metadata": {},
   "outputs": [
    {
     "data": {
      "text/plain": [
       "array([30, 60, 90])"
      ]
     },
     "execution_count": 31,
     "metadata": {},
     "output_type": "execute_result"
    }
   ],
   "source": [
    "#Multiplication\n",
    "a * 3"
   ]
  },
  {
   "cell_type": "code",
   "execution_count": 32,
   "id": "227ef0fb",
   "metadata": {},
   "outputs": [
    {
     "data": {
      "text/plain": [
       "array([11, 22, 33])"
      ]
     },
     "execution_count": 32,
     "metadata": {},
     "output_type": "execute_result"
    }
   ],
   "source": [
    "#With arrays\n",
    "#sum (element to element)\n",
    "a + b"
   ]
  },
  {
   "cell_type": "code",
   "execution_count": 33,
   "id": "9d29a500",
   "metadata": {},
   "outputs": [
    {
     "name": "stdout",
     "output_type": "stream",
     "text": [
      "[[10 20]\n",
      " [30 40]]\n",
      "[[1 2]\n",
      " [3 4]]\n"
     ]
    }
   ],
   "source": [
    "#Matrices\n",
    "m = np.array([(10,20),(30,40)])\n",
    "n = np.array([(1,2),(3,4)])\n",
    "print(m)\n",
    "print(n)"
   ]
  },
  {
   "cell_type": "code",
   "execution_count": 34,
   "id": "cda00c07",
   "metadata": {},
   "outputs": [
    {
     "data": {
      "text/plain": [
       "array([[11, 22],\n",
       "       [33, 44]])"
      ]
     },
     "execution_count": 34,
     "metadata": {},
     "output_type": "execute_result"
    }
   ],
   "source": [
    "#sum (element to element)\n",
    "m + n"
   ]
  },
  {
   "cell_type": "code",
   "execution_count": 35,
   "id": "b29d31e1",
   "metadata": {},
   "outputs": [
    {
     "data": {
      "text/plain": [
       "array([[ 10,  40],\n",
       "       [ 90, 160]])"
      ]
     },
     "execution_count": 35,
     "metadata": {},
     "output_type": "execute_result"
    }
   ],
   "source": [
    "#product (element to element)\n",
    "m * n"
   ]
  },
  {
   "cell_type": "code",
   "execution_count": 36,
   "id": "4971f2a1",
   "metadata": {},
   "outputs": [
    {
     "data": {
      "text/plain": [
       "array([[ 70, 100],\n",
       "       [150, 220]])"
      ]
     },
     "execution_count": 36,
     "metadata": {},
     "output_type": "execute_result"
    }
   ],
   "source": [
    "#matrix product\n",
    "m.dot(n)"
   ]
  },
  {
   "cell_type": "markdown",
   "id": "9b211812",
   "metadata": {},
   "source": [
    "## Operations with arrays"
   ]
  },
  {
   "cell_type": "code",
   "execution_count": 37,
   "id": "7b05c665",
   "metadata": {},
   "outputs": [
    {
     "name": "stdout",
     "output_type": "stream",
     "text": [
      "[2 7 6 8 1 6 3 6 5 5 8 7 9 4 8 7 6 6 2 8]\n",
      "[6 8 5 2 1 8 8 1 1 5 2 3 7 5 2 4 9 1 9 8]\n"
     ]
    }
   ],
   "source": [
    "#1D Arrays\n",
    "a = np.random.randint(1,10, 20)\n",
    "b = np.random.randint(1,10, 20)\n",
    "print(a)\n",
    "print(b)"
   ]
  },
  {
   "cell_type": "code",
   "execution_count": 38,
   "id": "003b8e2e",
   "metadata": {},
   "outputs": [
    {
     "data": {
      "text/plain": [
       "array([1, 2, 3, 4, 5, 6, 7, 8, 9])"
      ]
     },
     "execution_count": 38,
     "metadata": {},
     "output_type": "execute_result"
    }
   ],
   "source": [
    "#Common items in a and b\n",
    "np.intersect1d(a,b)"
   ]
  },
  {
   "cell_type": "code",
   "execution_count": 39,
   "id": "4d486402",
   "metadata": {},
   "outputs": [
    {
     "data": {
      "text/plain": [
       "array([], dtype=int64)"
      ]
     },
     "execution_count": 39,
     "metadata": {},
     "output_type": "execute_result"
    }
   ],
   "source": [
    "#Remove items from a that are in b\n",
    "np.setdiff1d(a,b)"
   ]
  },
  {
   "cell_type": "code",
   "execution_count": 40,
   "id": "c1d293df",
   "metadata": {},
   "outputs": [
    {
     "data": {
      "text/plain": [
       "(array([ 4,  9, 19]),)"
      ]
     },
     "execution_count": 40,
     "metadata": {},
     "output_type": "execute_result"
    }
   ],
   "source": [
    "#Indexes of matching elements in a and b\n",
    "indexes = np.where(a == b)\n",
    "indexes"
   ]
  },
  {
   "cell_type": "code",
   "execution_count": 41,
   "id": "1a919545",
   "metadata": {},
   "outputs": [
    {
     "data": {
      "text/plain": [
       "array([2, 7, 6, 8, 1, 6, 3, 6, 5, 5, 8, 7, 9, 4, 8, 7, 6, 6, 2, 8])"
      ]
     },
     "execution_count": 41,
     "metadata": {},
     "output_type": "execute_result"
    }
   ],
   "source": [
    "# Another use of the np.where: produce a new array of the same size, with␣\n",
    ", → valuesdepending on a condition\n",
    "# Example: replace in a all the NAN value by -100 (the other values being␣\n",
    ", → unchanged)\n",
    "np.where(np.isnan(a),-100,a)"
   ]
  },
  {
   "cell_type": "markdown",
   "id": "4a5e403b",
   "metadata": {},
   "source": [
    "# Exercise 1\n",
    "1. Create 1D array t1 of 100 float values. Fill this array with random values in [-1.0, 1.0].\n",
    "2. Calculate mean, median and standard deviation of t1.\n",
    "3. Create arrays t2 and t3 that contains respectively positive and negative values from t1.\n",
    "4. Create t4 by removing negatives values from t1.\n",
    "5. Create t5 by replacing values in t1 that are greater than 0.5 with 1.0.\n",
    "6. Find max and min values of t1\n",
    "7. Reshape t1 as m1, 25x4 matrix\n",
    "8. Compute mean values for each row then for each column\n",
    "9. Replace randomly values in m1 with np.nan (create m2). Make sure there is at least one NaN in each column.\n",
    "10. Count NaN values in m2 and show indexes of NaNs\n",
    "11. Compute mean value without NaNs of 1st column of m2. Replace NaNS in 1st column with mean value.\n",
    "12. Create a function removeNaNs that, given a matrix mat and a column c, replaces NaNS in c with mean value of c.\n",
    "13. Apply removeNaNs for each column of m2.\n",
    "14. Find max value for each column of m1.\n",
    "15. Find min value for each row of m1.\n",
    "\n",
    "# Exercise 2\n",
    "\n",
    "1. Create 10x6 2D array m filled with random integers in [0, 10].\n",
    "2. Create the function that computes the counts of unique values row-wise. Output is 10x11 matrix where columns represent numbers from 0 to 10. The values are the counts of the numbers in the respective rows. (cf. numpy.bincount function)"
   ]
  },
  {
   "cell_type": "markdown",
   "id": "6b4d1ac9",
   "metadata": {},
   "source": [
    "# Data analysis with NumPy\n",
    "NumPy implements usual data analysis functions such as sum, mean, median and standard devia-\n",
    "tion:"
   ]
  },
  {
   "cell_type": "code",
   "execution_count": 42,
   "id": "ff72f647",
   "metadata": {},
   "outputs": [
    {
     "name": "stdout",
     "output_type": "stream",
     "text": [
      "[7.89350922e-01 2.40949338e-01 6.13839194e-01 1.53991414e-01\n",
      " 9.18970884e-01 6.03508264e-01 3.38368471e-01 7.19876897e-01\n",
      " 2.38844229e-01 7.72759701e-01 5.63735348e-01 2.91329686e-01\n",
      " 7.42668448e-01 1.44729747e-01 4.83592626e-01 1.33990205e-01\n",
      " 5.34695837e-01 5.55516907e-01 1.69627453e-01 2.66926643e-01\n",
      " 3.08767779e-01 5.89852925e-01 3.05516408e-01 2.22476414e-01\n",
      " 3.47346213e-01 5.44243569e-01 8.88144747e-01 3.88417663e-01\n",
      " 4.01826002e-01 1.96456145e-01 7.13387533e-02 2.32685858e-01\n",
      " 2.33277732e-01 6.81256462e-01 1.77578442e-01 4.10341415e-01\n",
      " 3.06227625e-01 6.41271921e-01 1.69102072e-01 5.71509834e-01\n",
      " 3.58976727e-01 8.10497401e-01 2.63790065e-01 5.78207540e-01\n",
      " 5.45761212e-02 1.19258148e-01 6.26274134e-01 8.55829659e-01\n",
      " 7.06947384e-01 7.43382892e-01 6.67780865e-01 4.61138306e-01\n",
      " 6.41859072e-01 3.81170396e-01 8.28400610e-01 3.99561633e-01\n",
      " 2.18112659e-01 1.78956211e-01 9.67660570e-01 5.23335460e-01\n",
      " 4.63892978e-01 5.21854538e-01 4.95165010e-01 2.88990553e-02\n",
      " 2.81397022e-01 8.25233309e-01 8.19816994e-01 8.12743927e-01\n",
      " 7.70914596e-01 4.43533274e-01 2.39740285e-01 5.57576830e-01\n",
      " 7.05040191e-01 5.41566806e-01 5.00465306e-01 4.08215416e-01\n",
      " 7.06302564e-01 1.84489886e-01 4.07723490e-01 7.99336749e-01\n",
      " 3.17421658e-01 7.28628341e-01 4.74682330e-01 7.89923016e-01\n",
      " 8.71108800e-01 7.21598881e-01 5.69225287e-01 7.82400608e-01\n",
      " 8.40667452e-01 8.28151389e-01 8.88382615e-01 6.24197769e-02\n",
      " 7.72851927e-01 7.78927440e-01 6.06062433e-01 1.43646384e-01\n",
      " 1.00315446e-01 3.99846732e-02 4.47744715e-01 9.97818747e-01\n",
      " 6.76405134e-04 7.19437279e-02 1.61880921e-01 7.77517357e-01\n",
      " 9.68962805e-01 6.54495903e-01 5.08913064e-01 6.31341953e-01\n",
      " 7.26387455e-01 8.43176221e-01 2.74233366e-01 5.19183229e-02\n",
      " 9.78247296e-02 1.25253656e-01 3.03940181e-01 7.18519090e-01\n",
      " 3.25646303e-01 8.74999108e-01 5.65395587e-01 6.36328940e-01\n",
      " 1.85444490e-01 7.84442052e-01 2.23753203e-01 4.01411575e-01\n",
      " 1.91856035e-01 1.40501664e-01 1.03317901e-01 3.93196356e-01\n",
      " 6.50862078e-01 2.68635399e-01 8.83296282e-01 9.45400621e-01\n",
      " 7.78916100e-01 3.05513448e-01 8.44708800e-01 1.36396863e-01\n",
      " 2.95542538e-01 4.34377438e-01 9.86751408e-01 5.36812000e-01\n",
      " 5.27534300e-01 2.19618848e-01 1.87448864e-01 4.65644670e-02\n",
      " 9.30761817e-01 4.52125790e-01 6.65777948e-01 7.31219240e-01\n",
      " 4.95999881e-02 7.20989031e-01 3.36892776e-01 6.61578194e-01\n",
      " 6.18497764e-01 2.02894336e-01 6.75178785e-01 4.78063259e-01\n",
      " 4.53886690e-02 3.81586713e-01 4.25487228e-01 4.62798693e-01\n",
      " 8.77241257e-02 3.19482971e-01 8.20502015e-01 5.76504939e-01\n",
      " 7.48733505e-01 1.66951489e-01 7.97082210e-01 8.27687655e-01\n",
      " 7.50855872e-01 3.29575884e-01 5.08008923e-01 3.15072078e-01\n",
      " 8.67768546e-01 2.27545742e-01 4.65975004e-02 6.86942063e-01\n",
      " 3.74477450e-01 2.73408004e-01 3.33853750e-01 7.04698534e-01\n",
      " 9.99515262e-01 8.66196691e-01 5.24341688e-01 3.19368977e-02\n",
      " 4.05198055e-01 3.16063467e-01 2.85256759e-03 7.23052677e-02\n",
      " 7.00921768e-01 1.26993037e-01 5.47451736e-03 1.28115019e-01\n",
      " 2.59951204e-01 6.38986693e-01 4.80019113e-01 3.24166791e-01\n",
      " 8.80666763e-01 6.38748021e-01 2.13747176e-01 2.28334802e-01\n",
      " 9.29290810e-01 8.40271040e-01 3.48937538e-01 1.58517539e-01\n",
      " 8.80311283e-02 7.26028318e-01 9.05584999e-01 9.46064679e-01\n",
      " 1.37815837e-01 9.55083875e-01 9.13420210e-01 2.21047726e-01\n",
      " 3.94874450e-02 5.65541314e-01 5.80510794e-01 4.58385607e-01\n",
      " 3.90416745e-01 1.02041075e-01 1.15021346e-01 5.85927495e-01\n",
      " 1.46011426e-01 1.02545506e-01 3.59868314e-01 8.50654264e-01\n",
      " 5.74664656e-01 5.59240267e-01 8.92911684e-01 6.18613771e-01\n",
      " 7.16068549e-01 3.15886420e-01 6.15041940e-01 8.18858816e-01\n",
      " 4.03627884e-01 3.83398452e-01 9.69026912e-01 5.71664463e-01\n",
      " 2.60946373e-01 1.36129516e-02 2.34143677e-02 2.09599572e-01\n",
      " 8.99754740e-01 6.39169990e-01 6.86405781e-01 7.43326972e-01\n",
      " 2.22337566e-01 3.67097385e-01 5.02155965e-01 5.04141928e-02\n",
      " 7.24160193e-01 5.80663540e-01 3.08723980e-01 4.76915795e-01\n",
      " 4.33571097e-01 1.33956755e-01 9.12143485e-01 3.55530404e-01\n",
      " 9.30495265e-01 7.71178406e-01 8.43226640e-02 4.32039749e-01\n",
      " 2.42180161e-01 1.23172262e-01 1.36941604e-01 8.56381242e-01\n",
      " 5.08866697e-01 1.92344835e-01 1.34240298e-01 1.55861157e-01\n",
      " 9.46388901e-01 6.17339226e-01 5.93765576e-01 1.46542176e-01\n",
      " 2.43208087e-01 2.84860377e-01 4.98807178e-01 1.08455369e-01\n",
      " 1.04535687e-01 6.80386131e-01 3.72390327e-01 1.06960683e-01\n",
      " 6.73282189e-01 9.60854467e-02 2.10762364e-03 6.55380960e-02\n",
      " 1.19220168e-01 5.33447685e-01 5.47541901e-02 4.43604699e-01\n",
      " 5.79471041e-01 3.61799048e-01 7.58965915e-01 4.34617018e-01\n",
      " 2.07436540e-01 8.26038728e-01 9.35082858e-01 3.55952915e-01\n",
      " 3.61319680e-01 3.40922518e-01 3.08131124e-01 5.57077022e-01\n",
      " 5.70661079e-02 7.07122109e-01 9.74541401e-01 6.03243779e-01\n",
      " 1.67564766e-02 2.45237723e-01 2.90010367e-01 3.55568978e-01\n",
      " 4.73003243e-01 6.03001416e-01 4.41448767e-01 6.94321748e-01\n",
      " 2.61296328e-01 9.01083255e-01 6.17044610e-01 2.11687204e-01\n",
      " 1.71939701e-01 3.97138983e-01 4.54480718e-01 9.59420924e-02\n",
      " 5.50308224e-01 6.13176674e-01 1.05780560e-01 9.93141140e-01\n",
      " 8.45657906e-01 4.55808612e-01 1.83991526e-01 1.41666153e-02\n",
      " 3.81961867e-01 8.66391091e-01 3.40132008e-01 9.20984117e-02\n",
      " 4.49456933e-01 5.78931525e-01 3.33802682e-01 8.53461240e-01\n",
      " 8.26145082e-01 2.59518121e-01 4.25465262e-01 8.92222868e-01\n",
      " 2.12160645e-02 7.28665414e-01 2.20519620e-01 9.60395641e-01\n",
      " 3.34885274e-01 2.04916960e-01 5.80881862e-01 5.38941281e-01\n",
      " 1.07854975e-02 8.17006964e-01 8.72445240e-01 6.22154635e-01\n",
      " 4.92819409e-01 4.83240690e-01 2.01580919e-01 6.86021125e-01\n",
      " 9.80747062e-02 2.49745115e-01 1.47881876e-01 4.15698688e-01\n",
      " 1.01639357e-01 2.67492418e-01 6.23087907e-01 7.95903978e-01\n",
      " 6.63773176e-01 6.51873574e-01 5.06132685e-01 6.61264048e-02\n",
      " 1.94381564e-01 1.38047237e-01 7.68684219e-01 6.27062678e-01\n",
      " 1.65302740e-02 7.80481285e-01 1.52151962e-01 8.80472175e-01\n",
      " 5.45772362e-01 9.95912777e-01 7.72299700e-01 7.26651539e-01\n",
      " 3.28787800e-01 4.01758127e-01 7.16706614e-01 5.18250001e-01\n",
      " 8.69947859e-01 3.57497856e-01 8.44027016e-01 1.59251625e-01\n",
      " 5.27717724e-01 6.57405103e-01 7.75883387e-01 3.92084886e-01\n",
      " 8.99469488e-01 2.11953575e-01 8.96656449e-01 1.50569172e-01\n",
      " 5.94414776e-04 3.97747711e-01 9.28987813e-01 9.70612408e-01\n",
      " 6.95300589e-01 9.88865629e-01 6.01442991e-01 4.09425472e-01\n",
      " 4.90774052e-01 2.81131347e-01 5.49488744e-01 8.16163674e-01\n",
      " 1.74679827e-01 1.25754640e-01 4.06984040e-01 7.83461825e-01\n",
      " 7.73962437e-01 5.06382047e-01 5.53343062e-01 5.98152960e-01\n",
      " 7.93283147e-01 6.55314443e-01 4.99620608e-01 8.68559697e-01\n",
      " 3.74156063e-01 6.18430554e-01 1.21963054e-01 4.05826942e-01\n",
      " 1.08952843e-01 6.81603537e-01 8.39656353e-02 6.57829315e-01\n",
      " 4.47306881e-01 7.67077757e-01 4.46914709e-01 6.18831142e-01\n",
      " 4.93424623e-01 1.49346449e-01 5.02542807e-01 4.08925965e-01\n",
      " 9.37166811e-01 9.36094344e-01 8.71540370e-01 6.49513110e-01\n",
      " 7.77807606e-01 2.83132726e-01 9.56656125e-02 4.14831753e-01\n",
      " 9.40531827e-01 3.13371549e-01 7.05189376e-01 8.26967038e-01\n",
      " 5.17445197e-01 2.68304274e-01 9.00373567e-01 1.66270765e-01\n",
      " 3.04243427e-01 4.63674896e-01 3.44731620e-01 6.30367845e-01\n",
      " 1.65912897e-01 7.28879918e-01 7.53828509e-01 4.86187920e-01\n",
      " 4.48512416e-01 8.12702002e-01 3.30936469e-01 6.82256540e-01\n",
      " 7.03408905e-01 4.92560879e-01 2.03465821e-01 3.24210471e-01\n",
      " 2.40601258e-01 6.31815642e-01 2.99307229e-01 7.20259177e-01\n",
      " 8.41076309e-01 6.36286603e-01 1.34206446e-01 1.08470214e-01\n",
      " 1.11945033e-01 5.69892997e-01 7.40096101e-01 6.67327788e-02\n",
      " 1.41851844e-01 1.62026582e-01 9.78776148e-01 9.41126437e-01\n",
      " 8.51859874e-01 3.84577158e-01 7.38353077e-01 7.32372004e-01\n",
      " 7.25588362e-02 7.08447033e-01 1.22908219e-02 3.87577925e-01\n",
      " 7.69442377e-01 6.28413735e-01 8.18759436e-02 5.22132796e-01\n",
      " 2.24887456e-01 9.28236346e-01 3.11413609e-01 5.44267224e-01\n",
      " 3.33056912e-01 1.14617667e-01 8.88082288e-01 9.01420631e-01\n",
      " 4.79450938e-01 3.05614439e-01 4.86467990e-01 6.33008297e-01\n",
      " 3.69848625e-01 7.05603372e-01 2.78748792e-01 9.33804117e-01\n",
      " 3.99401502e-02 4.35246821e-01 2.70492663e-01 3.79842084e-01\n",
      " 2.03698672e-01 5.02753402e-01 9.63429791e-01 3.29929728e-01\n",
      " 2.94801660e-01 4.71175904e-01 2.30334424e-01 7.78181983e-01\n",
      " 9.69203126e-01 8.61146022e-01 1.82657963e-03 3.61025960e-01\n",
      " 3.16807028e-01 9.14235046e-01 9.63231846e-01 5.78204878e-01\n",
      " 3.27782564e-01 9.65127547e-01 2.87159223e-01 9.75510589e-01\n",
      " 8.68690374e-01 2.99084635e-01 2.86996601e-01 3.25024887e-02\n",
      " 8.67038752e-01 7.94382749e-01 7.24010177e-01 6.06641821e-01\n",
      " 5.22607897e-01 4.26658530e-01 1.81963322e-01 4.58072733e-01\n",
      " 8.35724078e-01 9.48117266e-03 5.06147441e-01 7.43247165e-01\n",
      " 9.09052233e-02 1.32224869e-01 4.16943630e-02 2.58088490e-01\n",
      " 9.65258580e-01 6.24014993e-02 8.45802109e-01 2.88311651e-02\n",
      " 5.32174441e-01 7.15769024e-01 2.89505549e-01 1.99297260e-02\n",
      " 9.25257198e-01 5.17435482e-01 4.23466708e-02 4.64443389e-01\n",
      " 4.77477476e-01 2.64449545e-02 9.31405800e-01 4.95887756e-01\n",
      " 9.43024625e-01 1.92499681e-01 7.07696388e-02 8.60450212e-01\n",
      " 3.81656339e-01 8.47847839e-01 1.97729852e-01 7.96322518e-01\n",
      " 5.56958534e-01 3.73664661e-01 3.72330864e-02 6.39966613e-01\n",
      " 6.74736916e-01 3.40566924e-01 5.12054272e-01 1.02299269e-01\n",
      " 2.15957299e-01 1.08233354e-01 2.70538911e-01 6.93720435e-01\n",
      " 3.44376642e-01 4.16113987e-01 9.55502087e-02 2.91533452e-01\n",
      " 7.66480626e-01 9.22013658e-01 9.79168271e-01 5.05074097e-04\n",
      " 7.03076891e-01 3.78167582e-01 8.01008460e-01 7.35033335e-01\n",
      " 1.53191633e-01 9.13554628e-01 1.91515678e-01 8.03434989e-02\n",
      " 6.48311634e-01 1.54233677e-01 5.03689946e-01 3.89367399e-01\n",
      " 4.46824535e-02 7.35514288e-01 7.02483833e-01 8.80540348e-01\n",
      " 9.09211766e-02 7.51832814e-01 5.75254818e-02 3.27366875e-01\n",
      " 2.97324272e-01 6.77712408e-01 3.82541748e-02 2.31363053e-02\n",
      " 7.95346143e-01 5.96158518e-01 8.58981600e-01 7.96764509e-01\n",
      " 5.19464568e-01 4.30658313e-01 6.48292764e-01 1.38278028e-01\n",
      " 3.37880663e-01 8.10629724e-01 3.65854014e-01 3.75395966e-01\n",
      " 7.40612598e-01 6.85184480e-01 7.30608783e-02 5.70982630e-02\n",
      " 4.29103797e-01 9.06583634e-01 5.77582450e-02 3.48102211e-01\n",
      " 5.38430935e-01 2.70792631e-01 3.44357872e-01 6.21748188e-01\n",
      " 9.08158168e-01 1.94848990e-02 3.05299638e-01 4.91593237e-01\n",
      " 2.68328301e-02 1.75800453e-01 3.06043923e-01 1.79858976e-01\n",
      " 4.04510162e-01 4.16567766e-01 8.27678542e-01 8.61599372e-01\n",
      " 2.19978964e-01 1.59367182e-01 4.34093818e-01 2.22888608e-01\n",
      " 7.80080119e-01 5.83174318e-01 2.72548881e-01 5.60277587e-01\n",
      " 3.99720905e-02 9.29906675e-01 7.85464044e-01 4.15267914e-01\n",
      " 1.82725952e-02 5.21884776e-01 8.94047343e-01 7.79413842e-01\n",
      " 4.30211667e-01 9.02133471e-01 9.18166966e-01 6.60970613e-01\n",
      " 7.40665763e-01 1.23816799e-01 4.61142932e-02 9.16725407e-01\n",
      " 7.19120308e-01 9.98817437e-01 7.34173346e-01 5.27720111e-01\n",
      " 3.11871003e-01 8.48298552e-01 1.89798160e-01 9.02670884e-01\n",
      " 3.14882340e-01 6.40271843e-01 4.62236421e-01 6.40085018e-01\n",
      " 3.13328669e-01 8.61595270e-01 9.71127970e-01 3.86430973e-01\n",
      " 8.16818786e-01 4.49049629e-02 8.84235775e-01 8.41750482e-01\n",
      " 2.18626252e-01 7.55349450e-01 5.97843714e-01 7.18164966e-01\n",
      " 6.18367184e-01 7.67320829e-01 5.81701965e-01 4.63251677e-02\n",
      " 7.56223773e-01 1.71192646e-01 3.10366274e-01 6.29847104e-01\n",
      " 1.14490881e-01 1.23650511e-02 8.49882866e-01 3.06287736e-01\n",
      " 4.74267477e-01 4.33854161e-01 8.73278278e-01 3.09361490e-02\n",
      " 4.09780908e-01 5.03775342e-01 9.44997649e-01 6.24701933e-01\n",
      " 4.50646461e-01 3.84676394e-01 9.50541534e-01 9.40915032e-01\n",
      " 7.51126043e-01 7.83333267e-01 8.77611557e-01 4.53872145e-01\n",
      " 6.77899951e-01 4.71779286e-01 5.53000815e-01 3.25809170e-01\n",
      " 4.82474966e-01 7.33114209e-01 5.10943238e-01 3.24142874e-01\n",
      " 7.06922905e-01 4.05758212e-01 9.33888936e-01 5.18316958e-01\n",
      " 6.09113769e-01 6.56646821e-01 7.91884066e-02 4.25475263e-01\n",
      " 3.57714813e-01 8.06533608e-01 3.64670721e-01 5.86386692e-01\n",
      " 4.24022059e-01 6.67971239e-01 6.06072107e-01 1.35302195e-01\n",
      " 8.41455121e-01 1.11124598e-01 3.13005139e-01 8.08676490e-01\n",
      " 7.63562993e-01 8.28396752e-01 8.12650629e-01 2.98090263e-01\n",
      " 5.96387519e-01 4.20602067e-01 4.20327941e-01 2.97152439e-01\n",
      " 6.61864407e-01 5.13773075e-01 6.64077752e-01 3.44430827e-01\n",
      " 7.84283794e-01 9.54198321e-01 3.65913958e-02 8.64712839e-01\n",
      " 6.67793089e-01 1.14045046e-01 8.58224708e-01 3.41923631e-02\n",
      " 1.03338283e-01 9.86442245e-01 4.20235161e-01 3.99200485e-01\n",
      " 5.72008603e-01 3.60267558e-01 4.50986206e-01 9.59070668e-01\n",
      " 4.62335136e-01 5.09902842e-01 7.62921119e-01 9.18904705e-01\n",
      " 5.51764000e-01 7.18317560e-01 8.88165504e-01 8.71349303e-01\n",
      " 3.58877712e-01 9.89968233e-01 3.16922717e-01 3.12430065e-01\n",
      " 1.25842679e-01 3.17267213e-01 6.60450639e-01 5.48043409e-01\n",
      " 2.15734067e-01 3.31489548e-01 5.20925555e-01 4.24393778e-01\n",
      " 7.65486099e-01 7.93611452e-01 1.28280731e-01 8.07903775e-01\n",
      " 8.98348966e-01 2.57089656e-01 7.36420110e-01 5.12217186e-01\n",
      " 2.14508577e-01 8.43513636e-01 6.48521859e-01 8.82534141e-01\n",
      " 6.80386098e-01 1.75522210e-01 1.05696507e-01 9.54529327e-01\n",
      " 2.63666492e-01 4.71189007e-01 6.32372497e-01 2.54589053e-01\n",
      " 8.31507647e-01 6.32098823e-01 4.62975387e-01 4.79549777e-02\n",
      " 7.30748712e-02 1.79843758e-01 6.90747738e-01 2.65889129e-01\n",
      " 9.95334152e-01 8.00303175e-01 1.95044665e-01 2.15264201e-01\n",
      " 5.14157071e-01 5.90890795e-01 9.73967654e-01 8.37918298e-01\n",
      " 6.29613729e-01 1.34810258e-01 7.25999880e-01 2.25268115e-01\n",
      " 1.82877251e-01 1.60366838e-01 9.59708835e-01 4.59186802e-01\n",
      " 2.11346566e-01 3.81365630e-01 7.09196307e-01 6.87078538e-01\n",
      " 5.26820770e-01 5.66797330e-01 9.75026770e-01 9.39247963e-01\n",
      " 3.87329633e-01 9.33994184e-02 8.09255638e-01 1.90398865e-01\n",
      " 5.67971780e-01 7.95159275e-01 8.73828783e-01 8.48688886e-01\n",
      " 1.15470448e-01 5.83847962e-01 2.71115185e-01 3.98748364e-01\n",
      " 1.74668907e-01 2.34368300e-01 4.88163233e-01 7.05018159e-02\n",
      " 1.12491589e-01 9.30451447e-01 3.95213036e-01 7.55743408e-01\n",
      " 8.84713100e-01 4.41852338e-01 1.32383211e-01 3.60113094e-01\n",
      " 9.97888384e-01 9.42550996e-01 4.97814537e-01 3.97153697e-01\n",
      " 5.27424021e-01 2.16813515e-01 5.65630042e-01 4.11365444e-01\n",
      " 6.83246364e-01 1.65724549e-01 5.15472176e-01 2.11888959e-02\n",
      " 8.41953950e-01 3.83819899e-01 4.30080397e-01 7.67875484e-02\n",
      " 4.11298232e-01 6.46281382e-01 3.87329100e-01 5.01633768e-01\n",
      " 2.30791897e-01 7.58637676e-01 1.14618299e-02 6.82058283e-01\n",
      " 9.13064889e-01 4.57741188e-01 7.06283231e-01 9.74621306e-01\n",
      " 9.43309914e-01 6.45528752e-01 1.54570741e-01 8.89611794e-01\n",
      " 7.32802862e-01 4.32287185e-01 6.55726072e-01 3.02741170e-01\n",
      " 8.32431134e-01 8.59062050e-01 3.11961991e-01 7.39499664e-01\n",
      " 6.12574051e-02 9.48593230e-01 2.23041246e-02 9.71041592e-01\n",
      " 9.41322349e-01 4.77944085e-01 7.03231667e-01 9.65146987e-01\n",
      " 9.44334063e-01 2.27030744e-01 6.46897150e-01 1.13202501e-01\n",
      " 9.88070982e-02 7.00076245e-01 5.43311022e-02 8.93544796e-01\n",
      " 9.23712969e-01 4.81862257e-01 6.42156739e-01 8.14265280e-01\n",
      " 8.98331425e-01 7.02227890e-01 6.22506347e-01 3.75083207e-01\n",
      " 9.19492232e-01 1.80039765e-01 8.78053577e-02 9.50795176e-01\n",
      " 6.93663919e-01 9.83534182e-01 5.10990676e-01 6.73260159e-01\n",
      " 8.14772938e-01 3.55531523e-01 9.04361543e-01 5.46602066e-01\n",
      " 3.20013291e-01 5.51488107e-01 1.81266322e-01 1.04715860e-01\n",
      " 9.11939118e-01 4.33078009e-02 3.19673215e-01 4.75645284e-01\n",
      " 7.14190488e-01 2.55906417e-01 6.87103758e-01 3.74836164e-01\n",
      " 5.48976699e-01 7.67840876e-01 5.01209536e-01 4.22690549e-01\n",
      " 3.89118868e-01 9.29841856e-01 8.82441039e-01 9.12158986e-01\n",
      " 6.46963855e-01 6.24656207e-01 7.47405457e-02 3.85668830e-01\n",
      " 5.38476367e-02 4.72133149e-01 4.59304617e-01 6.98875327e-01\n",
      " 5.07431631e-01 4.91508456e-01 9.27620867e-01 4.46616597e-01\n",
      " 9.82529101e-01 3.53132097e-01 6.92264570e-02 9.61705514e-01]\n"
     ]
    }
   ],
   "source": [
    "#1D Array\n",
    "a = np.random.uniform(0.0,1.0, 1000)\n",
    "print(a)"
   ]
  },
  {
   "cell_type": "code",
   "execution_count": 43,
   "id": "79e5c222",
   "metadata": {},
   "outputs": [
    {
     "data": {
      "text/plain": [
       "497.2418355542215"
      ]
     },
     "execution_count": 43,
     "metadata": {},
     "output_type": "execute_result"
    }
   ],
   "source": [
    "#sum\n",
    "np.sum(a)"
   ]
  },
  {
   "cell_type": "code",
   "execution_count": 44,
   "id": "24442bf1",
   "metadata": {},
   "outputs": [
    {
     "data": {
      "text/plain": [
       "0.4972418355542215"
      ]
     },
     "execution_count": 44,
     "metadata": {},
     "output_type": "execute_result"
    }
   ],
   "source": [
    "#mean\n",
    "np.mean(a)"
   ]
  },
  {
   "cell_type": "code",
   "execution_count": 45,
   "id": "fe004e56",
   "metadata": {},
   "outputs": [
    {
     "data": {
      "text/plain": [
       "0.49312201601103695"
      ]
     },
     "execution_count": 45,
     "metadata": {},
     "output_type": "execute_result"
    }
   ],
   "source": [
    "#median\n",
    "np.median(a)"
   ]
  },
  {
   "cell_type": "code",
   "execution_count": 46,
   "id": "196a1f8e",
   "metadata": {},
   "outputs": [
    {
     "data": {
      "text/plain": [
       "0.28577480968666585"
      ]
     },
     "execution_count": 46,
     "metadata": {},
     "output_type": "execute_result"
    }
   ],
   "source": [
    "#standard deviation\n",
    "np.std(a)"
   ]
  },
  {
   "cell_type": "code",
   "execution_count": 47,
   "id": "8fe516d8",
   "metadata": {},
   "outputs": [
    {
     "name": "stdout",
     "output_type": "stream",
     "text": [
      "0.4972418355542215\n",
      "0.28577480968666585\n"
     ]
    }
   ],
   "source": [
    "#mean and std ignoring NaNs\n",
    "print(np.nanmean(a))\n",
    "print(np.nanstd(a))"
   ]
  },
  {
   "cell_type": "markdown",
   "id": "a2f62c90",
   "metadata": {},
   "source": [
    "To detect NaN values in arrays, you can use the isnan function."
   ]
  },
  {
   "cell_type": "code",
   "execution_count": 48,
   "id": "edf016b5",
   "metadata": {},
   "outputs": [
    {
     "name": "stdout",
     "output_type": "stream",
     "text": [
      "[ 10.  20.  nan  40.  50.  nan  nan  80. 100.]\n",
      "[[10. nan]\n",
      " [nan 40.]\n",
      " [50. 60.]\n",
      " [nan 70.]]\n"
     ]
    }
   ],
   "source": [
    "a = np.array([10,20,np.nan,40,50,np.nan,np.nan,80,100])\n",
    "b = np.array([(10,np.nan),(np.nan,40),(50,60) ,(np.nan,70)])\n",
    "print(a)\n",
    "print(b)"
   ]
  },
  {
   "cell_type": "code",
   "execution_count": 49,
   "id": "120994a0",
   "metadata": {},
   "outputs": [
    {
     "data": {
      "text/plain": [
       "False"
      ]
     },
     "execution_count": 49,
     "metadata": {},
     "output_type": "execute_result"
    }
   ],
   "source": [
    "#Check one value in a\n",
    "np.isnan(a[3])"
   ]
  },
  {
   "cell_type": "code",
   "execution_count": 50,
   "id": "b333e750",
   "metadata": {},
   "outputs": [
    {
     "data": {
      "text/plain": [
       "array([False, False,  True, False, False,  True,  True, False, False])"
      ]
     },
     "execution_count": 50,
     "metadata": {},
     "output_type": "execute_result"
    }
   ],
   "source": [
    "#Test all elements in a\n",
    "np.isnan(a)"
   ]
  },
  {
   "cell_type": "code",
   "execution_count": 51,
   "id": "6169cb0a",
   "metadata": {},
   "outputs": [
    {
     "data": {
      "text/plain": [
       "array([ True, False, False, False])"
      ]
     },
     "execution_count": 51,
     "metadata": {},
     "output_type": "execute_result"
    }
   ],
   "source": [
    "#Check 2nd column in a matrix b\n",
    "np.isnan(b[:,1])"
   ]
  },
  {
   "cell_type": "code",
   "execution_count": 52,
   "id": "cb1ed256",
   "metadata": {},
   "outputs": [
    {
     "data": {
      "text/plain": [
       "(array([0]),)"
      ]
     },
     "execution_count": 52,
     "metadata": {},
     "output_type": "execute_result"
    }
   ],
   "source": [
    "#indexes of NaN values in the 2nd column of b\n",
    "np.where(np.isnan(b[:,1]))"
   ]
  },
  {
   "cell_type": "markdown",
   "id": "3078dd99",
   "metadata": {},
   "source": [
    "# Import data from files"
   ]
  },
  {
   "cell_type": "markdown",
   "id": "bfc094a1",
   "metadata": {},
   "source": [
    "np.genfromtxt function allows to import data form file in numpy arrays."
   ]
  },
  {
   "cell_type": "code",
   "execution_count": null,
   "id": "682841fe",
   "metadata": {},
   "outputs": [],
   "source": [
    "#import data as 1D array of tuples containing different data types\n",
    "data = np.genfromtxt('file_name.csv', delimiter=',', dtype=None)"
   ]
  },
  {
   "cell_type": "code",
   "execution_count": null,
   "id": "a02aba85",
   "metadata": {},
   "outputs": [],
   "source": [
    "#import data as 2D array each line containing different data types\n",
    "data = np.genfromtxt('file_name.csv', delimiter=',', dtype=object)"
   ]
  },
  {
   "cell_type": "code",
   "execution_count": null,
   "id": "b9e38f74",
   "metadata": {},
   "outputs": [],
   "source": [
    "#import data selecting columns 2, 4, 5 only\n",
    "data = np.genfromtxt('file_name.csv', delimiter=',', usecols=(2,4,5))"
   ]
  },
  {
   "cell_type": "code",
   "execution_count": null,
   "id": "5e838103",
   "metadata": {},
   "outputs": [],
   "source": [
    "#import data as 2D array of same data type, removing headers\n",
    "data = np.genfromtxt('file_name.csv', delimiter=',', skip_header=1)"
   ]
  },
  {
   "cell_type": "markdown",
   "id": "ad9ec95b",
   "metadata": {},
   "source": [
    "# Exercise 2\n",
    "1. Import without headers airquality dataset from the file ‘airquality.csv’ from Moodle.\n",
    "2. Remove 1st column of imported data.\n",
    "3. Count NaN values in each column.\n",
    "4. Extract data from 2nd column without NaN values.\n",
    "5. For each column, replace NaNs with mean value.\n",
    "6. Write a function that returns ozone value according to selected month and day.\n",
    "\n",
    "# Exercise 3\n",
    "1. Import the iris dataset keeping the text intact as a 2D array names irisdata (to keep the text intact, choose the “good” datatype). Url: https://archive.ics.uci.edu/ml/machine-learning-databases/iris/iris.data The columns are sepal length, sepal width, petal length, petal width and species.\n",
    "2. Extract from irisdata the species column as an array of string named species\n",
    "3. Extract from irisdata sepal length column as an array of float values\n",
    "4. Change type of irisdata 1st to 4th column to float and last one to string.\n",
    "5. Find the mean, median, standard deviation of iris’s sepal length (1st column)\n",
    "6. Normalize values of iris’s petal length.\n",
    "7. Create function that normalize values in any column of an array.\n",
    "8. Create function softmax that computes the softmax function (or normalized exponential function) of any column of an array.\n",
    "9. Add to irisdata a new column for volumes.\n",
    "\n",
    "Volume = Pi/3 * petalLength * sepalLength*sepalLength\n",
    "\n",
    "10. Computes mean and standard deviation values of volumes according to species.*\n"
   ]
  },
  {
   "cell_type": "code",
   "execution_count": null,
   "id": "80f5af91",
   "metadata": {},
   "outputs": [],
   "source": []
  }
 ],
 "metadata": {
  "kernelspec": {
   "display_name": "Python 3 (ipykernel)",
   "language": "python",
   "name": "python3"
  },
  "language_info": {
   "codemirror_mode": {
    "name": "ipython",
    "version": 3
   },
   "file_extension": ".py",
   "mimetype": "text/x-python",
   "name": "python",
   "nbconvert_exporter": "python",
   "pygments_lexer": "ipython3",
   "version": "3.10.6"
  }
 },
 "nbformat": 4,
 "nbformat_minor": 5
}
