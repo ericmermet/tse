{
 "cells": [
  {
   "cell_type": "markdown",
   "metadata": {},
   "source": [
    "## Exercice 2: For loop\n",
    "**Question:** Write a loop that enables to calculate the sum of the 23 first integers."
   ]
  },
  {
   "cell_type": "code",
   "execution_count": 2,
   "metadata": {},
   "outputs": [
    {
     "name": "stdout",
     "output_type": "stream",
     "text": [
      "276\n"
     ]
    }
   ],
   "source": [
    "s = 0\n",
    "for i in range(24):\n",
    "    s = s + i\n",
    "print(s)"
   ]
  },
  {
   "cell_type": "markdown",
   "metadata": {},
   "source": [
    "## Exercice 2: While loop\n",
    "**Question:** calculates the factorial of 12 using a while loop."
   ]
  },
  {
   "cell_type": "code",
   "execution_count": 8,
   "metadata": {},
   "outputs": [
    {
     "name": "stdout",
     "output_type": "stream",
     "text": [
      "479001600\n"
     ]
    }
   ],
   "source": [
    "f = 1\n",
    "a = 1\n",
    "while a < 12:\n",
    "    a = a + 1    \n",
    "    f = f * a\n",
    "print(f)"
   ]
  },
  {
   "cell_type": "markdown",
   "metadata": {},
   "source": [
    "## Exercise 4: Condition IF/Then/Else\n",
    "**Question:** Write and test the previous code with different values of a."
   ]
  },
  {
   "cell_type": "code",
   "execution_count": 9,
   "metadata": {},
   "outputs": [
    {
     "name": "stdout",
     "output_type": "stream",
     "text": [
      "2\n"
     ]
    }
   ],
   "source": [
    "a=4\n",
    "if a==0:\n",
    "    print(\"0\")\n",
    "elif a==1:\n",
    "    print(\"1\")\n",
    "else:\n",
    "    print(\"2\")"
   ]
  },
  {
   "cell_type": "markdown",
   "metadata": {},
   "source": [
    "## Exercise 5:\n",
    "**Question:** Write a script that enables to obtain the following result (:\n",
    "```\n",
    "Write a sentence\n",
    "une chaine\n",
    "\n",
    "The inversed sentence is:\n",
    "eniahc enu\n",
    "```"
   ]
  },
  {
   "cell_type": "code",
   "execution_count": 12,
   "metadata": {},
   "outputs": [
    {
     "name": "stdout",
     "output_type": "stream",
     "text": [
      "Write a sentence une chaine\n",
      "une chaine\n",
      "\n",
      "The inversed sentence is:\n",
      "eniahc enu\n"
     ]
    }
   ],
   "source": [
    "s = input(\"Write a sentence \")\n",
    "print(s)\n",
    "print()\n",
    "print(\"The inversed sentence is:\")\n",
    "print(s[::-1])"
   ]
  },
  {
   "cell_type": "markdown",
   "metadata": {},
   "source": [
    "## Exercise 7"
   ]
  },
  {
   "cell_type": "markdown",
   "metadata": {},
   "source": [
    "Write a program that asks the user to enter student marks. If the user enters a negative value, the program stops. On the other hand, for each mark entered, the program progressively builds a list. After each entry of a new mark (and therefore every iteration of the loop), it displays the number of marks entered, the highest mark, the lowest mark, the average of all the marks. \n",
    "\n",
    "Tip: To create an empty list, it is sufficient to set the command line = \\[\\]."
   ]
  },
  {
   "cell_type": "code",
   "execution_count": 13,
   "metadata": {},
   "outputs": [
    {
     "name": "stdout",
     "output_type": "stream",
     "text": [
      "insert a new note \n",
      "23\n",
      "[23]\n",
      "Nb marks :  1\n",
      "Max :  23\n",
      "Min :  23\n",
      "Avg :  23\n",
      "insert a new note \n",
      "12\n",
      "[23, 12]\n",
      "Nb marks :  2\n",
      "Max :  23\n",
      "Min :  12\n",
      "Avg :  17.5\n",
      "insert a new note \n",
      "42\n",
      "[23, 12, 42]\n",
      "Nb marks :  3\n",
      "Max :  42\n",
      "Min :  12\n",
      "Avg :  25.666666666666668\n",
      "insert a new note \n",
      "2222\n",
      "[23, 12, 42, 2222]\n",
      "Nb marks :  4\n",
      "Max :  2222\n",
      "Min :  12\n",
      "Avg :  574.75\n",
      "insert a new note \n",
      "1\n",
      "[23, 12, 42, 2222, 1]\n",
      "Nb marks :  5\n",
      "Max :  2222\n",
      "Min :  1\n",
      "Avg :  460\n",
      "insert a new note \n",
      "-1\n",
      "[23, 12, 42, 2222, 1, -1]\n",
      "Nb marks :  6\n",
      "Max :  2222\n",
      "Min :  -1\n",
      "Avg :  383.1666666666667\n"
     ]
    }
   ],
   "source": [
    "from statistics import mean\n",
    "\n",
    "line = []\n",
    "note =0\n",
    "while(note >= 0):\n",
    "    note = int(input(\"insert a new note \\n\"))\n",
    "    line.append(note)\n",
    "    print(line)\n",
    "    print(\"Nb marks : \",len(line))\n",
    "    print(\"Max : \",max(line))\n",
    "    print(\"Min : \",min(line))\n",
    "   # print(\"Avg : \",np.mean(line))\n",
    "    print(\"Avg : \",mean(line))"
   ]
  },
  {
   "cell_type": "markdown",
   "metadata": {},
   "source": [
    "## Exercise 14"
   ]
  },
  {
   "cell_type": "markdown",
   "metadata": {},
   "source": [
    "**Question:** Define a function that enables to calculate the volume of a sphere (the radius is a parameter of the function)."
   ]
  },
  {
   "cell_type": "code",
   "execution_count": 14,
   "metadata": {},
   "outputs": [],
   "source": [
    "from math import *\n",
    "def volumeSphere(radius):\n",
    "    return ((4*pi / 3) * radius**3)"
   ]
  },
  {
   "cell_type": "code",
   "execution_count": 15,
   "metadata": {},
   "outputs": [
    {
     "data": {
      "text/plain": [
       "33.510321638291124"
      ]
     },
     "execution_count": 15,
     "metadata": {},
     "output_type": "execute_result"
    }
   ],
   "source": [
    "volumeSphere(2)"
   ]
  },
  {
   "cell_type": "markdown",
   "metadata": {},
   "source": [
    "## Exercise 18"
   ]
  },
  {
   "cell_type": "markdown",
   "metadata": {},
   "source": [
    "**Question:** Write a function that computes the sum of the integers passed in parameters."
   ]
  },
  {
   "cell_type": "code",
   "execution_count": 19,
   "metadata": {},
   "outputs": [],
   "source": [
    "def my_sum(*args):\n",
    "    return sum(args)"
   ]
  },
  {
   "cell_type": "code",
   "execution_count": 20,
   "metadata": {},
   "outputs": [
    {
     "data": {
      "text/plain": [
       "8"
      ]
     },
     "execution_count": 20,
     "metadata": {},
     "output_type": "execute_result"
    }
   ],
   "source": [
    "my_sum(1,2,5)"
   ]
  },
  {
   "cell_type": "markdown",
   "metadata": {},
   "source": [
    "## Exercise 22: Copying files"
   ]
  },
  {
   "cell_type": "markdown",
   "metadata": {},
   "source": [
    "**Question:** Write a program that enables to copy a file."
   ]
  },
  {
   "cell_type": "code",
   "execution_count": 25,
   "metadata": {},
   "outputs": [],
   "source": [
    "def copyP(pathRead, pathPaste):\n",
    "    f = open(pathRead,'r') # to open a file in write mode\n",
    "    b = f.readlines() # To read all the lines and store them in a list\n",
    "    f.close()\n",
    "    print(b)\n",
    "    f = open(pathPaste,'w')\n",
    "    for i in range(0,len(b)):\n",
    "        f.write(b[i])\n",
    "    f.close()"
   ]
  },
  {
   "cell_type": "code",
   "execution_count": 26,
   "metadata": {},
   "outputs": [
    {
     "name": "stdout",
     "output_type": "stream",
     "text": [
      "['Hello\\n', 'This is a test to write in a file\\n', ' End']\n"
     ]
    }
   ],
   "source": [
    "from os import chdir\n",
    "chdir(\"/Users/benoitgaudou/Desktop/CoursM1EcoStat - Software/Supports/Tutoriels/\")\n",
    "\n",
    "copyP('test.txt','test2.txt')"
   ]
  },
  {
   "cell_type": "code",
   "execution_count": null,
   "metadata": {},
   "outputs": [],
   "source": []
  }
 ],
 "metadata": {
  "kernelspec": {
   "display_name": "Python 3 (ipykernel)",
   "language": "python",
   "name": "python3"
  },
  "language_info": {
   "codemirror_mode": {
    "name": "ipython",
    "version": 3
   },
   "file_extension": ".py",
   "mimetype": "text/x-python",
   "name": "python",
   "nbconvert_exporter": "python",
   "pygments_lexer": "ipython3",
   "version": "3.10.6"
  }
 },
 "nbformat": 4,
 "nbformat_minor": 4
}
